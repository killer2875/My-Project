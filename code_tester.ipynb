{
 "cells": [
  {
   "cell_type": "code",
   "execution_count": 36,
   "metadata": {},
   "outputs": [],
   "source": [
    "def cleanChangeVal(val):\n",
    "    if isinstance(val,str):\n",
    "        return float(val.replace('%',''))\n",
    "    else:\n",
    "        return val"
   ]
  },
  {
   "cell_type": "code",
   "execution_count": 37,
   "metadata": {},
   "outputs": [],
   "source": [
    "import pandas as pd\n",
    "import numpy as np\n",
    "import seaborn as sns\n",
    "import matplotlib.pyplot as plt\n",
    "from datetime import date\n",
    "import pickle\n"
   ]
  },
  {
   "cell_type": "code",
   "execution_count": 38,
   "metadata": {},
   "outputs": [],
   "source": [
    "from sklearn.impute import SimpleImputer\n",
    "from sklearn.model_selection import train_test_split\n",
    "from sklearn.preprocessing import StandardScaler, LabelEncoder, OneHotEncoder\n",
    "from sklearn.linear_model import LinearRegression\n",
    "from sklearn.neighbors import KNeighborsRegressor\n",
    "from sklearn.ensemble import RandomForestRegressor"
   ]
  },
  {
   "cell_type": "code",
   "execution_count": 39,
   "metadata": {},
   "outputs": [],
   "source": [
    "\n",
    "df = pd.read_csv('datasets/CrudeoilvsDiesel.csv',parse_dates=['Month'],dayfirst=True)\n",
    "df.head()\n",
    "df.columns = ['Month','Crude_Oil_Price','Diesel_Price']"
   ]
  },
  {
   "cell_type": "code",
   "execution_count": 40,
   "metadata": {},
   "outputs": [],
   "source": [
    "df.Month = df.Month.apply(lambda d:d.toordinal())\n",
    "df.Crude_Oil_Price = df.Crude_Oil_Price.apply(lambda val:float(val.replace(',','')))"
   ]
  },
  {
   "cell_type": "code",
   "execution_count": 41,
   "metadata": {},
   "outputs": [
    {
     "output_type": "execute_result",
     "data": {
      "text/plain": "    Month  Crude_Oil_Price  Diesel_Price\n0  732317          3145.13         96.30\n1  732318          3365.75        102.99\n2  732319          3341.97        104.57\n3  732320          2865.03         83.48\n4  732321          2633.08         81.57",
      "text/html": "<div>\n<style scoped>\n    .dataframe tbody tr th:only-of-type {\n        vertical-align: middle;\n    }\n\n    .dataframe tbody tr th {\n        vertical-align: top;\n    }\n\n    .dataframe thead th {\n        text-align: right;\n    }\n</style>\n<table border=\"1\" class=\"dataframe\">\n  <thead>\n    <tr style=\"text-align: right;\">\n      <th></th>\n      <th>Month</th>\n      <th>Crude_Oil_Price</th>\n      <th>Diesel_Price</th>\n    </tr>\n  </thead>\n  <tbody>\n    <tr>\n      <td>0</td>\n      <td>732317</td>\n      <td>3145.13</td>\n      <td>96.30</td>\n    </tr>\n    <tr>\n      <td>1</td>\n      <td>732318</td>\n      <td>3365.75</td>\n      <td>102.99</td>\n    </tr>\n    <tr>\n      <td>2</td>\n      <td>732319</td>\n      <td>3341.97</td>\n      <td>104.57</td>\n    </tr>\n    <tr>\n      <td>3</td>\n      <td>732320</td>\n      <td>2865.03</td>\n      <td>83.48</td>\n    </tr>\n    <tr>\n      <td>4</td>\n      <td>732321</td>\n      <td>2633.08</td>\n      <td>81.57</td>\n    </tr>\n  </tbody>\n</table>\n</div>"
     },
     "metadata": {},
     "execution_count": 41
    }
   ],
   "source": [
    "df.head()"
   ]
  },
  {
   "cell_type": "code",
   "execution_count": 42,
   "metadata": {},
   "outputs": [
    {
     "output_type": "execute_result",
     "data": {
      "text/plain": "<matplotlib.axes._subplots.AxesSubplot at 0x228d3886ac8>"
     },
     "metadata": {},
     "execution_count": 42
    },
    {
     "output_type": "display_data",
     "data": {
      "text/plain": "<Figure size 432x288 with 1 Axes>",
      "image/svg+xml": "<?xml version=\"1.0\" encoding=\"utf-8\" standalone=\"no\"?>\r\n<!DOCTYPE svg PUBLIC \"-//W3C//DTD SVG 1.1//EN\"\r\n  \"http://www.w3.org/Graphics/SVG/1.1/DTD/svg11.dtd\">\r\n<!-- Created with matplotlib (https://matplotlib.org/) -->\r\n<svg height=\"262.19625pt\" version=\"1.1\" viewBox=\"0 0 409.626812 262.19625\" width=\"409.626812pt\" xmlns=\"http://www.w3.org/2000/svg\" xmlns:xlink=\"http://www.w3.org/1999/xlink\">\r\n <defs>\r\n  <style type=\"text/css\">\r\n*{stroke-linecap:butt;stroke-linejoin:round;}\r\n  </style>\r\n </defs>\r\n <g id=\"figure_1\">\r\n  <g id=\"patch_1\">\r\n   <path d=\"M 0 262.19625 \r\nL 409.626812 262.19625 \r\nL 409.626812 0 \r\nL 0 0 \r\nz\r\n\" style=\"fill:none;\"/>\r\n  </g>\r\n  <g id=\"axes_1\">\r\n   <g id=\"patch_2\">\r\n    <path d=\"M 53.60625 224.64 \r\nL 388.40625 224.64 \r\nL 388.40625 7.2 \r\nL 53.60625 7.2 \r\nz\r\n\" style=\"fill:#ffffff;\"/>\r\n   </g>\r\n   <g id=\"PathCollection_1\">\r\n    <defs>\r\n     <path d=\"M 0 3 \r\nC 0.795609 3 1.55874 2.683901 2.12132 2.12132 \r\nC 2.683901 1.55874 3 0.795609 3 0 \r\nC 3 -0.795609 2.683901 -1.55874 2.12132 -2.12132 \r\nC 1.55874 -2.683901 0.795609 -3 0 -3 \r\nC -0.795609 -3 -1.55874 -2.683901 -2.12132 -2.12132 \r\nC -2.683901 -1.55874 -3 -0.795609 -3 0 \r\nC -3 0.795609 -2.683901 1.55874 -2.12132 2.12132 \r\nC -1.55874 2.683901 -0.795609 3 0 3 \r\nz\r\n\" id=\"m9ca65a15e3\" style=\"stroke:#1f77b4;stroke-opacity:0.8;\"/>\r\n    </defs>\r\n    <g clip-path=\"url(#p13e4afd8aa)\">\r\n     <use style=\"fill:#1f77b4;fill-opacity:0.8;stroke:#1f77b4;stroke-opacity:0.8;\" x=\"104.373848\" xlink:href=\"#m9ca65a15e3\" y=\"168.799902\"/>\r\n     <use style=\"fill:#1f77b4;fill-opacity:0.8;stroke:#1f77b4;stroke-opacity:0.8;\" x=\"104.422935\" xlink:href=\"#m9ca65a15e3\" y=\"159.963656\"/>\r\n     <use style=\"fill:#1f77b4;fill-opacity:0.8;stroke:#1f77b4;stroke-opacity:0.8;\" x=\"104.472023\" xlink:href=\"#m9ca65a15e3\" y=\"160.916089\"/>\r\n     <use style=\"fill:#1f77b4;fill-opacity:0.8;stroke:#1f77b4;stroke-opacity:0.8;\" x=\"104.521111\" xlink:href=\"#m9ca65a15e3\" y=\"180.018435\"/>\r\n     <use style=\"fill:#1f77b4;fill-opacity:0.8;stroke:#1f77b4;stroke-opacity:0.8;\" x=\"104.570198\" xlink:href=\"#m9ca65a15e3\" y=\"189.30847\"/>\r\n     <use style=\"fill:#1f77b4;fill-opacity:0.8;stroke:#1f77b4;stroke-opacity:0.8;\" x=\"104.619286\" xlink:href=\"#m9ca65a15e3\" y=\"190.313372\"/>\r\n     <use style=\"fill:#1f77b4;fill-opacity:0.8;stroke:#1f77b4;stroke-opacity:0.8;\" x=\"104.668374\" xlink:href=\"#m9ca65a15e3\" y=\"185.736643\"/>\r\n     <use style=\"fill:#1f77b4;fill-opacity:0.8;stroke:#1f77b4;stroke-opacity:0.8;\" x=\"122.045424\" xlink:href=\"#m9ca65a15e3\" y=\"199.723161\"/>\r\n     <use style=\"fill:#1f77b4;fill-opacity:0.8;stroke:#1f77b4;stroke-opacity:0.8;\" x=\"122.094511\" xlink:href=\"#m9ca65a15e3\" y=\"192.956796\"/>\r\n     <use style=\"fill:#1f77b4;fill-opacity:0.8;stroke:#1f77b4;stroke-opacity:0.8;\" x=\"122.143599\" xlink:href=\"#m9ca65a15e3\" y=\"187.911861\"/>\r\n     <use style=\"fill:#1f77b4;fill-opacity:0.8;stroke:#1f77b4;stroke-opacity:0.8;\" x=\"122.192687\" xlink:href=\"#m9ca65a15e3\" y=\"184.932\"/>\r\n     <use style=\"fill:#1f77b4;fill-opacity:0.8;stroke:#1f77b4;stroke-opacity:0.8;\" x=\"122.241774\" xlink:href=\"#m9ca65a15e3\" y=\"188.309976\"/>\r\n     <use style=\"fill:#1f77b4;fill-opacity:0.8;stroke:#1f77b4;stroke-opacity:0.8;\" x=\"122.290862\" xlink:href=\"#m9ca65a15e3\" y=\"183.44167\"/>\r\n     <use style=\"fill:#1f77b4;fill-opacity:0.8;stroke:#1f77b4;stroke-opacity:0.8;\" x=\"122.33995\" xlink:href=\"#m9ca65a15e3\" y=\"175.628348\"/>\r\n     <use style=\"fill:#1f77b4;fill-opacity:0.8;stroke:#1f77b4;stroke-opacity:0.8;\" x=\"122.389038\" xlink:href=\"#m9ca65a15e3\" y=\"180.118164\"/>\r\n     <use style=\"fill:#1f77b4;fill-opacity:0.8;stroke:#1f77b4;stroke-opacity:0.8;\" x=\"122.438125\" xlink:href=\"#m9ca65a15e3\" y=\"170.747625\"/>\r\n     <use style=\"fill:#1f77b4;fill-opacity:0.8;stroke:#1f77b4;stroke-opacity:0.8;\" x=\"122.487213\" xlink:href=\"#m9ca65a15e3\" y=\"165.044237\"/>\r\n     <use style=\"fill:#1f77b4;fill-opacity:0.8;stroke:#1f77b4;stroke-opacity:0.8;\" x=\"122.536301\" xlink:href=\"#m9ca65a15e3\" y=\"150.483374\"/>\r\n     <use style=\"fill:#1f77b4;fill-opacity:0.8;stroke:#1f77b4;stroke-opacity:0.8;\" x=\"122.585388\" xlink:href=\"#m9ca65a15e3\" y=\"153.358299\"/>\r\n     <use style=\"fill:#1f77b4;fill-opacity:0.8;stroke:#1f77b4;stroke-opacity:0.8;\" x=\"139.962438\" xlink:href=\"#m9ca65a15e3\" y=\"151.754621\"/>\r\n     <use style=\"fill:#1f77b4;fill-opacity:0.8;stroke:#1f77b4;stroke-opacity:0.8;\" x=\"140.011526\" xlink:href=\"#m9ca65a15e3\" y=\"146.162177\"/>\r\n     <use style=\"fill:#1f77b4;fill-opacity:0.8;stroke:#1f77b4;stroke-opacity:0.8;\" x=\"140.060614\" xlink:href=\"#m9ca65a15e3\" y=\"130.158245\"/>\r\n     <use style=\"fill:#1f77b4;fill-opacity:0.8;stroke:#1f77b4;stroke-opacity:0.8;\" x=\"140.109701\" xlink:href=\"#m9ca65a15e3\" y=\"120.393595\"/>\r\n     <use style=\"fill:#1f77b4;fill-opacity:0.8;stroke:#1f77b4;stroke-opacity:0.8;\" x=\"140.158789\" xlink:href=\"#m9ca65a15e3\" y=\"87.866258\"/>\r\n     <use style=\"fill:#1f77b4;fill-opacity:0.8;stroke:#1f77b4;stroke-opacity:0.8;\" x=\"140.207877\" xlink:href=\"#m9ca65a15e3\" y=\"69.208488\"/>\r\n     <use style=\"fill:#1f77b4;fill-opacity:0.8;stroke:#1f77b4;stroke-opacity:0.8;\" x=\"140.256965\" xlink:href=\"#m9ca65a15e3\" y=\"66.873864\"/>\r\n     <use style=\"fill:#1f77b4;fill-opacity:0.8;stroke:#1f77b4;stroke-opacity:0.8;\" x=\"140.306052\" xlink:href=\"#m9ca65a15e3\" y=\"97.732239\"/>\r\n     <use style=\"fill:#1f77b4;fill-opacity:0.8;stroke:#1f77b4;stroke-opacity:0.8;\" x=\"140.35514\" xlink:href=\"#m9ca65a15e3\" y=\"112.896283\"/>\r\n     <use style=\"fill:#1f77b4;fill-opacity:0.8;stroke:#1f77b4;stroke-opacity:0.8;\" x=\"140.404228\" xlink:href=\"#m9ca65a15e3\" y=\"153.152833\"/>\r\n     <use style=\"fill:#1f77b4;fill-opacity:0.8;stroke:#1f77b4;stroke-opacity:0.8;\" x=\"140.453315\" xlink:href=\"#m9ca65a15e3\" y=\"188.842666\"/>\r\n     <use style=\"fill:#1f77b4;fill-opacity:0.8;stroke:#1f77b4;stroke-opacity:0.8;\" x=\"140.502403\" xlink:href=\"#m9ca65a15e3\" y=\"214.229553\"/>\r\n     <use style=\"fill:#1f77b4;fill-opacity:0.8;stroke:#1f77b4;stroke-opacity:0.8;\" x=\"157.928541\" xlink:href=\"#m9ca65a15e3\" y=\"208.972343\"/>\r\n     <use style=\"fill:#1f77b4;fill-opacity:0.8;stroke:#1f77b4;stroke-opacity:0.8;\" x=\"157.977628\" xlink:href=\"#m9ca65a15e3\" y=\"212.283032\"/>\r\n     <use style=\"fill:#1f77b4;fill-opacity:0.8;stroke:#1f77b4;stroke-opacity:0.8;\" x=\"158.026716\" xlink:href=\"#m9ca65a15e3\" y=\"198.974191\"/>\r\n     <use style=\"fill:#1f77b4;fill-opacity:0.8;stroke:#1f77b4;stroke-opacity:0.8;\" x=\"158.075804\" xlink:href=\"#m9ca65a15e3\" y=\"193.934462\"/>\r\n     <use style=\"fill:#1f77b4;fill-opacity:0.8;stroke:#1f77b4;stroke-opacity:0.8;\" x=\"158.124892\" xlink:href=\"#m9ca65a15e3\" y=\"181.731855\"/>\r\n     <use style=\"fill:#1f77b4;fill-opacity:0.8;stroke:#1f77b4;stroke-opacity:0.8;\" x=\"158.173979\" xlink:href=\"#m9ca65a15e3\" y=\"162.454883\"/>\r\n     <use style=\"fill:#1f77b4;fill-opacity:0.8;stroke:#1f77b4;stroke-opacity:0.8;\" x=\"158.223067\" xlink:href=\"#m9ca65a15e3\" y=\"169.125524\"/>\r\n     <use style=\"fill:#1f77b4;fill-opacity:0.8;stroke:#1f77b4;stroke-opacity:0.8;\" x=\"158.272155\" xlink:href=\"#m9ca65a15e3\" y=\"156.145109\"/>\r\n     <use style=\"fill:#1f77b4;fill-opacity:0.8;stroke:#1f77b4;stroke-opacity:0.8;\" x=\"158.321242\" xlink:href=\"#m9ca65a15e3\" y=\"162.164507\"/>\r\n     <use style=\"fill:#1f77b4;fill-opacity:0.8;stroke:#1f77b4;stroke-opacity:0.8;\" x=\"158.37033\" xlink:href=\"#m9ca65a15e3\" y=\"156.144708\"/>\r\n     <use style=\"fill:#1f77b4;fill-opacity:0.8;stroke:#1f77b4;stroke-opacity:0.8;\" x=\"158.419418\" xlink:href=\"#m9ca65a15e3\" y=\"150.123709\"/>\r\n     <use style=\"fill:#1f77b4;fill-opacity:0.8;stroke:#1f77b4;stroke-opacity:0.8;\" x=\"158.468506\" xlink:href=\"#m9ca65a15e3\" y=\"154.921123\"/>\r\n     <use style=\"fill:#1f77b4;fill-opacity:0.8;stroke:#1f77b4;stroke-opacity:0.8;\" x=\"175.845555\" xlink:href=\"#m9ca65a15e3\" y=\"152.909317\"/>\r\n     <use style=\"fill:#1f77b4;fill-opacity:0.8;stroke:#1f77b4;stroke-opacity:0.8;\" x=\"175.894643\" xlink:href=\"#m9ca65a15e3\" y=\"156.055793\"/>\r\n     <use style=\"fill:#1f77b4;fill-opacity:0.8;stroke:#1f77b4;stroke-opacity:0.8;\" x=\"175.943731\" xlink:href=\"#m9ca65a15e3\" y=\"150.261487\"/>\r\n     <use style=\"fill:#1f77b4;fill-opacity:0.8;stroke:#1f77b4;stroke-opacity:0.8;\" x=\"175.992819\" xlink:href=\"#m9ca65a15e3\" y=\"144.737131\"/>\r\n     <use style=\"fill:#1f77b4;fill-opacity:0.8;stroke:#1f77b4;stroke-opacity:0.8;\" x=\"176.041906\" xlink:href=\"#m9ca65a15e3\" y=\"156.141905\"/>\r\n     <use style=\"fill:#1f77b4;fill-opacity:0.8;stroke:#1f77b4;stroke-opacity:0.8;\" x=\"176.090994\" xlink:href=\"#m9ca65a15e3\" y=\"155.39694\"/>\r\n     <use style=\"fill:#1f77b4;fill-opacity:0.8;stroke:#1f77b4;stroke-opacity:0.8;\" x=\"176.140082\" xlink:href=\"#m9ca65a15e3\" y=\"154.758112\"/>\r\n     <use style=\"fill:#1f77b4;fill-opacity:0.8;stroke:#1f77b4;stroke-opacity:0.8;\" x=\"176.189169\" xlink:href=\"#m9ca65a15e3\" y=\"153.339474\"/>\r\n     <use style=\"fill:#1f77b4;fill-opacity:0.8;stroke:#1f77b4;stroke-opacity:0.8;\" x=\"176.238257\" xlink:href=\"#m9ca65a15e3\" y=\"154.413666\"/>\r\n     <use style=\"fill:#1f77b4;fill-opacity:0.8;stroke:#1f77b4;stroke-opacity:0.8;\" x=\"176.287345\" xlink:href=\"#m9ca65a15e3\" y=\"149.387955\"/>\r\n     <use style=\"fill:#1f77b4;fill-opacity:0.8;stroke:#1f77b4;stroke-opacity:0.8;\" x=\"176.336433\" xlink:href=\"#m9ca65a15e3\" y=\"142.833064\"/>\r\n     <use style=\"fill:#1f77b4;fill-opacity:0.8;stroke:#1f77b4;stroke-opacity:0.8;\" x=\"176.38552\" xlink:href=\"#m9ca65a15e3\" y=\"131.930941\"/>\r\n     <use style=\"fill:#1f77b4;fill-opacity:0.8;stroke:#1f77b4;stroke-opacity:0.8;\" x=\"193.76257\" xlink:href=\"#m9ca65a15e3\" y=\"126.283625\"/>\r\n     <use style=\"fill:#1f77b4;fill-opacity:0.8;stroke:#1f77b4;stroke-opacity:0.8;\" x=\"193.811658\" xlink:href=\"#m9ca65a15e3\" y=\"116.517374\"/>\r\n     <use style=\"fill:#1f77b4;fill-opacity:0.8;stroke:#1f77b4;stroke-opacity:0.8;\" x=\"193.860746\" xlink:href=\"#m9ca65a15e3\" y=\"98.990269\"/>\r\n     <use style=\"fill:#1f77b4;fill-opacity:0.8;stroke:#1f77b4;stroke-opacity:0.8;\" x=\"193.909833\" xlink:href=\"#m9ca65a15e3\" y=\"88.124593\"/>\r\n     <use style=\"fill:#1f77b4;fill-opacity:0.8;stroke:#1f77b4;stroke-opacity:0.8;\" x=\"193.958921\" xlink:href=\"#m9ca65a15e3\" y=\"100.444553\"/>\r\n     <use style=\"fill:#1f77b4;fill-opacity:0.8;stroke:#1f77b4;stroke-opacity:0.8;\" x=\"194.008009\" xlink:href=\"#m9ca65a15e3\" y=\"104.619161\"/>\r\n     <use style=\"fill:#1f77b4;fill-opacity:0.8;stroke:#1f77b4;stroke-opacity:0.8;\" x=\"194.057096\" xlink:href=\"#m9ca65a15e3\" y=\"102.787588\"/>\r\n     <use style=\"fill:#1f77b4;fill-opacity:0.8;stroke:#1f77b4;stroke-opacity:0.8;\" x=\"194.106184\" xlink:href=\"#m9ca65a15e3\" y=\"112.530609\"/>\r\n     <use style=\"fill:#1f77b4;fill-opacity:0.8;stroke:#1f77b4;stroke-opacity:0.8;\" x=\"194.155272\" xlink:href=\"#m9ca65a15e3\" y=\"102.041421\"/>\r\n     <use style=\"fill:#1f77b4;fill-opacity:0.8;stroke:#1f77b4;stroke-opacity:0.8;\" x=\"194.20436\" xlink:href=\"#m9ca65a15e3\" y=\"97.84879\"/>\r\n     <use style=\"fill:#1f77b4;fill-opacity:0.8;stroke:#1f77b4;stroke-opacity:0.8;\" x=\"194.253447\" xlink:href=\"#m9ca65a15e3\" y=\"80.759452\"/>\r\n     <use style=\"fill:#1f77b4;fill-opacity:0.8;stroke:#1f77b4;stroke-opacity:0.8;\" x=\"194.302535\" xlink:href=\"#m9ca65a15e3\" y=\"75.01481\"/>\r\n     <use style=\"fill:#1f77b4;fill-opacity:0.8;stroke:#1f77b4;stroke-opacity:0.8;\" x=\"211.679585\" xlink:href=\"#m9ca65a15e3\" y=\"75.086904\"/>\r\n     <use style=\"fill:#1f77b4;fill-opacity:0.8;stroke:#1f77b4;stroke-opacity:0.8;\" x=\"211.728673\" xlink:href=\"#m9ca65a15e3\" y=\"72.870432\"/>\r\n     <use style=\"fill:#1f77b4;fill-opacity:0.8;stroke:#1f77b4;stroke-opacity:0.8;\" x=\"211.77776\" xlink:href=\"#m9ca65a15e3\" y=\"57.358738\"/>\r\n     <use style=\"fill:#1f77b4;fill-opacity:0.8;stroke:#1f77b4;stroke-opacity:0.8;\" x=\"211.826848\" xlink:href=\"#m9ca65a15e3\" y=\"58.923164\"/>\r\n     <use style=\"fill:#1f77b4;fill-opacity:0.8;stroke:#1f77b4;stroke-opacity:0.8;\" x=\"211.875936\" xlink:href=\"#m9ca65a15e3\" y=\"68.23723\"/>\r\n     <use style=\"fill:#1f77b4;fill-opacity:0.8;stroke:#1f77b4;stroke-opacity:0.8;\" x=\"211.925023\" xlink:href=\"#m9ca65a15e3\" y=\"91.160526\"/>\r\n     <use style=\"fill:#1f77b4;fill-opacity:0.8;stroke:#1f77b4;stroke-opacity:0.8;\" x=\"211.974111\" xlink:href=\"#m9ca65a15e3\" y=\"79.601952\"/>\r\n     <use style=\"fill:#1f77b4;fill-opacity:0.8;stroke:#1f77b4;stroke-opacity:0.8;\" x=\"212.023199\" xlink:href=\"#m9ca65a15e3\" y=\"60.514826\"/>\r\n     <use style=\"fill:#1f77b4;fill-opacity:0.8;stroke:#1f77b4;stroke-opacity:0.8;\" x=\"212.072287\" xlink:href=\"#m9ca65a15e3\" y=\"62.528235\"/>\r\n     <use style=\"fill:#1f77b4;fill-opacity:0.8;stroke:#1f77b4;stroke-opacity:0.8;\" x=\"212.121374\" xlink:href=\"#m9ca65a15e3\" y=\"75.426944\"/>\r\n     <use style=\"fill:#1f77b4;fill-opacity:0.8;stroke:#1f77b4;stroke-opacity:0.8;\" x=\"212.170462\" xlink:href=\"#m9ca65a15e3\" y=\"73.040653\"/>\r\n     <use style=\"fill:#1f77b4;fill-opacity:0.8;stroke:#1f77b4;stroke-opacity:0.8;\" x=\"212.21955\" xlink:href=\"#m9ca65a15e3\" y=\"73.41674\"/>\r\n     <use style=\"fill:#1f77b4;fill-opacity:0.8;stroke:#1f77b4;stroke-opacity:0.8;\" x=\"229.645687\" xlink:href=\"#m9ca65a15e3\" y=\"66.139313\"/>\r\n     <use style=\"fill:#1f77b4;fill-opacity:0.8;stroke:#1f77b4;stroke-opacity:0.8;\" x=\"229.694775\" xlink:href=\"#m9ca65a15e3\" y=\"63.070537\"/>\r\n     <use style=\"fill:#1f77b4;fill-opacity:0.8;stroke:#1f77b4;stroke-opacity:0.8;\" x=\"229.743863\" xlink:href=\"#m9ca65a15e3\" y=\"71.445386\"/>\r\n     <use style=\"fill:#1f77b4;fill-opacity:0.8;stroke:#1f77b4;stroke-opacity:0.8;\" x=\"229.79295\" xlink:href=\"#m9ca65a15e3\" y=\"79.487805\"/>\r\n     <use style=\"fill:#1f77b4;fill-opacity:0.8;stroke:#1f77b4;stroke-opacity:0.8;\" x=\"229.842038\" xlink:href=\"#m9ca65a15e3\" y=\"75.738147\"/>\r\n     <use style=\"fill:#1f77b4;fill-opacity:0.8;stroke:#1f77b4;stroke-opacity:0.8;\" x=\"229.891126\" xlink:href=\"#m9ca65a15e3\" y=\"61.758838\"/>\r\n     <use style=\"fill:#1f77b4;fill-opacity:0.8;stroke:#1f77b4;stroke-opacity:0.8;\" x=\"229.940213\" xlink:href=\"#m9ca65a15e3\" y=\"42.746609\"/>\r\n     <use style=\"fill:#1f77b4;fill-opacity:0.8;stroke:#1f77b4;stroke-opacity:0.8;\" x=\"229.989301\" xlink:href=\"#m9ca65a15e3\" y=\"20.946769\"/>\r\n     <use style=\"fill:#1f77b4;fill-opacity:0.8;stroke:#1f77b4;stroke-opacity:0.8;\" x=\"230.038389\" xlink:href=\"#m9ca65a15e3\" y=\"17.335691\"/>\r\n     <use style=\"fill:#1f77b4;fill-opacity:0.8;stroke:#1f77b4;stroke-opacity:0.8;\" x=\"230.087477\" xlink:href=\"#m9ca65a15e3\" y=\"34.520352\"/>\r\n     <use style=\"fill:#1f77b4;fill-opacity:0.8;stroke:#1f77b4;stroke-opacity:0.8;\" x=\"230.136564\" xlink:href=\"#m9ca65a15e3\" y=\"37.003169\"/>\r\n     <use style=\"fill:#1f77b4;fill-opacity:0.8;stroke:#1f77b4;stroke-opacity:0.8;\" x=\"230.185652\" xlink:href=\"#m9ca65a15e3\" y=\"33.058058\"/>\r\n     <use style=\"fill:#1f77b4;fill-opacity:0.8;stroke:#1f77b4;stroke-opacity:0.8;\" x=\"247.562702\" xlink:href=\"#m9ca65a15e3\" y=\"40.679131\"/>\r\n     <use style=\"fill:#1f77b4;fill-opacity:0.8;stroke:#1f77b4;stroke-opacity:0.8;\" x=\"247.61179\" xlink:href=\"#m9ca65a15e3\" y=\"33.258317\"/>\r\n     <use style=\"fill:#1f77b4;fill-opacity:0.8;stroke:#1f77b4;stroke-opacity:0.8;\" x=\"247.660877\" xlink:href=\"#m9ca65a15e3\" y=\"40.719182\"/>\r\n     <use style=\"fill:#1f77b4;fill-opacity:0.8;stroke:#1f77b4;stroke-opacity:0.8;\" x=\"247.709965\" xlink:href=\"#m9ca65a15e3\" y=\"41.255878\"/>\r\n     <use style=\"fill:#1f77b4;fill-opacity:0.8;stroke:#1f77b4;stroke-opacity:0.8;\" x=\"247.759053\" xlink:href=\"#m9ca65a15e3\" y=\"43.517608\"/>\r\n     <use style=\"fill:#1f77b4;fill-opacity:0.8;stroke:#1f77b4;stroke-opacity:0.8;\" x=\"247.80814\" xlink:href=\"#m9ca65a15e3\" y=\"35.590539\"/>\r\n     <use style=\"fill:#1f77b4;fill-opacity:0.8;stroke:#1f77b4;stroke-opacity:0.8;\" x=\"247.857228\" xlink:href=\"#m9ca65a15e3\" y=\"41.619949\"/>\r\n     <use style=\"fill:#1f77b4;fill-opacity:0.8;stroke:#1f77b4;stroke-opacity:0.8;\" x=\"247.906316\" xlink:href=\"#m9ca65a15e3\" y=\"50.749776\"/>\r\n     <use style=\"fill:#1f77b4;fill-opacity:0.8;stroke:#1f77b4;stroke-opacity:0.8;\" x=\"247.955404\" xlink:href=\"#m9ca65a15e3\" y=\"61.037904\"/>\r\n     <use style=\"fill:#1f77b4;fill-opacity:0.8;stroke:#1f77b4;stroke-opacity:0.8;\" x=\"248.004491\" xlink:href=\"#m9ca65a15e3\" y=\"83.260692\"/>\r\n     <use style=\"fill:#1f77b4;fill-opacity:0.8;stroke:#1f77b4;stroke-opacity:0.8;\" x=\"248.053579\" xlink:href=\"#m9ca65a15e3\" y=\"104.580711\"/>\r\n     <use style=\"fill:#1f77b4;fill-opacity:0.8;stroke:#1f77b4;stroke-opacity:0.8;\" x=\"248.102667\" xlink:href=\"#m9ca65a15e3\" y=\"142.308785\"/>\r\n     <use style=\"fill:#1f77b4;fill-opacity:0.8;stroke:#1f77b4;stroke-opacity:0.8;\" x=\"265.479717\" xlink:href=\"#m9ca65a15e3\" y=\"177.528409\"/>\r\n     <use style=\"fill:#1f77b4;fill-opacity:0.8;stroke:#1f77b4;stroke-opacity:0.8;\" x=\"265.528804\" xlink:href=\"#m9ca65a15e3\" y=\"158.651556\"/>\r\n     <use style=\"fill:#1f77b4;fill-opacity:0.8;stroke:#1f77b4;stroke-opacity:0.8;\" x=\"265.577892\" xlink:href=\"#m9ca65a15e3\" y=\"162.627907\"/>\r\n     <use style=\"fill:#1f77b4;fill-opacity:0.8;stroke:#1f77b4;stroke-opacity:0.8;\" x=\"265.62698\" xlink:href=\"#m9ca65a15e3\" y=\"150.139729\"/>\r\n     <use style=\"fill:#1f77b4;fill-opacity:0.8;stroke:#1f77b4;stroke-opacity:0.8;\" x=\"265.676067\" xlink:href=\"#m9ca65a15e3\" y=\"135.01013\"/>\r\n     <use style=\"fill:#1f77b4;fill-opacity:0.8;stroke:#1f77b4;stroke-opacity:0.8;\" x=\"265.725155\" xlink:href=\"#m9ca65a15e3\" y=\"137.953142\"/>\r\n     <use style=\"fill:#1f77b4;fill-opacity:0.8;stroke:#1f77b4;stroke-opacity:0.8;\" x=\"265.774243\" xlink:href=\"#m9ca65a15e3\" y=\"156.248443\"/>\r\n     <use style=\"fill:#1f77b4;fill-opacity:0.8;stroke:#1f77b4;stroke-opacity:0.8;\" x=\"265.823331\" xlink:href=\"#m9ca65a15e3\" y=\"175.687625\"/>\r\n     <use style=\"fill:#1f77b4;fill-opacity:0.8;stroke:#1f77b4;stroke-opacity:0.8;\" x=\"265.872418\" xlink:href=\"#m9ca65a15e3\" y=\"172.032089\"/>\r\n     <use style=\"fill:#1f77b4;fill-opacity:0.8;stroke:#1f77b4;stroke-opacity:0.8;\" x=\"265.921506\" xlink:href=\"#m9ca65a15e3\" y=\"172.371729\"/>\r\n     <use style=\"fill:#1f77b4;fill-opacity:0.8;stroke:#1f77b4;stroke-opacity:0.8;\" x=\"265.970594\" xlink:href=\"#m9ca65a15e3\" y=\"180.723348\"/>\r\n     <use style=\"fill:#1f77b4;fill-opacity:0.8;stroke:#1f77b4;stroke-opacity:0.8;\" x=\"266.019681\" xlink:href=\"#m9ca65a15e3\" y=\"197.225926\"/>\r\n     <use style=\"fill:#1f77b4;fill-opacity:0.8;stroke:#1f77b4;stroke-opacity:0.8;\" x=\"283.396731\" xlink:href=\"#m9ca65a15e3\" y=\"214.504309\"/>\r\n     <use style=\"fill:#1f77b4;fill-opacity:0.8;stroke:#1f77b4;stroke-opacity:0.8;\" x=\"283.445819\" xlink:href=\"#m9ca65a15e3\" y=\"209.955216\"/>\r\n     <use style=\"fill:#1f77b4;fill-opacity:0.8;stroke:#1f77b4;stroke-opacity:0.8;\" x=\"283.494907\" xlink:href=\"#m9ca65a15e3\" y=\"194.48037\"/>\r\n     <use style=\"fill:#1f77b4;fill-opacity:0.8;stroke:#1f77b4;stroke-opacity:0.8;\" x=\"283.543994\" xlink:href=\"#m9ca65a15e3\" y=\"186.28255\"/>\r\n     <use style=\"fill:#1f77b4;fill-opacity:0.8;stroke:#1f77b4;stroke-opacity:0.8;\" x=\"283.593082\" xlink:href=\"#m9ca65a15e3\" y=\"171.698858\"/>\r\n     <use style=\"fill:#1f77b4;fill-opacity:0.8;stroke:#1f77b4;stroke-opacity:0.8;\" x=\"283.64217\" xlink:href=\"#m9ca65a15e3\" y=\"166.255406\"/>\r\n     <use style=\"fill:#1f77b4;fill-opacity:0.8;stroke:#1f77b4;stroke-opacity:0.8;\" x=\"283.691258\" xlink:href=\"#m9ca65a15e3\" y=\"175.963182\"/>\r\n     <use style=\"fill:#1f77b4;fill-opacity:0.8;stroke:#1f77b4;stroke-opacity:0.8;\" x=\"283.740345\" xlink:href=\"#m9ca65a15e3\" y=\"174.446016\"/>\r\n     <use style=\"fill:#1f77b4;fill-opacity:0.8;stroke:#1f77b4;stroke-opacity:0.8;\" x=\"283.789433\" xlink:href=\"#m9ca65a15e3\" y=\"174.370318\"/>\r\n     <use style=\"fill:#1f77b4;fill-opacity:0.8;stroke:#1f77b4;stroke-opacity:0.8;\" x=\"283.838521\" xlink:href=\"#m9ca65a15e3\" y=\"162.979162\"/>\r\n     <use style=\"fill:#1f77b4;fill-opacity:0.8;stroke:#1f77b4;stroke-opacity:0.8;\" x=\"283.887608\" xlink:href=\"#m9ca65a15e3\" y=\"172.358112\"/>\r\n     <use style=\"fill:#1f77b4;fill-opacity:0.8;stroke:#1f77b4;stroke-opacity:0.8;\" x=\"283.936696\" xlink:href=\"#m9ca65a15e3\" y=\"151.669311\"/>\r\n     <use style=\"fill:#1f77b4;fill-opacity:0.8;stroke:#1f77b4;stroke-opacity:0.8;\" x=\"301.362834\" xlink:href=\"#m9ca65a15e3\" y=\"148.583313\"/>\r\n     <use style=\"fill:#1f77b4;fill-opacity:0.8;stroke:#1f77b4;stroke-opacity:0.8;\" x=\"301.411921\" xlink:href=\"#m9ca65a15e3\" y=\"148.697861\"/>\r\n     <use style=\"fill:#1f77b4;fill-opacity:0.8;stroke:#1f77b4;stroke-opacity:0.8;\" x=\"301.461009\" xlink:href=\"#m9ca65a15e3\" y=\"160.390609\"/>\r\n     <use style=\"fill:#1f77b4;fill-opacity:0.8;stroke:#1f77b4;stroke-opacity:0.8;\" x=\"301.510097\" xlink:href=\"#m9ca65a15e3\" y=\"159.992092\"/>\r\n     <use style=\"fill:#1f77b4;fill-opacity:0.8;stroke:#1f77b4;stroke-opacity:0.8;\" x=\"301.559185\" xlink:href=\"#m9ca65a15e3\" y=\"166.048338\"/>\r\n     <use style=\"fill:#1f77b4;fill-opacity:0.8;stroke:#1f77b4;stroke-opacity:0.8;\" x=\"301.608272\" xlink:href=\"#m9ca65a15e3\" y=\"175.613529\"/>\r\n     <use style=\"fill:#1f77b4;fill-opacity:0.8;stroke:#1f77b4;stroke-opacity:0.8;\" x=\"301.65736\" xlink:href=\"#m9ca65a15e3\" y=\"171.759737\"/>\r\n     <use style=\"fill:#1f77b4;fill-opacity:0.8;stroke:#1f77b4;stroke-opacity:0.8;\" x=\"301.706448\" xlink:href=\"#m9ca65a15e3\" y=\"166.824143\"/>\r\n     <use style=\"fill:#1f77b4;fill-opacity:0.8;stroke:#1f77b4;stroke-opacity:0.8;\" x=\"301.755535\" xlink:href=\"#m9ca65a15e3\" y=\"158.063594\"/>\r\n     <use style=\"fill:#1f77b4;fill-opacity:0.8;stroke:#1f77b4;stroke-opacity:0.8;\" x=\"301.804623\" xlink:href=\"#m9ca65a15e3\" y=\"151.601623\"/>\r\n     <use style=\"fill:#1f77b4;fill-opacity:0.8;stroke:#1f77b4;stroke-opacity:0.8;\" x=\"301.853711\" xlink:href=\"#m9ca65a15e3\" y=\"139.054169\"/>\r\n     <use style=\"fill:#1f77b4;fill-opacity:0.8;stroke:#1f77b4;stroke-opacity:0.8;\" x=\"301.902799\" xlink:href=\"#m9ca65a15e3\" y=\"137.324728\"/>\r\n     <use style=\"fill:#1f77b4;fill-opacity:0.8;stroke:#1f77b4;stroke-opacity:0.8;\" x=\"319.279848\" xlink:href=\"#m9ca65a15e3\" y=\"125.943184\"/>\r\n     <use style=\"fill:#1f77b4;fill-opacity:0.8;stroke:#1f77b4;stroke-opacity:0.8;\" x=\"319.328936\" xlink:href=\"#m9ca65a15e3\" y=\"131.149929\"/>\r\n     <use style=\"fill:#1f77b4;fill-opacity:0.8;stroke:#1f77b4;stroke-opacity:0.8;\" x=\"319.378024\" xlink:href=\"#m9ca65a15e3\" y=\"127.683038\"/>\r\n     <use style=\"fill:#1f77b4;fill-opacity:0.8;stroke:#1f77b4;stroke-opacity:0.8;\" x=\"319.427112\" xlink:href=\"#m9ca65a15e3\" y=\"113.856727\"/>\r\n     <use style=\"fill:#1f77b4;fill-opacity:0.8;stroke:#1f77b4;stroke-opacity:0.8;\" x=\"319.476199\" xlink:href=\"#m9ca65a15e3\" y=\"96.120952\"/>\r\n     <use style=\"fill:#1f77b4;fill-opacity:0.8;stroke:#1f77b4;stroke-opacity:0.8;\" x=\"319.525287\" xlink:href=\"#m9ca65a15e3\" y=\"99.325102\"/>\r\n     <use style=\"fill:#1f77b4;fill-opacity:0.8;stroke:#1f77b4;stroke-opacity:0.8;\" x=\"319.574375\" xlink:href=\"#m9ca65a15e3\" y=\"94.808852\"/>\r\n     <use style=\"fill:#1f77b4;fill-opacity:0.8;stroke:#1f77b4;stroke-opacity:0.8;\" x=\"319.623462\" xlink:href=\"#m9ca65a15e3\" y=\"96.810645\"/>\r\n     <use style=\"fill:#1f77b4;fill-opacity:0.8;stroke:#1f77b4;stroke-opacity:0.8;\" x=\"319.67255\" xlink:href=\"#m9ca65a15e3\" y=\"76.543591\"/>\r\n     <use style=\"fill:#1f77b4;fill-opacity:0.8;stroke:#1f77b4;stroke-opacity:0.8;\" x=\"319.721638\" xlink:href=\"#m9ca65a15e3\" y=\"68.527606\"/>\r\n     <use style=\"fill:#1f77b4;fill-opacity:0.8;stroke:#1f77b4;stroke-opacity:0.8;\" x=\"319.770726\" xlink:href=\"#m9ca65a15e3\" y=\"115.492446\"/>\r\n     <use style=\"fill:#1f77b4;fill-opacity:0.8;stroke:#1f77b4;stroke-opacity:0.8;\" x=\"319.819813\" xlink:href=\"#m9ca65a15e3\" y=\"141.68718\"/>\r\n     <use style=\"fill:#1f77b4;fill-opacity:0.8;stroke:#1f77b4;stroke-opacity:0.8;\" x=\"337.196863\" xlink:href=\"#m9ca65a15e3\" y=\"134.437388\"/>\r\n     <use style=\"fill:#1f77b4;fill-opacity:0.8;stroke:#1f77b4;stroke-opacity:0.8;\" x=\"337.245951\" xlink:href=\"#m9ca65a15e3\" y=\"120.424836\"/>\r\n     <use style=\"fill:#1f77b4;fill-opacity:0.8;stroke:#1f77b4;stroke-opacity:0.8;\" x=\"337.295038\" xlink:href=\"#m9ca65a15e3\" y=\"117.256732\"/>\r\n     <use style=\"fill:#1f77b4;fill-opacity:0.8;stroke:#1f77b4;stroke-opacity:0.8;\" x=\"337.344126\" xlink:href=\"#m9ca65a15e3\" y=\"104.068047\"/>\r\n     <use style=\"fill:#1f77b4;fill-opacity:0.8;stroke:#1f77b4;stroke-opacity:0.8;\" x=\"337.393214\" xlink:href=\"#m9ca65a15e3\" y=\"107.965495\"/>\r\n     <use style=\"fill:#1f77b4;fill-opacity:0.8;stroke:#1f77b4;stroke-opacity:0.8;\" x=\"337.442302\" xlink:href=\"#m9ca65a15e3\" y=\"128.566182\"/>\r\n     <use style=\"fill:#1f77b4;fill-opacity:0.8;stroke:#1f77b4;stroke-opacity:0.8;\" x=\"337.491389\" xlink:href=\"#m9ca65a15e3\" y=\"125.340003\"/>\r\n     <use style=\"fill:#1f77b4;fill-opacity:0.8;stroke:#1f77b4;stroke-opacity:0.8;\" x=\"337.540477\" xlink:href=\"#m9ca65a15e3\" y=\"130.436605\"/>\r\n     <use style=\"fill:#1f77b4;fill-opacity:0.8;stroke:#1f77b4;stroke-opacity:0.8;\" x=\"337.589565\" xlink:href=\"#m9ca65a15e3\" y=\"123.231271\"/>\r\n     <use style=\"fill:#1f77b4;fill-opacity:0.8;stroke:#1f77b4;stroke-opacity:0.8;\" x=\"337.638652\" xlink:href=\"#m9ca65a15e3\" y=\"131.791561\"/>\r\n    </g>\r\n   </g>\r\n   <g id=\"PolyCollection_1\">\r\n    <path clip-path=\"url(#p13e4afd8aa)\" d=\"M 53.60625 134.647424 \r\nL 53.60625 165.544299 \r\nL 56.988068 164.891662 \r\nL 60.369886 164.243694 \r\nL 63.751705 163.609007 \r\nL 67.133523 162.972119 \r\nL 70.515341 162.335231 \r\nL 73.897159 161.693321 \r\nL 77.278977 161.008037 \r\nL 80.660795 160.308606 \r\nL 84.042614 159.654498 \r\nL 87.424432 159.005334 \r\nL 90.80625 158.328991 \r\nL 94.188068 157.698336 \r\nL 97.569886 157.08705 \r\nL 100.951705 156.484363 \r\nL 104.333523 155.933105 \r\nL 107.715341 155.34316 \r\nL 111.097159 154.716189 \r\nL 114.478977 154.102063 \r\nL 117.860795 153.48683 \r\nL 121.242614 152.85956 \r\nL 124.624432 152.303482 \r\nL 128.00625 151.781167 \r\nL 131.388068 151.160951 \r\nL 134.769886 150.628856 \r\nL 138.151705 149.862906 \r\nL 141.533523 149.254732 \r\nL 144.915341 148.653053 \r\nL 148.297159 147.964482 \r\nL 151.678977 147.437502 \r\nL 155.060795 146.788723 \r\nL 158.442614 146.327396 \r\nL 161.824432 145.743177 \r\nL 165.20625 145.325647 \r\nL 168.588068 144.782701 \r\nL 171.969886 144.302594 \r\nL 175.351705 143.822511 \r\nL 178.733523 143.29914 \r\nL 182.115341 142.822007 \r\nL 185.497159 142.250033 \r\nL 188.878977 141.644888 \r\nL 192.260795 140.998695 \r\nL 195.642614 140.425864 \r\nL 199.024432 140.10039 \r\nL 202.40625 139.627796 \r\nL 205.788068 139.169349 \r\nL 209.169886 138.610856 \r\nL 212.551705 138.09226 \r\nL 215.933523 137.705581 \r\nL 219.315341 137.125519 \r\nL 222.697159 136.543935 \r\nL 226.078977 136.07324 \r\nL 229.460795 135.542009 \r\nL 232.842614 135.093431 \r\nL 236.224432 134.830586 \r\nL 239.60625 134.561393 \r\nL 242.988068 134.117352 \r\nL 246.369886 133.637696 \r\nL 249.751705 133.098825 \r\nL 253.133523 132.727555 \r\nL 256.515341 132.326385 \r\nL 259.897159 131.85963 \r\nL 263.278977 131.689466 \r\nL 266.660795 131.411264 \r\nL 270.042614 130.955783 \r\nL 273.424432 130.682217 \r\nL 276.80625 130.414017 \r\nL 280.188068 130.143295 \r\nL 283.569886 129.954312 \r\nL 286.951705 129.601973 \r\nL 290.333523 129.331064 \r\nL 293.715341 129.014043 \r\nL 297.097159 128.790788 \r\nL 300.478977 128.522714 \r\nL 303.860795 128.257341 \r\nL 307.242614 127.945509 \r\nL 310.624432 127.555574 \r\nL 314.00625 127.394845 \r\nL 317.388068 127.155569 \r\nL 320.769886 126.903325 \r\nL 324.151705 126.632593 \r\nL 327.533523 126.377717 \r\nL 330.915341 126.166228 \r\nL 334.297159 125.821726 \r\nL 337.678977 125.486323 \r\nL 341.060795 125.281869 \r\nL 344.442614 125.014121 \r\nL 347.824432 124.77239 \r\nL 351.20625 124.536618 \r\nL 354.588068 124.307447 \r\nL 357.969886 124.077445 \r\nL 361.351705 123.845534 \r\nL 364.733523 123.613189 \r\nL 368.115341 123.380844 \r\nL 371.497159 123.209906 \r\nL 374.878977 123.041918 \r\nL 378.260795 122.871437 \r\nL 381.642614 122.700957 \r\nL 385.024432 122.500685 \r\nL 388.40625 122.365524 \r\nL 388.40625 90.377925 \r\nL 388.40625 90.377925 \r\nL 385.024432 91.103696 \r\nL 381.642614 91.830176 \r\nL 378.260795 92.402685 \r\nL 374.878977 92.951318 \r\nL 371.497159 93.694532 \r\nL 368.115341 94.443002 \r\nL 364.733523 95.191471 \r\nL 361.351705 95.93994 \r\nL 357.969886 96.641361 \r\nL 354.588068 97.291441 \r\nL 351.20625 97.978634 \r\nL 347.824432 98.657707 \r\nL 344.442614 99.319103 \r\nL 341.060795 99.962551 \r\nL 337.678977 100.606937 \r\nL 334.297159 101.357023 \r\nL 330.915341 102.021206 \r\nL 327.533523 102.855564 \r\nL 324.151705 103.375793 \r\nL 320.769886 104.134473 \r\nL 317.388068 104.755276 \r\nL 314.00625 105.376078 \r\nL 310.624432 106.081952 \r\nL 307.242614 106.827097 \r\nL 303.860795 107.522747 \r\nL 300.478977 108.113131 \r\nL 297.097159 108.771072 \r\nL 293.715341 109.313744 \r\nL 290.333523 109.87406 \r\nL 286.951705 110.541844 \r\nL 283.569886 111.051522 \r\nL 280.188068 111.732886 \r\nL 276.80625 112.389072 \r\nL 273.424432 113.024787 \r\nL 270.042614 113.602479 \r\nL 266.660795 114.335691 \r\nL 263.278977 114.852219 \r\nL 259.897159 115.451446 \r\nL 256.515341 116.047777 \r\nL 253.133523 116.659321 \r\nL 249.751705 117.109227 \r\nL 246.369886 117.655955 \r\nL 242.988068 118.136371 \r\nL 239.60625 118.553499 \r\nL 236.224432 119.02167 \r\nL 232.842614 119.358432 \r\nL 229.460795 119.603557 \r\nL 226.078977 120.21365 \r\nL 222.697159 120.839467 \r\nL 219.315341 121.419463 \r\nL 215.933523 122.043176 \r\nL 212.551705 122.644222 \r\nL 209.169886 123.017632 \r\nL 205.788068 123.456411 \r\nL 202.40625 123.857203 \r\nL 199.024432 124.146416 \r\nL 195.642614 124.48567 \r\nL 192.260795 124.71399 \r\nL 188.878977 125.224004 \r\nL 185.497159 125.583128 \r\nL 182.115341 125.876632 \r\nL 178.733523 126.194911 \r\nL 175.351705 126.555255 \r\nL 171.969886 126.812145 \r\nL 168.588068 127.041603 \r\nL 165.20625 127.273328 \r\nL 161.824432 127.626279 \r\nL 158.442614 127.959475 \r\nL 155.060795 128.264181 \r\nL 151.678977 128.492728 \r\nL 148.297159 128.721275 \r\nL 144.915341 128.949185 \r\nL 141.533523 129.175041 \r\nL 138.151705 129.534623 \r\nL 134.769886 129.913366 \r\nL 131.388068 130.155549 \r\nL 128.00625 130.495768 \r\nL 124.624432 130.853146 \r\nL 121.242614 131.041814 \r\nL 117.860795 131.348973 \r\nL 114.478977 131.46428 \r\nL 111.097159 131.579693 \r\nL 107.715341 131.694894 \r\nL 104.333523 131.924516 \r\nL 100.951705 132.202699 \r\nL 97.569886 132.478851 \r\nL 94.188068 132.66913 \r\nL 90.80625 132.739076 \r\nL 87.424432 132.903857 \r\nL 84.042614 133.071667 \r\nL 80.660795 133.248782 \r\nL 77.278977 133.463417 \r\nL 73.897159 133.585057 \r\nL 70.515341 133.743704 \r\nL 67.133523 133.973159 \r\nL 63.751705 134.202614 \r\nL 60.369886 134.361993 \r\nL 56.988068 134.487992 \r\nL 53.60625 134.647424 \r\nz\r\n\" style=\"fill:#1f77b4;fill-opacity:0.15;\"/>\r\n   </g>\r\n   <g id=\"matplotlib.axis_1\">\r\n    <g id=\"xtick_1\">\r\n     <g id=\"line2d_1\">\r\n      <defs>\r\n       <path d=\"M 0 0 \r\nL 0 3.5 \r\n\" id=\"m20dde1af05\" style=\"stroke:#000000;stroke-width:0.8;\"/>\r\n      </defs>\r\n      <g>\r\n       <use style=\"stroke:#000000;stroke-width:0.8;\" x=\"88.813043\" xlink:href=\"#m20dde1af05\" y=\"224.64\"/>\r\n      </g>\r\n     </g>\r\n     <g id=\"text_1\">\r\n      <!-- 732000 -->\r\n      <defs>\r\n       <path d=\"M 8.203125 72.90625 \r\nL 55.078125 72.90625 \r\nL 55.078125 68.703125 \r\nL 28.609375 0 \r\nL 18.3125 0 \r\nL 43.21875 64.59375 \r\nL 8.203125 64.59375 \r\nz\r\n\" id=\"DejaVuSans-55\"/>\r\n       <path d=\"M 40.578125 39.3125 \r\nQ 47.65625 37.796875 51.625 33 \r\nQ 55.609375 28.21875 55.609375 21.1875 \r\nQ 55.609375 10.40625 48.1875 4.484375 \r\nQ 40.765625 -1.421875 27.09375 -1.421875 \r\nQ 22.515625 -1.421875 17.65625 -0.515625 \r\nQ 12.796875 0.390625 7.625 2.203125 \r\nL 7.625 11.71875 \r\nQ 11.71875 9.328125 16.59375 8.109375 \r\nQ 21.484375 6.890625 26.8125 6.890625 \r\nQ 36.078125 6.890625 40.9375 10.546875 \r\nQ 45.796875 14.203125 45.796875 21.1875 \r\nQ 45.796875 27.640625 41.28125 31.265625 \r\nQ 36.765625 34.90625 28.71875 34.90625 \r\nL 20.21875 34.90625 \r\nL 20.21875 43.015625 \r\nL 29.109375 43.015625 \r\nQ 36.375 43.015625 40.234375 45.921875 \r\nQ 44.09375 48.828125 44.09375 54.296875 \r\nQ 44.09375 59.90625 40.109375 62.90625 \r\nQ 36.140625 65.921875 28.71875 65.921875 \r\nQ 24.65625 65.921875 20.015625 65.03125 \r\nQ 15.375 64.15625 9.8125 62.3125 \r\nL 9.8125 71.09375 \r\nQ 15.4375 72.65625 20.34375 73.4375 \r\nQ 25.25 74.21875 29.59375 74.21875 \r\nQ 40.828125 74.21875 47.359375 69.109375 \r\nQ 53.90625 64.015625 53.90625 55.328125 \r\nQ 53.90625 49.265625 50.4375 45.09375 \r\nQ 46.96875 40.921875 40.578125 39.3125 \r\nz\r\n\" id=\"DejaVuSans-51\"/>\r\n       <path d=\"M 19.1875 8.296875 \r\nL 53.609375 8.296875 \r\nL 53.609375 0 \r\nL 7.328125 0 \r\nL 7.328125 8.296875 \r\nQ 12.9375 14.109375 22.625 23.890625 \r\nQ 32.328125 33.6875 34.8125 36.53125 \r\nQ 39.546875 41.84375 41.421875 45.53125 \r\nQ 43.3125 49.21875 43.3125 52.78125 \r\nQ 43.3125 58.59375 39.234375 62.25 \r\nQ 35.15625 65.921875 28.609375 65.921875 \r\nQ 23.96875 65.921875 18.8125 64.3125 \r\nQ 13.671875 62.703125 7.8125 59.421875 \r\nL 7.8125 69.390625 \r\nQ 13.765625 71.78125 18.9375 73 \r\nQ 24.125 74.21875 28.421875 74.21875 \r\nQ 39.75 74.21875 46.484375 68.546875 \r\nQ 53.21875 62.890625 53.21875 53.421875 \r\nQ 53.21875 48.921875 51.53125 44.890625 \r\nQ 49.859375 40.875 45.40625 35.40625 \r\nQ 44.1875 33.984375 37.640625 27.21875 \r\nQ 31.109375 20.453125 19.1875 8.296875 \r\nz\r\n\" id=\"DejaVuSans-50\"/>\r\n       <path d=\"M 31.78125 66.40625 \r\nQ 24.171875 66.40625 20.328125 58.90625 \r\nQ 16.5 51.421875 16.5 36.375 \r\nQ 16.5 21.390625 20.328125 13.890625 \r\nQ 24.171875 6.390625 31.78125 6.390625 \r\nQ 39.453125 6.390625 43.28125 13.890625 \r\nQ 47.125 21.390625 47.125 36.375 \r\nQ 47.125 51.421875 43.28125 58.90625 \r\nQ 39.453125 66.40625 31.78125 66.40625 \r\nz\r\nM 31.78125 74.21875 \r\nQ 44.046875 74.21875 50.515625 64.515625 \r\nQ 56.984375 54.828125 56.984375 36.375 \r\nQ 56.984375 17.96875 50.515625 8.265625 \r\nQ 44.046875 -1.421875 31.78125 -1.421875 \r\nQ 19.53125 -1.421875 13.0625 8.265625 \r\nQ 6.59375 17.96875 6.59375 36.375 \r\nQ 6.59375 54.828125 13.0625 64.515625 \r\nQ 19.53125 74.21875 31.78125 74.21875 \r\nz\r\n\" id=\"DejaVuSans-48\"/>\r\n      </defs>\r\n      <g transform=\"translate(69.725543 239.238437)scale(0.1 -0.1)\">\r\n       <use xlink:href=\"#DejaVuSans-55\"/>\r\n       <use x=\"63.623047\" xlink:href=\"#DejaVuSans-51\"/>\r\n       <use x=\"127.246094\" xlink:href=\"#DejaVuSans-50\"/>\r\n       <use x=\"190.869141\" xlink:href=\"#DejaVuSans-48\"/>\r\n       <use x=\"254.492188\" xlink:href=\"#DejaVuSans-48\"/>\r\n       <use x=\"318.115234\" xlink:href=\"#DejaVuSans-48\"/>\r\n      </g>\r\n     </g>\r\n    </g>\r\n    <g id=\"xtick_2\">\r\n     <g id=\"line2d_2\">\r\n      <g>\r\n       <use style=\"stroke:#000000;stroke-width:0.8;\" x=\"137.900754\" xlink:href=\"#m20dde1af05\" y=\"224.64\"/>\r\n      </g>\r\n     </g>\r\n     <g id=\"text_2\">\r\n      <!-- 733000 -->\r\n      <g transform=\"translate(118.813254 239.238437)scale(0.1 -0.1)\">\r\n       <use xlink:href=\"#DejaVuSans-55\"/>\r\n       <use x=\"63.623047\" xlink:href=\"#DejaVuSans-51\"/>\r\n       <use x=\"127.246094\" xlink:href=\"#DejaVuSans-51\"/>\r\n       <use x=\"190.869141\" xlink:href=\"#DejaVuSans-48\"/>\r\n       <use x=\"254.492188\" xlink:href=\"#DejaVuSans-48\"/>\r\n       <use x=\"318.115234\" xlink:href=\"#DejaVuSans-48\"/>\r\n      </g>\r\n     </g>\r\n    </g>\r\n    <g id=\"xtick_3\">\r\n     <g id=\"line2d_3\">\r\n      <g>\r\n       <use style=\"stroke:#000000;stroke-width:0.8;\" x=\"186.988466\" xlink:href=\"#m20dde1af05\" y=\"224.64\"/>\r\n      </g>\r\n     </g>\r\n     <g id=\"text_3\">\r\n      <!-- 734000 -->\r\n      <defs>\r\n       <path d=\"M 37.796875 64.3125 \r\nL 12.890625 25.390625 \r\nL 37.796875 25.390625 \r\nz\r\nM 35.203125 72.90625 \r\nL 47.609375 72.90625 \r\nL 47.609375 25.390625 \r\nL 58.015625 25.390625 \r\nL 58.015625 17.1875 \r\nL 47.609375 17.1875 \r\nL 47.609375 0 \r\nL 37.796875 0 \r\nL 37.796875 17.1875 \r\nL 4.890625 17.1875 \r\nL 4.890625 26.703125 \r\nz\r\n\" id=\"DejaVuSans-52\"/>\r\n      </defs>\r\n      <g transform=\"translate(167.900966 239.238437)scale(0.1 -0.1)\">\r\n       <use xlink:href=\"#DejaVuSans-55\"/>\r\n       <use x=\"63.623047\" xlink:href=\"#DejaVuSans-51\"/>\r\n       <use x=\"127.246094\" xlink:href=\"#DejaVuSans-52\"/>\r\n       <use x=\"190.869141\" xlink:href=\"#DejaVuSans-48\"/>\r\n       <use x=\"254.492188\" xlink:href=\"#DejaVuSans-48\"/>\r\n       <use x=\"318.115234\" xlink:href=\"#DejaVuSans-48\"/>\r\n      </g>\r\n     </g>\r\n    </g>\r\n    <g id=\"xtick_4\">\r\n     <g id=\"line2d_4\">\r\n      <g>\r\n       <use style=\"stroke:#000000;stroke-width:0.8;\" x=\"236.076177\" xlink:href=\"#m20dde1af05\" y=\"224.64\"/>\r\n      </g>\r\n     </g>\r\n     <g id=\"text_4\">\r\n      <!-- 735000 -->\r\n      <defs>\r\n       <path d=\"M 10.796875 72.90625 \r\nL 49.515625 72.90625 \r\nL 49.515625 64.59375 \r\nL 19.828125 64.59375 \r\nL 19.828125 46.734375 \r\nQ 21.96875 47.46875 24.109375 47.828125 \r\nQ 26.265625 48.1875 28.421875 48.1875 \r\nQ 40.625 48.1875 47.75 41.5 \r\nQ 54.890625 34.8125 54.890625 23.390625 \r\nQ 54.890625 11.625 47.5625 5.09375 \r\nQ 40.234375 -1.421875 26.90625 -1.421875 \r\nQ 22.3125 -1.421875 17.546875 -0.640625 \r\nQ 12.796875 0.140625 7.71875 1.703125 \r\nL 7.71875 11.625 \r\nQ 12.109375 9.234375 16.796875 8.0625 \r\nQ 21.484375 6.890625 26.703125 6.890625 \r\nQ 35.15625 6.890625 40.078125 11.328125 \r\nQ 45.015625 15.765625 45.015625 23.390625 \r\nQ 45.015625 31 40.078125 35.4375 \r\nQ 35.15625 39.890625 26.703125 39.890625 \r\nQ 22.75 39.890625 18.8125 39.015625 \r\nQ 14.890625 38.140625 10.796875 36.28125 \r\nz\r\n\" id=\"DejaVuSans-53\"/>\r\n      </defs>\r\n      <g transform=\"translate(216.988677 239.238437)scale(0.1 -0.1)\">\r\n       <use xlink:href=\"#DejaVuSans-55\"/>\r\n       <use x=\"63.623047\" xlink:href=\"#DejaVuSans-51\"/>\r\n       <use x=\"127.246094\" xlink:href=\"#DejaVuSans-53\"/>\r\n       <use x=\"190.869141\" xlink:href=\"#DejaVuSans-48\"/>\r\n       <use x=\"254.492188\" xlink:href=\"#DejaVuSans-48\"/>\r\n       <use x=\"318.115234\" xlink:href=\"#DejaVuSans-48\"/>\r\n      </g>\r\n     </g>\r\n    </g>\r\n    <g id=\"xtick_5\">\r\n     <g id=\"line2d_5\">\r\n      <g>\r\n       <use style=\"stroke:#000000;stroke-width:0.8;\" x=\"285.163889\" xlink:href=\"#m20dde1af05\" y=\"224.64\"/>\r\n      </g>\r\n     </g>\r\n     <g id=\"text_5\">\r\n      <!-- 736000 -->\r\n      <defs>\r\n       <path d=\"M 33.015625 40.375 \r\nQ 26.375 40.375 22.484375 35.828125 \r\nQ 18.609375 31.296875 18.609375 23.390625 \r\nQ 18.609375 15.53125 22.484375 10.953125 \r\nQ 26.375 6.390625 33.015625 6.390625 \r\nQ 39.65625 6.390625 43.53125 10.953125 \r\nQ 47.40625 15.53125 47.40625 23.390625 \r\nQ 47.40625 31.296875 43.53125 35.828125 \r\nQ 39.65625 40.375 33.015625 40.375 \r\nz\r\nM 52.59375 71.296875 \r\nL 52.59375 62.3125 \r\nQ 48.875 64.0625 45.09375 64.984375 \r\nQ 41.3125 65.921875 37.59375 65.921875 \r\nQ 27.828125 65.921875 22.671875 59.328125 \r\nQ 17.53125 52.734375 16.796875 39.40625 \r\nQ 19.671875 43.65625 24.015625 45.921875 \r\nQ 28.375 48.1875 33.59375 48.1875 \r\nQ 44.578125 48.1875 50.953125 41.515625 \r\nQ 57.328125 34.859375 57.328125 23.390625 \r\nQ 57.328125 12.15625 50.6875 5.359375 \r\nQ 44.046875 -1.421875 33.015625 -1.421875 \r\nQ 20.359375 -1.421875 13.671875 8.265625 \r\nQ 6.984375 17.96875 6.984375 36.375 \r\nQ 6.984375 53.65625 15.1875 63.9375 \r\nQ 23.390625 74.21875 37.203125 74.21875 \r\nQ 40.921875 74.21875 44.703125 73.484375 \r\nQ 48.484375 72.75 52.59375 71.296875 \r\nz\r\n\" id=\"DejaVuSans-54\"/>\r\n      </defs>\r\n      <g transform=\"translate(266.076389 239.238437)scale(0.1 -0.1)\">\r\n       <use xlink:href=\"#DejaVuSans-55\"/>\r\n       <use x=\"63.623047\" xlink:href=\"#DejaVuSans-51\"/>\r\n       <use x=\"127.246094\" xlink:href=\"#DejaVuSans-54\"/>\r\n       <use x=\"190.869141\" xlink:href=\"#DejaVuSans-48\"/>\r\n       <use x=\"254.492188\" xlink:href=\"#DejaVuSans-48\"/>\r\n       <use x=\"318.115234\" xlink:href=\"#DejaVuSans-48\"/>\r\n      </g>\r\n     </g>\r\n    </g>\r\n    <g id=\"xtick_6\">\r\n     <g id=\"line2d_6\">\r\n      <g>\r\n       <use style=\"stroke:#000000;stroke-width:0.8;\" x=\"334.2516\" xlink:href=\"#m20dde1af05\" y=\"224.64\"/>\r\n      </g>\r\n     </g>\r\n     <g id=\"text_6\">\r\n      <!-- 737000 -->\r\n      <g transform=\"translate(315.1641 239.238437)scale(0.1 -0.1)\">\r\n       <use xlink:href=\"#DejaVuSans-55\"/>\r\n       <use x=\"63.623047\" xlink:href=\"#DejaVuSans-51\"/>\r\n       <use x=\"127.246094\" xlink:href=\"#DejaVuSans-55\"/>\r\n       <use x=\"190.869141\" xlink:href=\"#DejaVuSans-48\"/>\r\n       <use x=\"254.492188\" xlink:href=\"#DejaVuSans-48\"/>\r\n       <use x=\"318.115234\" xlink:href=\"#DejaVuSans-48\"/>\r\n      </g>\r\n     </g>\r\n    </g>\r\n    <g id=\"xtick_7\">\r\n     <g id=\"line2d_7\">\r\n      <g>\r\n       <use style=\"stroke:#000000;stroke-width:0.8;\" x=\"383.339312\" xlink:href=\"#m20dde1af05\" y=\"224.64\"/>\r\n      </g>\r\n     </g>\r\n     <g id=\"text_7\">\r\n      <!-- 738000 -->\r\n      <defs>\r\n       <path d=\"M 31.78125 34.625 \r\nQ 24.75 34.625 20.71875 30.859375 \r\nQ 16.703125 27.09375 16.703125 20.515625 \r\nQ 16.703125 13.921875 20.71875 10.15625 \r\nQ 24.75 6.390625 31.78125 6.390625 \r\nQ 38.8125 6.390625 42.859375 10.171875 \r\nQ 46.921875 13.96875 46.921875 20.515625 \r\nQ 46.921875 27.09375 42.890625 30.859375 \r\nQ 38.875 34.625 31.78125 34.625 \r\nz\r\nM 21.921875 38.8125 \r\nQ 15.578125 40.375 12.03125 44.71875 \r\nQ 8.5 49.078125 8.5 55.328125 \r\nQ 8.5 64.0625 14.71875 69.140625 \r\nQ 20.953125 74.21875 31.78125 74.21875 \r\nQ 42.671875 74.21875 48.875 69.140625 \r\nQ 55.078125 64.0625 55.078125 55.328125 \r\nQ 55.078125 49.078125 51.53125 44.71875 \r\nQ 48 40.375 41.703125 38.8125 \r\nQ 48.828125 37.15625 52.796875 32.3125 \r\nQ 56.78125 27.484375 56.78125 20.515625 \r\nQ 56.78125 9.90625 50.3125 4.234375 \r\nQ 43.84375 -1.421875 31.78125 -1.421875 \r\nQ 19.734375 -1.421875 13.25 4.234375 \r\nQ 6.78125 9.90625 6.78125 20.515625 \r\nQ 6.78125 27.484375 10.78125 32.3125 \r\nQ 14.796875 37.15625 21.921875 38.8125 \r\nz\r\nM 18.3125 54.390625 \r\nQ 18.3125 48.734375 21.84375 45.5625 \r\nQ 25.390625 42.390625 31.78125 42.390625 \r\nQ 38.140625 42.390625 41.71875 45.5625 \r\nQ 45.3125 48.734375 45.3125 54.390625 \r\nQ 45.3125 60.0625 41.71875 63.234375 \r\nQ 38.140625 66.40625 31.78125 66.40625 \r\nQ 25.390625 66.40625 21.84375 63.234375 \r\nQ 18.3125 60.0625 18.3125 54.390625 \r\nz\r\n\" id=\"DejaVuSans-56\"/>\r\n      </defs>\r\n      <g transform=\"translate(364.251812 239.238437)scale(0.1 -0.1)\">\r\n       <use xlink:href=\"#DejaVuSans-55\"/>\r\n       <use x=\"63.623047\" xlink:href=\"#DejaVuSans-51\"/>\r\n       <use x=\"127.246094\" xlink:href=\"#DejaVuSans-56\"/>\r\n       <use x=\"190.869141\" xlink:href=\"#DejaVuSans-48\"/>\r\n       <use x=\"254.492188\" xlink:href=\"#DejaVuSans-48\"/>\r\n       <use x=\"318.115234\" xlink:href=\"#DejaVuSans-48\"/>\r\n      </g>\r\n     </g>\r\n    </g>\r\n    <g id=\"text_8\">\r\n     <!-- Month -->\r\n     <defs>\r\n      <path d=\"M 9.8125 72.90625 \r\nL 24.515625 72.90625 \r\nL 43.109375 23.296875 \r\nL 61.8125 72.90625 \r\nL 76.515625 72.90625 \r\nL 76.515625 0 \r\nL 66.890625 0 \r\nL 66.890625 64.015625 \r\nL 48.09375 14.015625 \r\nL 38.1875 14.015625 \r\nL 19.390625 64.015625 \r\nL 19.390625 0 \r\nL 9.8125 0 \r\nz\r\n\" id=\"DejaVuSans-77\"/>\r\n      <path d=\"M 30.609375 48.390625 \r\nQ 23.390625 48.390625 19.1875 42.75 \r\nQ 14.984375 37.109375 14.984375 27.296875 \r\nQ 14.984375 17.484375 19.15625 11.84375 \r\nQ 23.34375 6.203125 30.609375 6.203125 \r\nQ 37.796875 6.203125 41.984375 11.859375 \r\nQ 46.1875 17.53125 46.1875 27.296875 \r\nQ 46.1875 37.015625 41.984375 42.703125 \r\nQ 37.796875 48.390625 30.609375 48.390625 \r\nz\r\nM 30.609375 56 \r\nQ 42.328125 56 49.015625 48.375 \r\nQ 55.71875 40.765625 55.71875 27.296875 \r\nQ 55.71875 13.875 49.015625 6.21875 \r\nQ 42.328125 -1.421875 30.609375 -1.421875 \r\nQ 18.84375 -1.421875 12.171875 6.21875 \r\nQ 5.515625 13.875 5.515625 27.296875 \r\nQ 5.515625 40.765625 12.171875 48.375 \r\nQ 18.84375 56 30.609375 56 \r\nz\r\n\" id=\"DejaVuSans-111\"/>\r\n      <path d=\"M 54.890625 33.015625 \r\nL 54.890625 0 \r\nL 45.90625 0 \r\nL 45.90625 32.71875 \r\nQ 45.90625 40.484375 42.875 44.328125 \r\nQ 39.84375 48.1875 33.796875 48.1875 \r\nQ 26.515625 48.1875 22.3125 43.546875 \r\nQ 18.109375 38.921875 18.109375 30.90625 \r\nL 18.109375 0 \r\nL 9.078125 0 \r\nL 9.078125 54.6875 \r\nL 18.109375 54.6875 \r\nL 18.109375 46.1875 \r\nQ 21.34375 51.125 25.703125 53.5625 \r\nQ 30.078125 56 35.796875 56 \r\nQ 45.21875 56 50.046875 50.171875 \r\nQ 54.890625 44.34375 54.890625 33.015625 \r\nz\r\n\" id=\"DejaVuSans-110\"/>\r\n      <path d=\"M 18.3125 70.21875 \r\nL 18.3125 54.6875 \r\nL 36.8125 54.6875 \r\nL 36.8125 47.703125 \r\nL 18.3125 47.703125 \r\nL 18.3125 18.015625 \r\nQ 18.3125 11.328125 20.140625 9.421875 \r\nQ 21.96875 7.515625 27.59375 7.515625 \r\nL 36.8125 7.515625 \r\nL 36.8125 0 \r\nL 27.59375 0 \r\nQ 17.1875 0 13.234375 3.875 \r\nQ 9.28125 7.765625 9.28125 18.015625 \r\nL 9.28125 47.703125 \r\nL 2.6875 47.703125 \r\nL 2.6875 54.6875 \r\nL 9.28125 54.6875 \r\nL 9.28125 70.21875 \r\nz\r\n\" id=\"DejaVuSans-116\"/>\r\n      <path d=\"M 54.890625 33.015625 \r\nL 54.890625 0 \r\nL 45.90625 0 \r\nL 45.90625 32.71875 \r\nQ 45.90625 40.484375 42.875 44.328125 \r\nQ 39.84375 48.1875 33.796875 48.1875 \r\nQ 26.515625 48.1875 22.3125 43.546875 \r\nQ 18.109375 38.921875 18.109375 30.90625 \r\nL 18.109375 0 \r\nL 9.078125 0 \r\nL 9.078125 75.984375 \r\nL 18.109375 75.984375 \r\nL 18.109375 46.1875 \r\nQ 21.34375 51.125 25.703125 53.5625 \r\nQ 30.078125 56 35.796875 56 \r\nQ 45.21875 56 50.046875 50.171875 \r\nQ 54.890625 44.34375 54.890625 33.015625 \r\nz\r\n\" id=\"DejaVuSans-104\"/>\r\n     </defs>\r\n     <g transform=\"translate(205.335156 252.916562)scale(0.1 -0.1)\">\r\n      <use xlink:href=\"#DejaVuSans-77\"/>\r\n      <use x=\"86.279297\" xlink:href=\"#DejaVuSans-111\"/>\r\n      <use x=\"147.460938\" xlink:href=\"#DejaVuSans-110\"/>\r\n      <use x=\"210.839844\" xlink:href=\"#DejaVuSans-116\"/>\r\n      <use x=\"250.048828\" xlink:href=\"#DejaVuSans-104\"/>\r\n     </g>\r\n    </g>\r\n   </g>\r\n   <g id=\"matplotlib.axis_2\">\r\n    <g id=\"ytick_1\">\r\n     <g id=\"line2d_8\">\r\n      <defs>\r\n       <path d=\"M 0 0 \r\nL -3.5 0 \r\n\" id=\"md133342ffb\" style=\"stroke:#000000;stroke-width:0.8;\"/>\r\n      </defs>\r\n      <g>\r\n       <use style=\"stroke:#000000;stroke-width:0.8;\" x=\"53.60625\" xlink:href=\"#md133342ffb\" y=\"214.664517\"/>\r\n      </g>\r\n     </g>\r\n     <g id=\"text_9\">\r\n      <!-- 2000 -->\r\n      <g transform=\"translate(21.15625 218.463736)scale(0.1 -0.1)\">\r\n       <use xlink:href=\"#DejaVuSans-50\"/>\r\n       <use x=\"63.623047\" xlink:href=\"#DejaVuSans-48\"/>\r\n       <use x=\"127.246094\" xlink:href=\"#DejaVuSans-48\"/>\r\n       <use x=\"190.869141\" xlink:href=\"#DejaVuSans-48\"/>\r\n      </g>\r\n     </g>\r\n    </g>\r\n    <g id=\"ytick_2\">\r\n     <g id=\"line2d_9\">\r\n      <g>\r\n       <use style=\"stroke:#000000;stroke-width:0.8;\" x=\"53.60625\" xlink:href=\"#md133342ffb\" y=\"174.612632\"/>\r\n      </g>\r\n     </g>\r\n     <g id=\"text_10\">\r\n      <!-- 3000 -->\r\n      <g transform=\"translate(21.15625 178.411851)scale(0.1 -0.1)\">\r\n       <use xlink:href=\"#DejaVuSans-51\"/>\r\n       <use x=\"63.623047\" xlink:href=\"#DejaVuSans-48\"/>\r\n       <use x=\"127.246094\" xlink:href=\"#DejaVuSans-48\"/>\r\n       <use x=\"190.869141\" xlink:href=\"#DejaVuSans-48\"/>\r\n      </g>\r\n     </g>\r\n    </g>\r\n    <g id=\"ytick_3\">\r\n     <g id=\"line2d_10\">\r\n      <g>\r\n       <use style=\"stroke:#000000;stroke-width:0.8;\" x=\"53.60625\" xlink:href=\"#md133342ffb\" y=\"134.560748\"/>\r\n      </g>\r\n     </g>\r\n     <g id=\"text_11\">\r\n      <!-- 4000 -->\r\n      <g transform=\"translate(21.15625 138.359967)scale(0.1 -0.1)\">\r\n       <use xlink:href=\"#DejaVuSans-52\"/>\r\n       <use x=\"63.623047\" xlink:href=\"#DejaVuSans-48\"/>\r\n       <use x=\"127.246094\" xlink:href=\"#DejaVuSans-48\"/>\r\n       <use x=\"190.869141\" xlink:href=\"#DejaVuSans-48\"/>\r\n      </g>\r\n     </g>\r\n    </g>\r\n    <g id=\"ytick_4\">\r\n     <g id=\"line2d_11\">\r\n      <g>\r\n       <use style=\"stroke:#000000;stroke-width:0.8;\" x=\"53.60625\" xlink:href=\"#md133342ffb\" y=\"94.508863\"/>\r\n      </g>\r\n     </g>\r\n     <g id=\"text_12\">\r\n      <!-- 5000 -->\r\n      <g transform=\"translate(21.15625 98.308082)scale(0.1 -0.1)\">\r\n       <use xlink:href=\"#DejaVuSans-53\"/>\r\n       <use x=\"63.623047\" xlink:href=\"#DejaVuSans-48\"/>\r\n       <use x=\"127.246094\" xlink:href=\"#DejaVuSans-48\"/>\r\n       <use x=\"190.869141\" xlink:href=\"#DejaVuSans-48\"/>\r\n      </g>\r\n     </g>\r\n    </g>\r\n    <g id=\"ytick_5\">\r\n     <g id=\"line2d_12\">\r\n      <g>\r\n       <use style=\"stroke:#000000;stroke-width:0.8;\" x=\"53.60625\" xlink:href=\"#md133342ffb\" y=\"54.456979\"/>\r\n      </g>\r\n     </g>\r\n     <g id=\"text_13\">\r\n      <!-- 6000 -->\r\n      <g transform=\"translate(21.15625 58.256198)scale(0.1 -0.1)\">\r\n       <use xlink:href=\"#DejaVuSans-54\"/>\r\n       <use x=\"63.623047\" xlink:href=\"#DejaVuSans-48\"/>\r\n       <use x=\"127.246094\" xlink:href=\"#DejaVuSans-48\"/>\r\n       <use x=\"190.869141\" xlink:href=\"#DejaVuSans-48\"/>\r\n      </g>\r\n     </g>\r\n    </g>\r\n    <g id=\"ytick_6\">\r\n     <g id=\"line2d_13\">\r\n      <g>\r\n       <use style=\"stroke:#000000;stroke-width:0.8;\" x=\"53.60625\" xlink:href=\"#md133342ffb\" y=\"14.405094\"/>\r\n      </g>\r\n     </g>\r\n     <g id=\"text_14\">\r\n      <!-- 7000 -->\r\n      <g transform=\"translate(21.15625 18.204313)scale(0.1 -0.1)\">\r\n       <use xlink:href=\"#DejaVuSans-55\"/>\r\n       <use x=\"63.623047\" xlink:href=\"#DejaVuSans-48\"/>\r\n       <use x=\"127.246094\" xlink:href=\"#DejaVuSans-48\"/>\r\n       <use x=\"190.869141\" xlink:href=\"#DejaVuSans-48\"/>\r\n      </g>\r\n     </g>\r\n    </g>\r\n    <g id=\"text_15\">\r\n     <!-- Crude_Oil_Price -->\r\n     <defs>\r\n      <path d=\"M 64.40625 67.28125 \r\nL 64.40625 56.890625 \r\nQ 59.421875 61.53125 53.78125 63.8125 \r\nQ 48.140625 66.109375 41.796875 66.109375 \r\nQ 29.296875 66.109375 22.65625 58.46875 \r\nQ 16.015625 50.828125 16.015625 36.375 \r\nQ 16.015625 21.96875 22.65625 14.328125 \r\nQ 29.296875 6.6875 41.796875 6.6875 \r\nQ 48.140625 6.6875 53.78125 8.984375 \r\nQ 59.421875 11.28125 64.40625 15.921875 \r\nL 64.40625 5.609375 \r\nQ 59.234375 2.09375 53.4375 0.328125 \r\nQ 47.65625 -1.421875 41.21875 -1.421875 \r\nQ 24.65625 -1.421875 15.125 8.703125 \r\nQ 5.609375 18.84375 5.609375 36.375 \r\nQ 5.609375 53.953125 15.125 64.078125 \r\nQ 24.65625 74.21875 41.21875 74.21875 \r\nQ 47.75 74.21875 53.53125 72.484375 \r\nQ 59.328125 70.75 64.40625 67.28125 \r\nz\r\n\" id=\"DejaVuSans-67\"/>\r\n      <path d=\"M 41.109375 46.296875 \r\nQ 39.59375 47.171875 37.8125 47.578125 \r\nQ 36.03125 48 33.890625 48 \r\nQ 26.265625 48 22.1875 43.046875 \r\nQ 18.109375 38.09375 18.109375 28.8125 \r\nL 18.109375 0 \r\nL 9.078125 0 \r\nL 9.078125 54.6875 \r\nL 18.109375 54.6875 \r\nL 18.109375 46.1875 \r\nQ 20.953125 51.171875 25.484375 53.578125 \r\nQ 30.03125 56 36.53125 56 \r\nQ 37.453125 56 38.578125 55.875 \r\nQ 39.703125 55.765625 41.0625 55.515625 \r\nz\r\n\" id=\"DejaVuSans-114\"/>\r\n      <path d=\"M 8.5 21.578125 \r\nL 8.5 54.6875 \r\nL 17.484375 54.6875 \r\nL 17.484375 21.921875 \r\nQ 17.484375 14.15625 20.5 10.265625 \r\nQ 23.53125 6.390625 29.59375 6.390625 \r\nQ 36.859375 6.390625 41.078125 11.03125 \r\nQ 45.3125 15.671875 45.3125 23.6875 \r\nL 45.3125 54.6875 \r\nL 54.296875 54.6875 \r\nL 54.296875 0 \r\nL 45.3125 0 \r\nL 45.3125 8.40625 \r\nQ 42.046875 3.421875 37.71875 1 \r\nQ 33.40625 -1.421875 27.6875 -1.421875 \r\nQ 18.265625 -1.421875 13.375 4.4375 \r\nQ 8.5 10.296875 8.5 21.578125 \r\nz\r\nM 31.109375 56 \r\nz\r\n\" id=\"DejaVuSans-117\"/>\r\n      <path d=\"M 45.40625 46.390625 \r\nL 45.40625 75.984375 \r\nL 54.390625 75.984375 \r\nL 54.390625 0 \r\nL 45.40625 0 \r\nL 45.40625 8.203125 \r\nQ 42.578125 3.328125 38.25 0.953125 \r\nQ 33.9375 -1.421875 27.875 -1.421875 \r\nQ 17.96875 -1.421875 11.734375 6.484375 \r\nQ 5.515625 14.40625 5.515625 27.296875 \r\nQ 5.515625 40.1875 11.734375 48.09375 \r\nQ 17.96875 56 27.875 56 \r\nQ 33.9375 56 38.25 53.625 \r\nQ 42.578125 51.265625 45.40625 46.390625 \r\nz\r\nM 14.796875 27.296875 \r\nQ 14.796875 17.390625 18.875 11.75 \r\nQ 22.953125 6.109375 30.078125 6.109375 \r\nQ 37.203125 6.109375 41.296875 11.75 \r\nQ 45.40625 17.390625 45.40625 27.296875 \r\nQ 45.40625 37.203125 41.296875 42.84375 \r\nQ 37.203125 48.484375 30.078125 48.484375 \r\nQ 22.953125 48.484375 18.875 42.84375 \r\nQ 14.796875 37.203125 14.796875 27.296875 \r\nz\r\n\" id=\"DejaVuSans-100\"/>\r\n      <path d=\"M 56.203125 29.59375 \r\nL 56.203125 25.203125 \r\nL 14.890625 25.203125 \r\nQ 15.484375 15.921875 20.484375 11.0625 \r\nQ 25.484375 6.203125 34.421875 6.203125 \r\nQ 39.59375 6.203125 44.453125 7.46875 \r\nQ 49.3125 8.734375 54.109375 11.28125 \r\nL 54.109375 2.78125 \r\nQ 49.265625 0.734375 44.1875 -0.34375 \r\nQ 39.109375 -1.421875 33.890625 -1.421875 \r\nQ 20.796875 -1.421875 13.15625 6.1875 \r\nQ 5.515625 13.8125 5.515625 26.8125 \r\nQ 5.515625 40.234375 12.765625 48.109375 \r\nQ 20.015625 56 32.328125 56 \r\nQ 43.359375 56 49.78125 48.890625 \r\nQ 56.203125 41.796875 56.203125 29.59375 \r\nz\r\nM 47.21875 32.234375 \r\nQ 47.125 39.59375 43.09375 43.984375 \r\nQ 39.0625 48.390625 32.421875 48.390625 \r\nQ 24.90625 48.390625 20.390625 44.140625 \r\nQ 15.875 39.890625 15.1875 32.171875 \r\nz\r\n\" id=\"DejaVuSans-101\"/>\r\n      <path d=\"M 50.984375 -16.609375 \r\nL 50.984375 -23.578125 \r\nL -0.984375 -23.578125 \r\nL -0.984375 -16.609375 \r\nz\r\n\" id=\"DejaVuSans-95\"/>\r\n      <path d=\"M 39.40625 66.21875 \r\nQ 28.65625 66.21875 22.328125 58.203125 \r\nQ 16.015625 50.203125 16.015625 36.375 \r\nQ 16.015625 22.609375 22.328125 14.59375 \r\nQ 28.65625 6.59375 39.40625 6.59375 \r\nQ 50.140625 6.59375 56.421875 14.59375 \r\nQ 62.703125 22.609375 62.703125 36.375 \r\nQ 62.703125 50.203125 56.421875 58.203125 \r\nQ 50.140625 66.21875 39.40625 66.21875 \r\nz\r\nM 39.40625 74.21875 \r\nQ 54.734375 74.21875 63.90625 63.9375 \r\nQ 73.09375 53.65625 73.09375 36.375 \r\nQ 73.09375 19.140625 63.90625 8.859375 \r\nQ 54.734375 -1.421875 39.40625 -1.421875 \r\nQ 24.03125 -1.421875 14.8125 8.828125 \r\nQ 5.609375 19.09375 5.609375 36.375 \r\nQ 5.609375 53.65625 14.8125 63.9375 \r\nQ 24.03125 74.21875 39.40625 74.21875 \r\nz\r\n\" id=\"DejaVuSans-79\"/>\r\n      <path d=\"M 9.421875 54.6875 \r\nL 18.40625 54.6875 \r\nL 18.40625 0 \r\nL 9.421875 0 \r\nz\r\nM 9.421875 75.984375 \r\nL 18.40625 75.984375 \r\nL 18.40625 64.59375 \r\nL 9.421875 64.59375 \r\nz\r\n\" id=\"DejaVuSans-105\"/>\r\n      <path d=\"M 9.421875 75.984375 \r\nL 18.40625 75.984375 \r\nL 18.40625 0 \r\nL 9.421875 0 \r\nz\r\n\" id=\"DejaVuSans-108\"/>\r\n      <path d=\"M 19.671875 64.796875 \r\nL 19.671875 37.40625 \r\nL 32.078125 37.40625 \r\nQ 38.96875 37.40625 42.71875 40.96875 \r\nQ 46.484375 44.53125 46.484375 51.125 \r\nQ 46.484375 57.671875 42.71875 61.234375 \r\nQ 38.96875 64.796875 32.078125 64.796875 \r\nz\r\nM 9.8125 72.90625 \r\nL 32.078125 72.90625 \r\nQ 44.34375 72.90625 50.609375 67.359375 \r\nQ 56.890625 61.8125 56.890625 51.125 \r\nQ 56.890625 40.328125 50.609375 34.8125 \r\nQ 44.34375 29.296875 32.078125 29.296875 \r\nL 19.671875 29.296875 \r\nL 19.671875 0 \r\nL 9.8125 0 \r\nz\r\n\" id=\"DejaVuSans-80\"/>\r\n      <path d=\"M 48.78125 52.59375 \r\nL 48.78125 44.1875 \r\nQ 44.96875 46.296875 41.140625 47.34375 \r\nQ 37.3125 48.390625 33.40625 48.390625 \r\nQ 24.65625 48.390625 19.8125 42.84375 \r\nQ 14.984375 37.3125 14.984375 27.296875 \r\nQ 14.984375 17.28125 19.8125 11.734375 \r\nQ 24.65625 6.203125 33.40625 6.203125 \r\nQ 37.3125 6.203125 41.140625 7.25 \r\nQ 44.96875 8.296875 48.78125 10.40625 \r\nL 48.78125 2.09375 \r\nQ 45.015625 0.34375 40.984375 -0.53125 \r\nQ 36.96875 -1.421875 32.421875 -1.421875 \r\nQ 20.0625 -1.421875 12.78125 6.34375 \r\nQ 5.515625 14.109375 5.515625 27.296875 \r\nQ 5.515625 40.671875 12.859375 48.328125 \r\nQ 20.21875 56 33.015625 56 \r\nQ 37.15625 56 41.109375 55.140625 \r\nQ 45.0625 54.296875 48.78125 52.59375 \r\nz\r\n\" id=\"DejaVuSans-99\"/>\r\n     </defs>\r\n     <g transform=\"translate(14.798437 154.884844)rotate(-90)scale(0.1 -0.1)\">\r\n      <use xlink:href=\"#DejaVuSans-67\"/>\r\n      <use x=\"69.824219\" xlink:href=\"#DejaVuSans-114\"/>\r\n      <use x=\"110.9375\" xlink:href=\"#DejaVuSans-117\"/>\r\n      <use x=\"174.316406\" xlink:href=\"#DejaVuSans-100\"/>\r\n      <use x=\"237.792969\" xlink:href=\"#DejaVuSans-101\"/>\r\n      <use x=\"299.316406\" xlink:href=\"#DejaVuSans-95\"/>\r\n      <use x=\"349.316406\" xlink:href=\"#DejaVuSans-79\"/>\r\n      <use x=\"428.027344\" xlink:href=\"#DejaVuSans-105\"/>\r\n      <use x=\"455.810547\" xlink:href=\"#DejaVuSans-108\"/>\r\n      <use x=\"483.59375\" xlink:href=\"#DejaVuSans-95\"/>\r\n      <use x=\"533.59375\" xlink:href=\"#DejaVuSans-80\"/>\r\n      <use x=\"593.880859\" xlink:href=\"#DejaVuSans-114\"/>\r\n      <use x=\"634.994141\" xlink:href=\"#DejaVuSans-105\"/>\r\n      <use x=\"662.777344\" xlink:href=\"#DejaVuSans-99\"/>\r\n      <use x=\"717.757812\" xlink:href=\"#DejaVuSans-101\"/>\r\n     </g>\r\n    </g>\r\n   </g>\r\n   <g id=\"line2d_14\">\r\n    <path clip-path=\"url(#p13e4afd8aa)\" d=\"M 53.60625 151.753746 \r\nL 56.988068 151.293532 \r\nL 60.369886 150.833318 \r\nL 63.751705 150.373104 \r\nL 67.133523 149.91289 \r\nL 70.515341 149.452676 \r\nL 73.897159 148.992462 \r\nL 77.278977 148.532249 \r\nL 80.660795 148.072035 \r\nL 84.042614 147.611821 \r\nL 87.424432 147.151607 \r\nL 90.80625 146.691393 \r\nL 94.188068 146.231179 \r\nL 97.569886 145.770965 \r\nL 100.951705 145.310751 \r\nL 104.333523 144.850537 \r\nL 107.715341 144.390323 \r\nL 111.097159 143.930109 \r\nL 114.478977 143.469895 \r\nL 117.860795 143.009682 \r\nL 121.242614 142.549468 \r\nL 124.624432 142.089254 \r\nL 128.00625 141.62904 \r\nL 131.388068 141.168826 \r\nL 134.769886 140.708612 \r\nL 138.151705 140.248398 \r\nL 141.533523 139.788184 \r\nL 144.915341 139.32797 \r\nL 148.297159 138.867756 \r\nL 151.678977 138.407542 \r\nL 155.060795 137.947328 \r\nL 158.442614 137.487115 \r\nL 161.824432 137.026901 \r\nL 165.20625 136.566687 \r\nL 168.588068 136.106473 \r\nL 171.969886 135.646259 \r\nL 175.351705 135.186045 \r\nL 178.733523 134.725831 \r\nL 182.115341 134.265617 \r\nL 185.497159 133.805403 \r\nL 188.878977 133.345189 \r\nL 192.260795 132.884975 \r\nL 195.642614 132.424761 \r\nL 199.024432 131.964547 \r\nL 202.40625 131.504334 \r\nL 205.788068 131.04412 \r\nL 209.169886 130.583906 \r\nL 212.551705 130.123692 \r\nL 215.933523 129.663478 \r\nL 219.315341 129.203264 \r\nL 222.697159 128.74305 \r\nL 226.078977 128.282836 \r\nL 229.460795 127.822622 \r\nL 232.842614 127.362408 \r\nL 236.224432 126.902194 \r\nL 239.60625 126.44198 \r\nL 242.988068 125.981767 \r\nL 246.369886 125.521553 \r\nL 249.751705 125.061339 \r\nL 253.133523 124.601125 \r\nL 256.515341 124.140911 \r\nL 259.897159 123.680697 \r\nL 263.278977 123.220483 \r\nL 266.660795 122.760269 \r\nL 270.042614 122.300055 \r\nL 273.424432 121.839841 \r\nL 276.80625 121.379627 \r\nL 280.188068 120.919413 \r\nL 283.569886 120.459199 \r\nL 286.951705 119.998986 \r\nL 290.333523 119.538772 \r\nL 293.715341 119.078558 \r\nL 297.097159 118.618344 \r\nL 300.478977 118.15813 \r\nL 303.860795 117.697916 \r\nL 307.242614 117.237702 \r\nL 310.624432 116.777488 \r\nL 314.00625 116.317274 \r\nL 317.388068 115.85706 \r\nL 320.769886 115.396846 \r\nL 324.151705 114.936632 \r\nL 327.533523 114.476419 \r\nL 330.915341 114.016205 \r\nL 334.297159 113.555991 \r\nL 337.678977 113.095777 \r\nL 341.060795 112.635563 \r\nL 344.442614 112.175349 \r\nL 347.824432 111.715135 \r\nL 351.20625 111.254921 \r\nL 354.588068 110.794707 \r\nL 357.969886 110.334493 \r\nL 361.351705 109.874279 \r\nL 364.733523 109.414065 \r\nL 368.115341 108.953851 \r\nL 371.497159 108.493638 \r\nL 374.878977 108.033424 \r\nL 378.260795 107.57321 \r\nL 381.642614 107.112996 \r\nL 385.024432 106.652782 \r\nL 388.40625 106.192568 \r\n\" style=\"fill:none;stroke:#1f77b4;stroke-linecap:square;stroke-width:2.25;\"/>\r\n   </g>\r\n   <g id=\"patch_3\">\r\n    <path d=\"M 53.60625 224.64 \r\nL 53.60625 7.2 \r\n\" style=\"fill:none;stroke:#000000;stroke-linecap:square;stroke-linejoin:miter;stroke-width:0.8;\"/>\r\n   </g>\r\n   <g id=\"patch_4\">\r\n    <path d=\"M 388.40625 224.64 \r\nL 388.40625 7.2 \r\n\" style=\"fill:none;stroke:#000000;stroke-linecap:square;stroke-linejoin:miter;stroke-width:0.8;\"/>\r\n   </g>\r\n   <g id=\"patch_5\">\r\n    <path d=\"M 53.60625 224.64 \r\nL 388.40625 224.64 \r\n\" style=\"fill:none;stroke:#000000;stroke-linecap:square;stroke-linejoin:miter;stroke-width:0.8;\"/>\r\n   </g>\r\n   <g id=\"patch_6\">\r\n    <path d=\"M 53.60625 7.2 \r\nL 388.40625 7.2 \r\n\" style=\"fill:none;stroke:#000000;stroke-linecap:square;stroke-linejoin:miter;stroke-width:0.8;\"/>\r\n   </g>\r\n  </g>\r\n </g>\r\n <defs>\r\n  <clipPath id=\"p13e4afd8aa\">\r\n   <rect height=\"217.44\" width=\"334.8\" x=\"53.60625\" y=\"7.2\"/>\r\n  </clipPath>\r\n </defs>\r\n</svg>\r\n",
      "image/png": "[encoded data removed]"
     },
     "metadata": {
      "needs_background": "light"
     }
    }
   ],
   "source": [
    "sns.regplot(x='Month',y='Crude_Oil_Price',data=df)"
   ]
  },
  {
   "cell_type": "code",
   "execution_count": 43,
   "metadata": {},
   "outputs": [],
   "source": [
    "X = df[['Month','Crude_Oil_Price']]\n",
    "scaler = StandardScaler()\n",
    "X = scaler.fit_transform(X)\n",
    "y = df['Diesel_Price']\n",
    "trainX,testX,trainY,testY = train_test_split(X,y,test_size=.2)"
   ]
  },
  {
   "cell_type": "code",
   "execution_count": 44,
   "metadata": {},
   "outputs": [
    {
     "output_type": "execute_result",
     "data": {
      "text/plain": "96.3913873691493"
     },
     "metadata": {},
     "execution_count": 44
    }
   ],
   "source": [
    "model = RandomForestRegressor()\n",
    "model.fit(trainX, trainY)\n",
    "model.score(testX,testY) * 100"
   ]
  },
  {
   "cell_type": "code",
   "execution_count": 45,
   "metadata": {},
   "outputs": [],
   "source": [
    "prediction = {'scale':scaler,'model':model,'info':'pass month as ordinal and crude oil price and it will predict diesel price','accuracy':96.76}"
   ]
  },
  {
   "cell_type": "code",
   "execution_count": 46,
   "metadata": {},
   "outputs": [],
   "source": [
    "with open('models/crude_oil_vs_diesel_prediction_model.pk','wb') as  f:\n",
    "    pickle.dump(prediction, f)"
   ]
  },
  {
   "cell_type": "markdown",
   "metadata": {},
   "source": [
    "CrudeoilvsGasoline.csv"
   ]
  },
  {
   "cell_type": "code",
   "execution_count": 47,
   "metadata": {},
   "outputs": [],
   "source": [
    "df = pd.read_csv('datasets/CrudeoilvsGasoline.csv',parse_dates=['Month'],dayfirst=True)"
   ]
  },
  {
   "cell_type": "code",
   "execution_count": 48,
   "metadata": {},
   "outputs": [],
   "source": [
    "df.columns = ['Month','Crude_Oil_Price','Gasoline_Price']"
   ]
  },
  {
   "cell_type": "code",
   "execution_count": 49,
   "metadata": {},
   "outputs": [
    {
     "output_type": "execute_result",
     "data": {
      "text/plain": "    Month  Crude_Oil_Price  Gasoline_Price\n0  731952          2348.85           65.77\n1  731953          2454.20           69.27\n2  731954          2700.01           84.50\n3  731955          2709.21           93.67\n4  731956          2608.22           76.60",
      "text/html": "<div>\n<style scoped>\n    .dataframe tbody tr th:only-of-type {\n        vertical-align: middle;\n    }\n\n    .dataframe tbody tr th {\n        vertical-align: top;\n    }\n\n    .dataframe thead th {\n        text-align: right;\n    }\n</style>\n<table border=\"1\" class=\"dataframe\">\n  <thead>\n    <tr style=\"text-align: right;\">\n      <th></th>\n      <th>Month</th>\n      <th>Crude_Oil_Price</th>\n      <th>Gasoline_Price</th>\n    </tr>\n  </thead>\n  <tbody>\n    <tr>\n      <td>0</td>\n      <td>731952</td>\n      <td>2348.85</td>\n      <td>65.77</td>\n    </tr>\n    <tr>\n      <td>1</td>\n      <td>731953</td>\n      <td>2454.20</td>\n      <td>69.27</td>\n    </tr>\n    <tr>\n      <td>2</td>\n      <td>731954</td>\n      <td>2700.01</td>\n      <td>84.50</td>\n    </tr>\n    <tr>\n      <td>3</td>\n      <td>731955</td>\n      <td>2709.21</td>\n      <td>93.67</td>\n    </tr>\n    <tr>\n      <td>4</td>\n      <td>731956</td>\n      <td>2608.22</td>\n      <td>76.60</td>\n    </tr>\n  </tbody>\n</table>\n</div>"
     },
     "metadata": {},
     "execution_count": 49
    }
   ],
   "source": [
    "df.Month = df.Month.apply(lambda d:d.toordinal())\n",
    "df.Crude_Oil_Price = df.Crude_Oil_Price.apply(lambda val:float(val.replace(',','')))\n",
    "df.head()"
   ]
  },
  {
   "cell_type": "code",
   "execution_count": 50,
   "metadata": {},
   "outputs": [
    {
     "output_type": "execute_result",
     "data": {
      "text/plain": "96.71657961857484"
     },
     "metadata": {},
     "execution_count": 50
    }
   ],
   "source": [
    "X = df[['Month','Crude_Oil_Price']]\n",
    "scaler = StandardScaler()\n",
    "X = scaler.fit_transform(X)\n",
    "y = df['Gasoline_Price']\n",
    "trainX,testX,trainY,testY = train_test_split(X,y,test_size=.2)\n",
    "model = RandomForestRegressor()\n",
    "model.fit(trainX, trainY)\n",
    "model.score(testX,testY) * 100"
   ]
  },
  {
   "cell_type": "code",
   "execution_count": 51,
   "metadata": {},
   "outputs": [],
   "source": [
    "prediction = {'scale':scaler,'model':model,'info':'pass month as ordinal and crude oil price and it will predict gasoline price','accuracy':97.05}"
   ]
  },
  {
   "cell_type": "code",
   "execution_count": 52,
   "metadata": {},
   "outputs": [],
   "source": [
    "with open('models/crude_oil_vs_gasoline_prediction_model.pk','wb') as  f:\n",
    "    pickle.dump(prediction, f)"
   ]
  },
  {
   "cell_type": "markdown",
   "metadata": {},
   "source": [
    "datasets/Diesel(new).csv"
   ]
  },
  {
   "cell_type": "code",
   "execution_count": 53,
   "metadata": {},
   "outputs": [],
   "source": [
    "df = pd.read_csv('datasets/Diesel(new).csv',parse_dates=['Date'],dayfirst=True)"
   ]
  },
  {
   "cell_type": "code",
   "execution_count": 54,
   "metadata": {},
   "outputs": [
    {
     "output_type": "execute_result",
     "data": {
      "text/plain": "4"
     },
     "metadata": {},
     "execution_count": 54
    }
   ],
   "source": [
    "df.head()\n",
    "df.Cities.nunique()"
   ]
  },
  {
   "cell_type": "code",
   "execution_count": 55,
   "metadata": {},
   "outputs": [],
   "source": [
    "df.Date = df.Date.apply(lambda d:d.toordinal())"
   ]
  },
  {
   "cell_type": "code",
   "execution_count": 56,
   "metadata": {},
   "outputs": [],
   "source": [
    "cityEnc = OneHotEncoder()\n",
    "cityDummies = cityEnc.fit_transform(df[['Cities']]).toarray()"
   ]
  },
  {
   "cell_type": "code",
   "execution_count": 57,
   "metadata": {},
   "outputs": [
    {
     "output_type": "execute_result",
     "data": {
      "text/plain": "     Date  Diesel (Rs./Litre)\n0  737621               81.18\n1  737620               81.05\n2  737619               81.05\n3  737766               80.94\n4  737736               80.78",
      "text/html": "<div>\n<style scoped>\n    .dataframe tbody tr th:only-of-type {\n        vertical-align: middle;\n    }\n\n    .dataframe tbody tr th {\n        vertical-align: top;\n    }\n\n    .dataframe thead th {\n        text-align: right;\n    }\n</style>\n<table border=\"1\" class=\"dataframe\">\n  <thead>\n    <tr style=\"text-align: right;\">\n      <th></th>\n      <th>Date</th>\n      <th>Diesel (Rs./Litre)</th>\n    </tr>\n  </thead>\n  <tbody>\n    <tr>\n      <td>0</td>\n      <td>737621</td>\n      <td>81.18</td>\n    </tr>\n    <tr>\n      <td>1</td>\n      <td>737620</td>\n      <td>81.05</td>\n    </tr>\n    <tr>\n      <td>2</td>\n      <td>737619</td>\n      <td>81.05</td>\n    </tr>\n    <tr>\n      <td>3</td>\n      <td>737766</td>\n      <td>80.94</td>\n    </tr>\n    <tr>\n      <td>4</td>\n      <td>737736</td>\n      <td>80.78</td>\n    </tr>\n  </tbody>\n</table>\n</div>"
     },
     "metadata": {},
     "execution_count": 57
    }
   ],
   "source": [
    "df.drop(['Cities'],axis=1,inplace=True)\n",
    "df.head()"
   ]
  },
  {
   "cell_type": "code",
   "execution_count": 58,
   "metadata": {},
   "outputs": [],
   "source": [
    "data = np.append(cityDummies[:,:-1],df[['Date']],axis=1)"
   ]
  },
  {
   "cell_type": "code",
   "execution_count": 59,
   "metadata": {},
   "outputs": [],
   "source": [
    "y = df['Diesel (Rs./Litre)']"
   ]
  },
  {
   "cell_type": "code",
   "execution_count": 60,
   "metadata": {},
   "outputs": [
    {
     "output_type": "execute_result",
     "data": {
      "text/plain": "92.70591807624126"
     },
     "metadata": {},
     "execution_count": 60
    }
   ],
   "source": [
    "scaler = StandardScaler()\n",
    "X = scaler.fit_transform(data)\n",
    "trainX,testX,trainY,testY = train_test_split(X,y,test_size=.2)\n",
    "model = RandomForestRegressor()\n",
    "model.fit(trainX, trainY)\n",
    "model.score(testX,testY) * 100"
   ]
  },
  {
   "cell_type": "code",
   "execution_count": 61,
   "metadata": {},
   "outputs": [],
   "source": [
    "prediction = {'city_encoder':cityEnc,'scale':scaler,'model':model,'info':'pass date and city name and get price predictin of diesel ','accuracy':90.05}\n",
    "with open('models/diesel_price_prediction.pk','wb') as  f:\n",
    "    pickle.dump(prediction, f)"
   ]
  },
  {
   "cell_type": "markdown",
   "metadata": {},
   "source": [
    "datasets/Petrol(new).csv"
   ]
  },
  {
   "cell_type": "code",
   "execution_count": 62,
   "metadata": {},
   "outputs": [],
   "source": [
    "df = pd.read_csv('datasets/Petrol(new).csv',parse_dates=['Date'],dayfirst=True)"
   ]
  },
  {
   "cell_type": "code",
   "execution_count": 63,
   "metadata": {},
   "outputs": [
    {
     "output_type": "execute_result",
     "data": {
      "text/plain": "        Date Cities  Petrol\n0 2020-07-15  Delhi   80.43\n1 2020-07-14  Delhi   80.43\n2 2020-07-13  Delhi   80.43\n3 2020-12-07  Delhi   80.43\n4 2020-11-07  Delhi   80.43",
      "text/html": "<div>\n<style scoped>\n    .dataframe tbody tr th:only-of-type {\n        vertical-align: middle;\n    }\n\n    .dataframe tbody tr th {\n        vertical-align: top;\n    }\n\n    .dataframe thead th {\n        text-align: right;\n    }\n</style>\n<table border=\"1\" class=\"dataframe\">\n  <thead>\n    <tr style=\"text-align: right;\">\n      <th></th>\n      <th>Date</th>\n      <th>Cities</th>\n      <th>Petrol</th>\n    </tr>\n  </thead>\n  <tbody>\n    <tr>\n      <td>0</td>\n      <td>2020-07-15</td>\n      <td>Delhi</td>\n      <td>80.43</td>\n    </tr>\n    <tr>\n      <td>1</td>\n      <td>2020-07-14</td>\n      <td>Delhi</td>\n      <td>80.43</td>\n    </tr>\n    <tr>\n      <td>2</td>\n      <td>2020-07-13</td>\n      <td>Delhi</td>\n      <td>80.43</td>\n    </tr>\n    <tr>\n      <td>3</td>\n      <td>2020-12-07</td>\n      <td>Delhi</td>\n      <td>80.43</td>\n    </tr>\n    <tr>\n      <td>4</td>\n      <td>2020-11-07</td>\n      <td>Delhi</td>\n      <td>80.43</td>\n    </tr>\n  </tbody>\n</table>\n</div>"
     },
     "metadata": {},
     "execution_count": 63
    }
   ],
   "source": [
    "df.head()"
   ]
  },
  {
   "cell_type": "code",
   "execution_count": 64,
   "metadata": {},
   "outputs": [
    {
     "output_type": "execute_result",
     "data": {
      "text/plain": "4"
     },
     "metadata": {},
     "execution_count": 64
    }
   ],
   "source": [
    "df.Cities.nunique()"
   ]
  },
  {
   "cell_type": "code",
   "execution_count": 65,
   "metadata": {},
   "outputs": [],
   "source": [
    "df.Date = df.Date.apply(lambda d:d.toordinal())"
   ]
  },
  {
   "cell_type": "code",
   "execution_count": 66,
   "metadata": {},
   "outputs": [
    {
     "output_type": "execute_result",
     "data": {
      "text/plain": "     Date  Petrol\n0  737621   80.43\n1  737620   80.43\n2  737619   80.43\n3  737766   80.43\n4  737736   80.43",
      "text/html": "<div>\n<style scoped>\n    .dataframe tbody tr th:only-of-type {\n        vertical-align: middle;\n    }\n\n    .dataframe tbody tr th {\n        vertical-align: top;\n    }\n\n    .dataframe thead th {\n        text-align: right;\n    }\n</style>\n<table border=\"1\" class=\"dataframe\">\n  <thead>\n    <tr style=\"text-align: right;\">\n      <th></th>\n      <th>Date</th>\n      <th>Petrol</th>\n    </tr>\n  </thead>\n  <tbody>\n    <tr>\n      <td>0</td>\n      <td>737621</td>\n      <td>80.43</td>\n    </tr>\n    <tr>\n      <td>1</td>\n      <td>737620</td>\n      <td>80.43</td>\n    </tr>\n    <tr>\n      <td>2</td>\n      <td>737619</td>\n      <td>80.43</td>\n    </tr>\n    <tr>\n      <td>3</td>\n      <td>737766</td>\n      <td>80.43</td>\n    </tr>\n    <tr>\n      <td>4</td>\n      <td>737736</td>\n      <td>80.43</td>\n    </tr>\n  </tbody>\n</table>\n</div>"
     },
     "metadata": {},
     "execution_count": 66
    }
   ],
   "source": [
    "cityEnc = OneHotEncoder()\n",
    "cityDummies = cityEnc.fit_transform(df[['Cities']]).toarray()\n",
    "df.drop(['Cities'],axis=1,inplace=True)\n",
    "df.head()"
   ]
  },
  {
   "cell_type": "code",
   "execution_count": 67,
   "metadata": {},
   "outputs": [],
   "source": [
    "data = np.append(cityDummies[:,:-1],df[['Date']],axis=1)"
   ]
  },
  {
   "cell_type": "code",
   "execution_count": 68,
   "metadata": {},
   "outputs": [],
   "source": [
    "y=df['Petrol']"
   ]
  },
  {
   "cell_type": "code",
   "execution_count": 69,
   "metadata": {},
   "outputs": [
    {
     "output_type": "execute_result",
     "data": {
      "text/plain": "84.08805458495236"
     },
     "metadata": {},
     "execution_count": 69
    }
   ],
   "source": [
    "scaler = StandardScaler()\n",
    "X = scaler.fit_transform(data)\n",
    "trainX,testX,trainY,testY = train_test_split(X,y,test_size=.2)\n",
    "model = RandomForestRegressor(n_estimators=500)\n",
    "model.fit(trainX, trainY)\n",
    "model.score(testX,testY) * 100"
   ]
  },
  {
   "cell_type": "code",
   "execution_count": 70,
   "metadata": {},
   "outputs": [],
   "source": [
    "prediction = {'city_encoder':cityEnc,'scale':scaler,'model':model,'info':'pass date and city name and get price predictin of petrol ','accuracy':90.05}\n",
    "with open('models/petrol_price_prediction.pk','wb') as  f:\n",
    "    pickle.dump(prediction, f)"
   ]
  },
  {
   "cell_type": "code",
   "execution_count": null,
   "metadata": {},
   "outputs": [],
   "source": []
  },
  {
   "cell_type": "code",
   "execution_count": null,
   "metadata": {},
   "outputs": [],
   "source": []
  },
  {
   "cell_type": "code",
   "execution_count": null,
   "metadata": {},
   "outputs": [],
   "source": []
  },
  {
   "cell_type": "code",
   "execution_count": null,
   "metadata": {},
   "outputs": [],
   "source": []
  }
 ],
 "metadata": {
  "language_info": {
   "codemirror_mode": {
    "name": "ipython",
    "version": 3
   },
   "file_extension": ".py",
   "mimetype": "text/x-python",
   "name": "python",
   "nbconvert_exporter": "python",
   "pygments_lexer": "ipython3",
   "version": "3.8.3-final"
  },
  "orig_nbformat": 2,
  "kernelspec": {
   "name": "python_defaultSpec_1595770868975",
   "display_name": "Python 3.8.3 64-bit"
  }
 },
 "nbformat": 4,
 "nbformat_minor": 2
}