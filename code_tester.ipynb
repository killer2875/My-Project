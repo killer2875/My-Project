{
 "cells": [
  {
   "cell_type": "code",
   "execution_count": 1,
   "metadata": {},
   "outputs": [],
   "source": [
    "def cleanChangeVal(val):\n",
    "    if isinstance(val,str):\n",
    "        return float(val.replace('%',''))\n",
    "    else:\n",
    "        return val"
   ]
  },
  {
   "cell_type": "code",
   "execution_count": 2,
   "metadata": {},
   "outputs": [],
   "source": [
    "import pandas as pd\n",
    "import numpy as np\n",
    "import seaborn as sns\n",
    "import matplotlib.pyplot as plt\n",
    "import pandas_profiling as pp\n",
    "from datetime import date\n",
    "import pickle\n"
   ]
  },
  {
   "cell_type": "code",
   "execution_count": 3,
   "metadata": {},
   "outputs": [],
   "source": [
    "from sklearn.impute import SimpleImputer\n",
    "from sklearn.model_selection import train_test_split\n",
    "from sklearn.preprocessing import StandardScaler, LabelEncoder, OneHotEncoder\n",
    "from sklearn.linear_model import LinearRegression\n",
    "from sklearn.neighbors import KNeighborsRegressor\n",
    "from sklearn.ensemble import RandomForestRegressor"
   ]
  },
  {
   "cell_type": "code",
   "execution_count": 4,
   "metadata": {},
   "outputs": [],
   "source": [
    "\n",
    "df = pd.read_csv('datasets/CrudeoilvsDiesel.csv',parse_dates=['Month'],dayfirst=True)\n",
    "df.head()\n",
    "df.columns = ['Month','Crude_Oil_Price','Diesel_Price']"
   ]
  },
  {
   "cell_type": "code",
   "execution_count": 5,
   "metadata": {},
   "outputs": [],
   "source": [
    "df.Month = df.Month.apply(lambda d:d.toordinal())\n",
    "df.Crude_Oil_Price = df.Crude_Oil_Price.apply(lambda val:float(val.replace(',','')))"
   ]
  },
  {
   "cell_type": "code",
   "execution_count": 6,
   "metadata": {},
   "outputs": [
    {
     "output_type": "execute_result",
     "data": {
      "text/plain": "    Month  Crude_Oil_Price  Diesel_Price\n0  732317          3145.13         96.30\n1  732318          3365.75        102.99\n2  732319          3341.97        104.57\n3  732320          2865.03         83.48\n4  732321          2633.08         81.57",
      "text/html": "<div>\n<style scoped>\n    .dataframe tbody tr th:only-of-type {\n        vertical-align: middle;\n    }\n\n    .dataframe tbody tr th {\n        vertical-align: top;\n    }\n\n    .dataframe thead th {\n        text-align: right;\n    }\n</style>\n<table border=\"1\" class=\"dataframe\">\n  <thead>\n    <tr style=\"text-align: right;\">\n      <th></th>\n      <th>Month</th>\n      <th>Crude_Oil_Price</th>\n      <th>Diesel_Price</th>\n    </tr>\n  </thead>\n  <tbody>\n    <tr>\n      <th>0</th>\n      <td>732317</td>\n      <td>3145.13</td>\n      <td>96.30</td>\n    </tr>\n    <tr>\n      <th>1</th>\n      <td>732318</td>\n      <td>3365.75</td>\n      <td>102.99</td>\n    </tr>\n    <tr>\n      <th>2</th>\n      <td>732319</td>\n      <td>3341.97</td>\n      <td>104.57</td>\n    </tr>\n    <tr>\n      <th>3</th>\n      <td>732320</td>\n      <td>2865.03</td>\n      <td>83.48</td>\n    </tr>\n    <tr>\n      <th>4</th>\n      <td>732321</td>\n      <td>2633.08</td>\n      <td>81.57</td>\n    </tr>\n  </tbody>\n</table>\n</div>"
     },
     "metadata": {},
     "execution_count": 6
    }
   ],
   "source": [
    "df.head()"
   ]
  },
  {
   "cell_type": "code",
   "execution_count": 7,
   "metadata": {},
   "outputs": [
    {
     "output_type": "execute_result",
     "data": {
      "text/plain": "<AxesSubplot:xlabel='Month', ylabel='Crude_Oil_Price'>"
     },
     "metadata": {},
     "execution_count": 7
    },
    {
     "output_type": "display_data",
     "data": {
      "text/plain": "<Figure size 576x396 with 1 Axes>",
      "image/svg+xml": "<?xml version=\"1.0\" encoding=\"utf-8\" standalone=\"no\"?>\r\n<!DOCTYPE svg PUBLIC \"-//W3C//DTD SVG 1.1//EN\"\r\n  \"http://www.w3.org/Graphics/SVG/1.1/DTD/svg11.dtd\">\r\n<!-- Created with matplotlib (https://matplotlib.org/) -->\r\n<svg height=\"347.085156pt\" version=\"1.1\" viewBox=\"0 0 517.945526 347.085156\" width=\"517.945526pt\" xmlns=\"http://www.w3.org/2000/svg\" xmlns:xlink=\"http://www.w3.org/1999/xlink\">\r\n <metadata>\r\n  <rdf:RDF xmlns:cc=\"http://creativecommons.org/ns#\" xmlns:dc=\"http://purl.org/dc/elements/1.1/\" xmlns:rdf=\"http://www.w3.org/1999/02/22-rdf-syntax-ns#\">\r\n   <cc:Work>\r\n    <dc:type rdf:resource=\"http://purl.org/dc/dcmitype/StillImage\"/>\r\n    <dc:date>2020-07-23T22:13:00.232471</dc:date>\r\n    <dc:format>image/svg+xml</dc:format>\r\n    <dc:creator>\r\n     <cc:Agent>\r\n      <dc:title>Matplotlib v3.3.0, https://matplotlib.org/</dc:title>\r\n     </cc:Agent>\r\n    </dc:creator>\r\n   </cc:Work>\r\n  </rdf:RDF>\r\n </metadata>\r\n <defs>\r\n  <style type=\"text/css\">*{stroke-linecap:butt;stroke-linejoin:round;}</style>\r\n </defs>\r\n <g id=\"figure_1\">\r\n  <g id=\"patch_1\">\r\n   <path d=\"M 0 347.085156 \r\nL 517.945526 347.085156 \r\nL 517.945526 0 \r\nL 0 0 \r\nz\r\n\" style=\"fill:#ffffff;\"/>\r\n  </g>\r\n  <g id=\"axes_1\">\r\n   <g id=\"patch_2\">\r\n    <path d=\"M 54.144531 306.18 \r\nL 500.544531 306.18 \r\nL 500.544531 7.2 \r\nL 54.144531 7.2 \r\nz\r\n\" style=\"fill:#ffffff;\"/>\r\n   </g>\r\n   <g id=\"matplotlib.axis_1\">\r\n    <g id=\"xtick_1\">\r\n     <g id=\"text_1\">\r\n      <!-- 733000 -->\r\n      <g style=\"fill:#262626;\" transform=\"translate(101.622325 323.837813)scale(0.1 -0.1)\">\r\n       <defs>\r\n        <path d=\"M 4.734375 62.203125 \r\nL 4.734375 70.65625 \r\nL 51.078125 70.65625 \r\nL 51.078125 63.8125 \r\nQ 44.234375 56.546875 37.515625 44.484375 \r\nQ 30.8125 32.421875 27.15625 19.671875 \r\nQ 24.515625 10.6875 23.78125 0 \r\nL 14.75 0 \r\nQ 14.890625 8.453125 18.0625 20.40625 \r\nQ 21.234375 32.375 27.171875 43.484375 \r\nQ 33.109375 54.59375 39.796875 62.203125 \r\nz\r\n\" id=\"ArialMT-55\"/>\r\n        <path d=\"M 4.203125 18.890625 \r\nL 12.984375 20.0625 \r\nQ 14.5 12.59375 18.140625 9.296875 \r\nQ 21.78125 6 27 6 \r\nQ 33.203125 6 37.46875 10.296875 \r\nQ 41.75 14.59375 41.75 20.953125 \r\nQ 41.75 27 37.796875 30.921875 \r\nQ 33.84375 34.859375 27.734375 34.859375 \r\nQ 25.25 34.859375 21.53125 33.890625 \r\nL 22.515625 41.609375 \r\nQ 23.390625 41.5 23.921875 41.5 \r\nQ 29.546875 41.5 34.03125 44.421875 \r\nQ 38.53125 47.359375 38.53125 53.46875 \r\nQ 38.53125 58.296875 35.25 61.46875 \r\nQ 31.984375 64.65625 26.8125 64.65625 \r\nQ 21.6875 64.65625 18.265625 61.421875 \r\nQ 14.84375 58.203125 13.875 51.765625 \r\nL 5.078125 53.328125 \r\nQ 6.6875 62.15625 12.390625 67.015625 \r\nQ 18.109375 71.875 26.609375 71.875 \r\nQ 32.46875 71.875 37.390625 69.359375 \r\nQ 42.328125 66.84375 44.9375 62.5 \r\nQ 47.5625 58.15625 47.5625 53.265625 \r\nQ 47.5625 48.640625 45.0625 44.828125 \r\nQ 42.578125 41.015625 37.703125 38.765625 \r\nQ 44.046875 37.3125 47.5625 32.6875 \r\nQ 51.078125 28.078125 51.078125 21.140625 \r\nQ 51.078125 11.765625 44.234375 5.25 \r\nQ 37.40625 -1.265625 26.953125 -1.265625 \r\nQ 17.53125 -1.265625 11.296875 4.34375 \r\nQ 5.078125 9.96875 4.203125 18.890625 \r\nz\r\n\" id=\"ArialMT-51\"/>\r\n        <path d=\"M 4.15625 35.296875 \r\nQ 4.15625 48 6.765625 55.734375 \r\nQ 9.375 63.484375 14.515625 67.671875 \r\nQ 19.671875 71.875 27.484375 71.875 \r\nQ 33.25 71.875 37.59375 69.546875 \r\nQ 41.9375 67.234375 44.765625 62.859375 \r\nQ 47.609375 58.5 49.21875 52.21875 \r\nQ 50.828125 45.953125 50.828125 35.296875 \r\nQ 50.828125 22.703125 48.234375 14.96875 \r\nQ 45.65625 7.234375 40.5 3 \r\nQ 35.359375 -1.21875 27.484375 -1.21875 \r\nQ 17.140625 -1.21875 11.234375 6.203125 \r\nQ 4.15625 15.140625 4.15625 35.296875 \r\nz\r\nM 13.1875 35.296875 \r\nQ 13.1875 17.671875 17.3125 11.828125 \r\nQ 21.4375 6 27.484375 6 \r\nQ 33.546875 6 37.671875 11.859375 \r\nQ 41.796875 17.71875 41.796875 35.296875 \r\nQ 41.796875 52.984375 37.671875 58.78125 \r\nQ 33.546875 64.59375 27.390625 64.59375 \r\nQ 21.34375 64.59375 17.71875 59.46875 \r\nQ 13.1875 52.9375 13.1875 35.296875 \r\nz\r\n\" id=\"ArialMT-48\"/>\r\n       </defs>\r\n       <use xlink:href=\"#ArialMT-55\"/>\r\n       <use x=\"55.615234\" xlink:href=\"#ArialMT-51\"/>\r\n       <use x=\"111.230469\" xlink:href=\"#ArialMT-51\"/>\r\n       <use x=\"166.845703\" xlink:href=\"#ArialMT-48\"/>\r\n       <use x=\"222.460938\" xlink:href=\"#ArialMT-48\"/>\r\n       <use x=\"278.076172\" xlink:href=\"#ArialMT-48\"/>\r\n      </g>\r\n     </g>\r\n    </g>\r\n    <g id=\"xtick_2\">\r\n     <g id=\"text_2\">\r\n      <!-- 734000 -->\r\n      <g style=\"fill:#262626;\" transform=\"translate(195.561719 323.837813)scale(0.1 -0.1)\">\r\n       <defs>\r\n        <path d=\"M 32.328125 0 \r\nL 32.328125 17.140625 \r\nL 1.265625 17.140625 \r\nL 1.265625 25.203125 \r\nL 33.9375 71.578125 \r\nL 41.109375 71.578125 \r\nL 41.109375 25.203125 \r\nL 50.78125 25.203125 \r\nL 50.78125 17.140625 \r\nL 41.109375 17.140625 \r\nL 41.109375 0 \r\nz\r\nM 32.328125 25.203125 \r\nL 32.328125 57.46875 \r\nL 9.90625 25.203125 \r\nz\r\n\" id=\"ArialMT-52\"/>\r\n       </defs>\r\n       <use xlink:href=\"#ArialMT-55\"/>\r\n       <use x=\"55.615234\" xlink:href=\"#ArialMT-51\"/>\r\n       <use x=\"111.230469\" xlink:href=\"#ArialMT-52\"/>\r\n       <use x=\"166.845703\" xlink:href=\"#ArialMT-48\"/>\r\n       <use x=\"222.460938\" xlink:href=\"#ArialMT-48\"/>\r\n       <use x=\"278.076172\" xlink:href=\"#ArialMT-48\"/>\r\n      </g>\r\n     </g>\r\n    </g>\r\n    <g id=\"xtick_3\">\r\n     <g id=\"text_3\">\r\n      <!-- 735000 -->\r\n      <g style=\"fill:#262626;\" transform=\"translate(289.501113 323.837813)scale(0.1 -0.1)\">\r\n       <defs>\r\n        <path d=\"M 4.15625 18.75 \r\nL 13.375 19.53125 \r\nQ 14.40625 12.796875 18.140625 9.390625 \r\nQ 21.875 6 27.15625 6 \r\nQ 33.5 6 37.890625 10.78125 \r\nQ 42.28125 15.578125 42.28125 23.484375 \r\nQ 42.28125 31 38.0625 35.34375 \r\nQ 33.84375 39.703125 27 39.703125 \r\nQ 22.75 39.703125 19.328125 37.765625 \r\nQ 15.921875 35.84375 13.96875 32.765625 \r\nL 5.71875 33.84375 \r\nL 12.640625 70.609375 \r\nL 48.25 70.609375 \r\nL 48.25 62.203125 \r\nL 19.671875 62.203125 \r\nL 15.828125 42.96875 \r\nQ 22.265625 47.46875 29.34375 47.46875 \r\nQ 38.71875 47.46875 45.15625 40.96875 \r\nQ 51.609375 34.46875 51.609375 24.265625 \r\nQ 51.609375 14.546875 45.953125 7.46875 \r\nQ 39.0625 -1.21875 27.15625 -1.21875 \r\nQ 17.390625 -1.21875 11.203125 4.25 \r\nQ 5.03125 9.71875 4.15625 18.75 \r\nz\r\n\" id=\"ArialMT-53\"/>\r\n       </defs>\r\n       <use xlink:href=\"#ArialMT-55\"/>\r\n       <use x=\"55.615234\" xlink:href=\"#ArialMT-51\"/>\r\n       <use x=\"111.230469\" xlink:href=\"#ArialMT-53\"/>\r\n       <use x=\"166.845703\" xlink:href=\"#ArialMT-48\"/>\r\n       <use x=\"222.460938\" xlink:href=\"#ArialMT-48\"/>\r\n       <use x=\"278.076172\" xlink:href=\"#ArialMT-48\"/>\r\n      </g>\r\n     </g>\r\n    </g>\r\n    <g id=\"xtick_4\">\r\n     <g id=\"text_4\">\r\n      <!-- 736000 -->\r\n      <g style=\"fill:#262626;\" transform=\"translate(383.440507 323.837813)scale(0.1 -0.1)\">\r\n       <defs>\r\n        <path d=\"M 49.75 54.046875 \r\nL 41.015625 53.375 \r\nQ 39.84375 58.546875 37.703125 60.890625 \r\nQ 34.125 64.65625 28.90625 64.65625 \r\nQ 24.703125 64.65625 21.53125 62.3125 \r\nQ 17.390625 59.28125 14.984375 53.46875 \r\nQ 12.59375 47.65625 12.5 36.921875 \r\nQ 15.671875 41.75 20.265625 44.09375 \r\nQ 24.859375 46.4375 29.890625 46.4375 \r\nQ 38.671875 46.4375 44.84375 39.96875 \r\nQ 51.03125 33.5 51.03125 23.25 \r\nQ 51.03125 16.5 48.125 10.71875 \r\nQ 45.21875 4.9375 40.140625 1.859375 \r\nQ 35.0625 -1.21875 28.609375 -1.21875 \r\nQ 17.625 -1.21875 10.6875 6.859375 \r\nQ 3.765625 14.9375 3.765625 33.5 \r\nQ 3.765625 54.25 11.421875 63.671875 \r\nQ 18.109375 71.875 29.4375 71.875 \r\nQ 37.890625 71.875 43.28125 67.140625 \r\nQ 48.6875 62.40625 49.75 54.046875 \r\nz\r\nM 13.875 23.1875 \r\nQ 13.875 18.65625 15.796875 14.5 \r\nQ 17.71875 10.359375 21.1875 8.171875 \r\nQ 24.65625 6 28.46875 6 \r\nQ 34.03125 6 38.03125 10.484375 \r\nQ 42.046875 14.984375 42.046875 22.703125 \r\nQ 42.046875 30.125 38.078125 34.390625 \r\nQ 34.125 38.671875 28.125 38.671875 \r\nQ 22.171875 38.671875 18.015625 34.390625 \r\nQ 13.875 30.125 13.875 23.1875 \r\nz\r\n\" id=\"ArialMT-54\"/>\r\n       </defs>\r\n       <use xlink:href=\"#ArialMT-55\"/>\r\n       <use x=\"55.615234\" xlink:href=\"#ArialMT-51\"/>\r\n       <use x=\"111.230469\" xlink:href=\"#ArialMT-54\"/>\r\n       <use x=\"166.845703\" xlink:href=\"#ArialMT-48\"/>\r\n       <use x=\"222.460938\" xlink:href=\"#ArialMT-48\"/>\r\n       <use x=\"278.076172\" xlink:href=\"#ArialMT-48\"/>\r\n      </g>\r\n     </g>\r\n    </g>\r\n    <g id=\"xtick_5\">\r\n     <g id=\"text_5\">\r\n      <!-- 737000 -->\r\n      <g style=\"fill:#262626;\" transform=\"translate(477.379901 323.837813)scale(0.1 -0.1)\">\r\n       <use xlink:href=\"#ArialMT-55\"/>\r\n       <use x=\"55.615234\" xlink:href=\"#ArialMT-51\"/>\r\n       <use x=\"111.230469\" xlink:href=\"#ArialMT-55\"/>\r\n       <use x=\"166.845703\" xlink:href=\"#ArialMT-48\"/>\r\n       <use x=\"222.460938\" xlink:href=\"#ArialMT-48\"/>\r\n       <use x=\"278.076172\" xlink:href=\"#ArialMT-48\"/>\r\n      </g>\r\n     </g>\r\n    </g>\r\n    <g id=\"text_6\">\r\n     <!-- Month -->\r\n     <g style=\"fill:#262626;\" transform=\"translate(262.059687 337.698906)scale(0.11 -0.11)\">\r\n      <defs>\r\n       <path d=\"M 7.421875 0 \r\nL 7.421875 71.578125 \r\nL 21.6875 71.578125 \r\nL 38.625 20.90625 \r\nQ 40.96875 13.8125 42.046875 10.296875 \r\nQ 43.265625 14.203125 45.84375 21.78125 \r\nL 62.984375 71.578125 \r\nL 75.734375 71.578125 \r\nL 75.734375 0 \r\nL 66.609375 0 \r\nL 66.609375 59.90625 \r\nL 45.796875 0 \r\nL 37.25 0 \r\nL 16.546875 60.9375 \r\nL 16.546875 0 \r\nz\r\n\" id=\"ArialMT-77\"/>\r\n       <path d=\"M 3.328125 25.921875 \r\nQ 3.328125 40.328125 11.328125 47.265625 \r\nQ 18.015625 53.03125 27.640625 53.03125 \r\nQ 38.328125 53.03125 45.109375 46.015625 \r\nQ 51.90625 39.015625 51.90625 26.65625 \r\nQ 51.90625 16.65625 48.90625 10.90625 \r\nQ 45.90625 5.171875 40.15625 2 \r\nQ 34.421875 -1.171875 27.640625 -1.171875 \r\nQ 16.75 -1.171875 10.03125 5.8125 \r\nQ 3.328125 12.796875 3.328125 25.921875 \r\nz\r\nM 12.359375 25.921875 \r\nQ 12.359375 15.96875 16.703125 11.015625 \r\nQ 21.046875 6.0625 27.640625 6.0625 \r\nQ 34.1875 6.0625 38.53125 11.03125 \r\nQ 42.875 16.015625 42.875 26.21875 \r\nQ 42.875 35.84375 38.5 40.796875 \r\nQ 34.125 45.75 27.640625 45.75 \r\nQ 21.046875 45.75 16.703125 40.8125 \r\nQ 12.359375 35.890625 12.359375 25.921875 \r\nz\r\n\" id=\"ArialMT-111\"/>\r\n       <path d=\"M 6.59375 0 \r\nL 6.59375 51.859375 \r\nL 14.5 51.859375 \r\nL 14.5 44.484375 \r\nQ 20.21875 53.03125 31 53.03125 \r\nQ 35.6875 53.03125 39.625 51.34375 \r\nQ 43.5625 49.65625 45.515625 46.921875 \r\nQ 47.46875 44.1875 48.25 40.4375 \r\nQ 48.734375 37.984375 48.734375 31.890625 \r\nL 48.734375 0 \r\nL 39.9375 0 \r\nL 39.9375 31.546875 \r\nQ 39.9375 36.921875 38.90625 39.578125 \r\nQ 37.890625 42.234375 35.28125 43.8125 \r\nQ 32.671875 45.40625 29.15625 45.40625 \r\nQ 23.53125 45.40625 19.453125 41.84375 \r\nQ 15.375 38.28125 15.375 28.328125 \r\nL 15.375 0 \r\nz\r\n\" id=\"ArialMT-110\"/>\r\n       <path d=\"M 25.78125 7.859375 \r\nL 27.046875 0.09375 \r\nQ 23.34375 -0.6875 20.40625 -0.6875 \r\nQ 15.625 -0.6875 12.984375 0.828125 \r\nQ 10.359375 2.34375 9.28125 4.8125 \r\nQ 8.203125 7.28125 8.203125 15.1875 \r\nL 8.203125 45.015625 \r\nL 1.765625 45.015625 \r\nL 1.765625 51.859375 \r\nL 8.203125 51.859375 \r\nL 8.203125 64.703125 \r\nL 16.9375 69.96875 \r\nL 16.9375 51.859375 \r\nL 25.78125 51.859375 \r\nL 25.78125 45.015625 \r\nL 16.9375 45.015625 \r\nL 16.9375 14.703125 \r\nQ 16.9375 10.9375 17.40625 9.859375 \r\nQ 17.875 8.796875 18.921875 8.15625 \r\nQ 19.96875 7.515625 21.921875 7.515625 \r\nQ 23.390625 7.515625 25.78125 7.859375 \r\nz\r\n\" id=\"ArialMT-116\"/>\r\n       <path d=\"M 6.59375 0 \r\nL 6.59375 71.578125 \r\nL 15.375 71.578125 \r\nL 15.375 45.90625 \r\nQ 21.53125 53.03125 30.90625 53.03125 \r\nQ 36.671875 53.03125 40.921875 50.75 \r\nQ 45.171875 48.484375 47 44.484375 \r\nQ 48.828125 40.484375 48.828125 32.859375 \r\nL 48.828125 0 \r\nL 40.046875 0 \r\nL 40.046875 32.859375 \r\nQ 40.046875 39.453125 37.1875 42.453125 \r\nQ 34.328125 45.453125 29.109375 45.453125 \r\nQ 25.203125 45.453125 21.75 43.421875 \r\nQ 18.3125 41.40625 16.84375 37.9375 \r\nQ 15.375 34.46875 15.375 28.375 \r\nL 15.375 0 \r\nz\r\n\" id=\"ArialMT-104\"/>\r\n      </defs>\r\n      <use xlink:href=\"#ArialMT-77\"/>\r\n      <use x=\"83.300781\" xlink:href=\"#ArialMT-111\"/>\r\n      <use x=\"138.916016\" xlink:href=\"#ArialMT-110\"/>\r\n      <use x=\"194.53125\" xlink:href=\"#ArialMT-116\"/>\r\n      <use x=\"222.314453\" xlink:href=\"#ArialMT-104\"/>\r\n     </g>\r\n    </g>\r\n   </g>\r\n   <g id=\"matplotlib.axis_2\">\r\n    <g id=\"ytick_1\">\r\n     <g id=\"text_7\">\r\n      <!-- 2000 -->\r\n      <g style=\"fill:#262626;\" transform=\"translate(21.400781 296.389755)scale(0.1 -0.1)\">\r\n       <defs>\r\n        <path d=\"M 50.34375 8.453125 \r\nL 50.34375 0 \r\nL 3.03125 0 \r\nQ 2.9375 3.171875 4.046875 6.109375 \r\nQ 5.859375 10.9375 9.828125 15.625 \r\nQ 13.8125 20.3125 21.34375 26.46875 \r\nQ 33.015625 36.03125 37.109375 41.625 \r\nQ 41.21875 47.21875 41.21875 52.203125 \r\nQ 41.21875 57.421875 37.46875 61 \r\nQ 33.734375 64.59375 27.734375 64.59375 \r\nQ 21.390625 64.59375 17.578125 60.78125 \r\nQ 13.765625 56.984375 13.71875 50.25 \r\nL 4.6875 51.171875 \r\nQ 5.609375 61.28125 11.65625 66.578125 \r\nQ 17.71875 71.875 27.9375 71.875 \r\nQ 38.234375 71.875 44.234375 66.15625 \r\nQ 50.25 60.453125 50.25 52 \r\nQ 50.25 47.703125 48.484375 43.546875 \r\nQ 46.734375 39.40625 42.65625 34.8125 \r\nQ 38.578125 30.21875 29.109375 22.21875 \r\nQ 21.1875 15.578125 18.9375 13.203125 \r\nQ 16.703125 10.84375 15.234375 8.453125 \r\nz\r\n\" id=\"ArialMT-50\"/>\r\n       </defs>\r\n       <use xlink:href=\"#ArialMT-50\"/>\r\n       <use x=\"55.615234\" xlink:href=\"#ArialMT-48\"/>\r\n       <use x=\"111.230469\" xlink:href=\"#ArialMT-48\"/>\r\n       <use x=\"166.845703\" xlink:href=\"#ArialMT-48\"/>\r\n      </g>\r\n     </g>\r\n    </g>\r\n    <g id=\"ytick_2\">\r\n     <g id=\"text_8\">\r\n      <!-- 3000 -->\r\n      <g style=\"fill:#262626;\" transform=\"translate(21.400781 241.177611)scale(0.1 -0.1)\">\r\n       <use xlink:href=\"#ArialMT-51\"/>\r\n       <use x=\"55.615234\" xlink:href=\"#ArialMT-48\"/>\r\n       <use x=\"111.230469\" xlink:href=\"#ArialMT-48\"/>\r\n       <use x=\"166.845703\" xlink:href=\"#ArialMT-48\"/>\r\n      </g>\r\n     </g>\r\n    </g>\r\n    <g id=\"ytick_3\">\r\n     <g id=\"text_9\">\r\n      <!-- 4000 -->\r\n      <g style=\"fill:#262626;\" transform=\"translate(21.400781 185.965466)scale(0.1 -0.1)\">\r\n       <use xlink:href=\"#ArialMT-52\"/>\r\n       <use x=\"55.615234\" xlink:href=\"#ArialMT-48\"/>\r\n       <use x=\"111.230469\" xlink:href=\"#ArialMT-48\"/>\r\n       <use x=\"166.845703\" xlink:href=\"#ArialMT-48\"/>\r\n      </g>\r\n     </g>\r\n    </g>\r\n    <g id=\"ytick_4\">\r\n     <g id=\"text_10\">\r\n      <!-- 5000 -->\r\n      <g style=\"fill:#262626;\" transform=\"translate(21.400781 130.753322)scale(0.1 -0.1)\">\r\n       <use xlink:href=\"#ArialMT-53\"/>\r\n       <use x=\"55.615234\" xlink:href=\"#ArialMT-48\"/>\r\n       <use x=\"111.230469\" xlink:href=\"#ArialMT-48\"/>\r\n       <use x=\"166.845703\" xlink:href=\"#ArialMT-48\"/>\r\n      </g>\r\n     </g>\r\n    </g>\r\n    <g id=\"ytick_5\">\r\n     <g id=\"text_11\">\r\n      <!-- 6000 -->\r\n      <g style=\"fill:#262626;\" transform=\"translate(21.400781 75.541178)scale(0.1 -0.1)\">\r\n       <use xlink:href=\"#ArialMT-54\"/>\r\n       <use x=\"55.615234\" xlink:href=\"#ArialMT-48\"/>\r\n       <use x=\"111.230469\" xlink:href=\"#ArialMT-48\"/>\r\n       <use x=\"166.845703\" xlink:href=\"#ArialMT-48\"/>\r\n      </g>\r\n     </g>\r\n    </g>\r\n    <g id=\"ytick_6\">\r\n     <g id=\"text_12\">\r\n      <!-- 7000 -->\r\n      <g style=\"fill:#262626;\" transform=\"translate(21.400781 20.329034)scale(0.1 -0.1)\">\r\n       <use xlink:href=\"#ArialMT-55\"/>\r\n       <use x=\"55.615234\" xlink:href=\"#ArialMT-48\"/>\r\n       <use x=\"111.230469\" xlink:href=\"#ArialMT-48\"/>\r\n       <use x=\"166.845703\" xlink:href=\"#ArialMT-48\"/>\r\n      </g>\r\n     </g>\r\n    </g>\r\n    <g id=\"text_13\">\r\n     <!-- Crude_Oil_Price -->\r\n     <g style=\"fill:#262626;\" transform=\"translate(15.214531 197.038516)rotate(-90)scale(0.11 -0.11)\">\r\n      <defs>\r\n       <path d=\"M 58.796875 25.09375 \r\nL 68.265625 22.703125 \r\nQ 65.28125 11.03125 57.546875 4.90625 \r\nQ 49.8125 -1.21875 38.625 -1.21875 \r\nQ 27.046875 -1.21875 19.796875 3.484375 \r\nQ 12.546875 8.203125 8.765625 17.140625 \r\nQ 4.984375 26.078125 4.984375 36.328125 \r\nQ 4.984375 47.515625 9.25 55.828125 \r\nQ 13.53125 64.15625 21.40625 68.46875 \r\nQ 29.296875 72.796875 38.765625 72.796875 \r\nQ 49.515625 72.796875 56.828125 67.328125 \r\nQ 64.15625 61.859375 67.046875 51.953125 \r\nL 57.71875 49.75 \r\nQ 55.21875 57.5625 50.484375 61.125 \r\nQ 45.75 64.703125 38.578125 64.703125 \r\nQ 30.328125 64.703125 24.78125 60.734375 \r\nQ 19.234375 56.78125 16.984375 50.109375 \r\nQ 14.75 43.453125 14.75 36.375 \r\nQ 14.75 27.25 17.40625 20.4375 \r\nQ 20.0625 13.625 25.671875 10.25 \r\nQ 31.296875 6.890625 37.84375 6.890625 \r\nQ 45.796875 6.890625 51.3125 11.46875 \r\nQ 56.84375 16.0625 58.796875 25.09375 \r\nz\r\n\" id=\"ArialMT-67\"/>\r\n       <path d=\"M 6.5 0 \r\nL 6.5 51.859375 \r\nL 14.40625 51.859375 \r\nL 14.40625 44 \r\nQ 17.4375 49.515625 20 51.265625 \r\nQ 22.5625 53.03125 25.640625 53.03125 \r\nQ 30.078125 53.03125 34.671875 50.203125 \r\nL 31.640625 42.046875 \r\nQ 28.421875 43.953125 25.203125 43.953125 \r\nQ 22.3125 43.953125 20.015625 42.21875 \r\nQ 17.71875 40.484375 16.75 37.40625 \r\nQ 15.28125 32.71875 15.28125 27.15625 \r\nL 15.28125 0 \r\nz\r\n\" id=\"ArialMT-114\"/>\r\n       <path d=\"M 40.578125 0 \r\nL 40.578125 7.625 \r\nQ 34.515625 -1.171875 24.125 -1.171875 \r\nQ 19.53125 -1.171875 15.546875 0.578125 \r\nQ 11.578125 2.34375 9.640625 5 \r\nQ 7.71875 7.671875 6.9375 11.53125 \r\nQ 6.390625 14.109375 6.390625 19.734375 \r\nL 6.390625 51.859375 \r\nL 15.1875 51.859375 \r\nL 15.1875 23.09375 \r\nQ 15.1875 16.21875 15.71875 13.8125 \r\nQ 16.546875 10.359375 19.234375 8.375 \r\nQ 21.921875 6.390625 25.875 6.390625 \r\nQ 29.828125 6.390625 33.296875 8.421875 \r\nQ 36.765625 10.453125 38.203125 13.9375 \r\nQ 39.65625 17.4375 39.65625 24.078125 \r\nL 39.65625 51.859375 \r\nL 48.4375 51.859375 \r\nL 48.4375 0 \r\nz\r\n\" id=\"ArialMT-117\"/>\r\n       <path d=\"M 40.234375 0 \r\nL 40.234375 6.546875 \r\nQ 35.296875 -1.171875 25.734375 -1.171875 \r\nQ 19.53125 -1.171875 14.328125 2.25 \r\nQ 9.125 5.671875 6.265625 11.796875 \r\nQ 3.421875 17.921875 3.421875 25.875 \r\nQ 3.421875 33.640625 6 39.96875 \r\nQ 8.59375 46.296875 13.765625 49.65625 \r\nQ 18.953125 53.03125 25.34375 53.03125 \r\nQ 30.03125 53.03125 33.6875 51.046875 \r\nQ 37.359375 49.078125 39.65625 45.90625 \r\nL 39.65625 71.578125 \r\nL 48.390625 71.578125 \r\nL 48.390625 0 \r\nz\r\nM 12.453125 25.875 \r\nQ 12.453125 15.921875 16.640625 10.984375 \r\nQ 20.84375 6.0625 26.5625 6.0625 \r\nQ 32.328125 6.0625 36.34375 10.765625 \r\nQ 40.375 15.484375 40.375 25.140625 \r\nQ 40.375 35.796875 36.265625 40.765625 \r\nQ 32.171875 45.75 26.171875 45.75 \r\nQ 20.3125 45.75 16.375 40.96875 \r\nQ 12.453125 36.1875 12.453125 25.875 \r\nz\r\n\" id=\"ArialMT-100\"/>\r\n       <path d=\"M 42.09375 16.703125 \r\nL 51.171875 15.578125 \r\nQ 49.03125 7.625 43.21875 3.21875 \r\nQ 37.40625 -1.171875 28.375 -1.171875 \r\nQ 17 -1.171875 10.328125 5.828125 \r\nQ 3.65625 12.84375 3.65625 25.484375 \r\nQ 3.65625 38.578125 10.390625 45.796875 \r\nQ 17.140625 53.03125 27.875 53.03125 \r\nQ 38.28125 53.03125 44.875 45.953125 \r\nQ 51.46875 38.875 51.46875 26.03125 \r\nQ 51.46875 25.25 51.421875 23.6875 \r\nL 12.75 23.6875 \r\nQ 13.234375 15.140625 17.578125 10.59375 \r\nQ 21.921875 6.0625 28.421875 6.0625 \r\nQ 33.25 6.0625 36.671875 8.59375 \r\nQ 40.09375 11.140625 42.09375 16.703125 \r\nz\r\nM 13.234375 30.90625 \r\nL 42.1875 30.90625 \r\nQ 41.609375 37.453125 38.875 40.71875 \r\nQ 34.671875 45.796875 27.984375 45.796875 \r\nQ 21.921875 45.796875 17.796875 41.75 \r\nQ 13.671875 37.703125 13.234375 30.90625 \r\nz\r\n\" id=\"ArialMT-101\"/>\r\n       <path d=\"M -1.515625 -19.875 \r\nL -1.515625 -13.53125 \r\nL 56.734375 -13.53125 \r\nL 56.734375 -19.875 \r\nz\r\n\" id=\"ArialMT-95\"/>\r\n       <path d=\"M 4.828125 34.859375 \r\nQ 4.828125 52.6875 14.390625 62.765625 \r\nQ 23.96875 72.859375 39.109375 72.859375 \r\nQ 49.03125 72.859375 56.984375 68.109375 \r\nQ 64.9375 63.375 69.109375 54.90625 \r\nQ 73.296875 46.4375 73.296875 35.6875 \r\nQ 73.296875 24.8125 68.890625 16.21875 \r\nQ 64.5 7.625 56.4375 3.203125 \r\nQ 48.390625 -1.21875 39.0625 -1.21875 \r\nQ 28.953125 -1.21875 20.984375 3.65625 \r\nQ 13.03125 8.546875 8.921875 16.984375 \r\nQ 4.828125 25.4375 4.828125 34.859375 \r\nz\r\nM 14.59375 34.71875 \r\nQ 14.59375 21.78125 21.546875 14.328125 \r\nQ 28.515625 6.890625 39.015625 6.890625 \r\nQ 49.703125 6.890625 56.609375 14.40625 \r\nQ 63.53125 21.921875 63.53125 35.75 \r\nQ 63.53125 44.484375 60.578125 51 \r\nQ 57.625 57.515625 51.921875 61.109375 \r\nQ 46.234375 64.703125 39.15625 64.703125 \r\nQ 29.109375 64.703125 21.84375 57.78125 \r\nQ 14.59375 50.875 14.59375 34.71875 \r\nz\r\n\" id=\"ArialMT-79\"/>\r\n       <path d=\"M 6.640625 61.46875 \r\nL 6.640625 71.578125 \r\nL 15.4375 71.578125 \r\nL 15.4375 61.46875 \r\nz\r\nM 6.640625 0 \r\nL 6.640625 51.859375 \r\nL 15.4375 51.859375 \r\nL 15.4375 0 \r\nz\r\n\" id=\"ArialMT-105\"/>\r\n       <path d=\"M 6.390625 0 \r\nL 6.390625 71.578125 \r\nL 15.1875 71.578125 \r\nL 15.1875 0 \r\nz\r\n\" id=\"ArialMT-108\"/>\r\n       <path d=\"M 7.71875 0 \r\nL 7.71875 71.578125 \r\nL 34.71875 71.578125 \r\nQ 41.84375 71.578125 45.609375 70.90625 \r\nQ 50.875 70.015625 54.4375 67.546875 \r\nQ 58.015625 65.09375 60.1875 60.640625 \r\nQ 62.359375 56.203125 62.359375 50.875 \r\nQ 62.359375 41.75 56.546875 35.421875 \r\nQ 50.734375 29.109375 35.546875 29.109375 \r\nL 17.1875 29.109375 \r\nL 17.1875 0 \r\nz\r\nM 17.1875 37.546875 \r\nL 35.6875 37.546875 \r\nQ 44.875 37.546875 48.734375 40.96875 \r\nQ 52.59375 44.390625 52.59375 50.59375 \r\nQ 52.59375 55.078125 50.3125 58.265625 \r\nQ 48.046875 61.46875 44.34375 62.5 \r\nQ 41.9375 63.140625 35.5 63.140625 \r\nL 17.1875 63.140625 \r\nz\r\n\" id=\"ArialMT-80\"/>\r\n       <path d=\"M 40.4375 19 \r\nL 49.078125 17.875 \r\nQ 47.65625 8.9375 41.8125 3.875 \r\nQ 35.984375 -1.171875 27.484375 -1.171875 \r\nQ 16.84375 -1.171875 10.375 5.78125 \r\nQ 3.90625 12.75 3.90625 25.734375 \r\nQ 3.90625 34.125 6.6875 40.421875 \r\nQ 9.46875 46.734375 15.15625 49.875 \r\nQ 20.84375 53.03125 27.546875 53.03125 \r\nQ 35.984375 53.03125 41.359375 48.75 \r\nQ 46.734375 44.484375 48.25 36.625 \r\nL 39.703125 35.296875 \r\nQ 38.484375 40.53125 35.375 43.15625 \r\nQ 32.28125 45.796875 27.875 45.796875 \r\nQ 21.234375 45.796875 17.078125 41.03125 \r\nQ 12.9375 36.28125 12.9375 25.984375 \r\nQ 12.9375 15.53125 16.9375 10.796875 \r\nQ 20.953125 6.0625 27.390625 6.0625 \r\nQ 32.5625 6.0625 36.03125 9.234375 \r\nQ 39.5 12.40625 40.4375 19 \r\nz\r\n\" id=\"ArialMT-99\"/>\r\n      </defs>\r\n      <use xlink:href=\"#ArialMT-67\"/>\r\n      <use x=\"72.216797\" xlink:href=\"#ArialMT-114\"/>\r\n      <use x=\"105.517578\" xlink:href=\"#ArialMT-117\"/>\r\n      <use x=\"161.132812\" xlink:href=\"#ArialMT-100\"/>\r\n      <use x=\"216.748047\" xlink:href=\"#ArialMT-101\"/>\r\n      <use x=\"272.363281\" xlink:href=\"#ArialMT-95\"/>\r\n      <use x=\"327.978516\" xlink:href=\"#ArialMT-79\"/>\r\n      <use x=\"405.761719\" xlink:href=\"#ArialMT-105\"/>\r\n      <use x=\"427.978516\" xlink:href=\"#ArialMT-108\"/>\r\n      <use x=\"450.195312\" xlink:href=\"#ArialMT-95\"/>\r\n      <use x=\"505.810547\" xlink:href=\"#ArialMT-80\"/>\r\n      <use x=\"572.509766\" xlink:href=\"#ArialMT-114\"/>\r\n      <use x=\"605.810547\" xlink:href=\"#ArialMT-105\"/>\r\n      <use x=\"628.027344\" xlink:href=\"#ArialMT-99\"/>\r\n      <use x=\"678.027344\" xlink:href=\"#ArialMT-101\"/>\r\n     </g>\r\n    </g>\r\n   </g>\r\n   <g id=\"PathCollection_1\">\r\n    <defs>\r\n     <path d=\"M 0 3.5 \r\nC 0.928211 3.5 1.81853 3.131218 2.474874 2.474874 \r\nC 3.131218 1.81853 3.5 0.928211 3.5 0 \r\nC 3.5 -0.928211 3.131218 -1.81853 2.474874 -2.474874 \r\nC 1.81853 -3.131218 0.928211 -3.5 0 -3.5 \r\nC -0.928211 -3.5 -1.81853 -3.131218 -2.474874 -2.474874 \r\nC -3.131218 -1.81853 -3.5 -0.928211 -3.5 0 \r\nC -3.5 0.928211 -3.131218 1.81853 -2.474874 2.474874 \r\nC -1.81853 3.131218 -0.928211 3.5 0 3.5 \r\nz\r\n\" id=\"m8e8eda558b\"/>\r\n    </defs>\r\n    <g clip-path=\"url(#pbc9755f0e3)\">\r\n     <use style=\"fill:#1f77b4;fill-opacity:0.8;\" x=\"54.144531\" xlink:href=\"#m8e8eda558b\" y=\"229.585766\"/>\r\n     <use style=\"fill:#1f77b4;fill-opacity:0.8;\" x=\"54.238471\" xlink:href=\"#m8e8eda558b\" y=\"217.404863\"/>\r\n     <use style=\"fill:#1f77b4;fill-opacity:0.8;\" x=\"54.33241\" xlink:href=\"#m8e8eda558b\" y=\"218.717807\"/>\r\n     <use style=\"fill:#1f77b4;fill-opacity:0.8;\" x=\"54.426349\" xlink:href=\"#m8e8eda558b\" y=\"245.050687\"/>\r\n     <use style=\"fill:#1f77b4;fill-opacity:0.8;\" x=\"54.520289\" xlink:href=\"#m8e8eda558b\" y=\"257.857144\"/>\r\n     <use style=\"fill:#1f77b4;fill-opacity:0.8;\" x=\"54.614228\" xlink:href=\"#m8e8eda558b\" y=\"259.242417\"/>\r\n     <use style=\"fill:#1f77b4;fill-opacity:0.8;\" x=\"54.708168\" xlink:href=\"#m8e8eda558b\" y=\"252.933325\"/>\r\n     <use style=\"fill:#1f77b4;fill-opacity:0.8;\" x=\"87.962713\" xlink:href=\"#m8e8eda558b\" y=\"272.213958\"/>\r\n     <use style=\"fill:#1f77b4;fill-opacity:0.8;\" x=\"88.056652\" xlink:href=\"#m8e8eda558b\" y=\"262.886419\"/>\r\n     <use style=\"fill:#1f77b4;fill-opacity:0.8;\" x=\"88.150592\" xlink:href=\"#m8e8eda558b\" y=\"255.931897\"/>\r\n     <use style=\"fill:#1f77b4;fill-opacity:0.8;\" x=\"88.244531\" xlink:href=\"#m8e8eda558b\" y=\"251.824113\"/>\r\n     <use style=\"fill:#1f77b4;fill-opacity:0.8;\" x=\"88.338471\" xlink:href=\"#m8e8eda558b\" y=\"256.480706\"/>\r\n     <use style=\"fill:#1f77b4;fill-opacity:0.8;\" x=\"88.43241\" xlink:href=\"#m8e8eda558b\" y=\"249.769669\"/>\r\n     <use style=\"fill:#1f77b4;fill-opacity:0.8;\" x=\"88.526349\" xlink:href=\"#m8e8eda558b\" y=\"238.998884\"/>\r\n     <use style=\"fill:#1f77b4;fill-opacity:0.8;\" x=\"88.620289\" xlink:href=\"#m8e8eda558b\" y=\"245.188166\"/>\r\n     <use style=\"fill:#1f77b4;fill-opacity:0.8;\" x=\"88.714228\" xlink:href=\"#m8e8eda558b\" y=\"232.270732\"/>\r\n     <use style=\"fill:#1f77b4;fill-opacity:0.8;\" x=\"88.808168\" xlink:href=\"#m8e8eda558b\" y=\"224.408523\"/>\r\n     <use style=\"fill:#1f77b4;fill-opacity:0.8;\" x=\"88.902107\" xlink:href=\"#m8e8eda558b\" y=\"204.336148\"/>\r\n     <use style=\"fill:#1f77b4;fill-opacity:0.8;\" x=\"88.996046\" xlink:href=\"#m8e8eda558b\" y=\"208.299276\"/>\r\n     <use style=\"fill:#1f77b4;fill-opacity:0.8;\" x=\"122.250592\" xlink:href=\"#m8e8eda558b\" y=\"206.088582\"/>\r\n     <use style=\"fill:#1f77b4;fill-opacity:0.8;\" x=\"122.344531\" xlink:href=\"#m8e8eda558b\" y=\"198.37931\"/>\r\n     <use style=\"fill:#1f77b4;fill-opacity:0.8;\" x=\"122.438471\" xlink:href=\"#m8e8eda558b\" y=\"176.317641\"/>\r\n     <use style=\"fill:#1f77b4;fill-opacity:0.8;\" x=\"122.53241\" xlink:href=\"#m8e8eda558b\" y=\"162.85692\"/>\r\n     <use style=\"fill:#1f77b4;fill-opacity:0.8;\" x=\"122.626349\" xlink:href=\"#m8e8eda558b\" y=\"118.017482\"/>\r\n     <use style=\"fill:#1f77b4;fill-opacity:0.8;\" x=\"122.720289\" xlink:href=\"#m8e8eda558b\" y=\"92.297456\"/>\r\n     <use style=\"fill:#1f77b4;fill-opacity:0.8;\" x=\"122.814228\" xlink:href=\"#m8e8eda558b\" y=\"89.079141\"/>\r\n     <use style=\"fill:#1f77b4;fill-opacity:0.8;\" x=\"122.908168\" xlink:href=\"#m8e8eda558b\" y=\"131.617889\"/>\r\n     <use style=\"fill:#1f77b4;fill-opacity:0.8;\" x=\"123.002107\" xlink:href=\"#m8e8eda558b\" y=\"152.521759\"/>\r\n     <use style=\"fill:#1f77b4;fill-opacity:0.8;\" x=\"123.096046\" xlink:href=\"#m8e8eda558b\" y=\"208.016037\"/>\r\n     <use style=\"fill:#1f77b4;fill-opacity:0.8;\" x=\"123.189986\" xlink:href=\"#m8e8eda558b\" y=\"257.215027\"/>\r\n     <use style=\"fill:#1f77b4;fill-opacity:0.8;\" x=\"123.283925\" xlink:href=\"#m8e8eda558b\" y=\"292.211245\"/>\r\n     <use style=\"fill:#1f77b4;fill-opacity:0.8;\" x=\"156.63241\" xlink:href=\"#m8e8eda558b\" y=\"284.964099\"/>\r\n     <use style=\"fill:#1f77b4;fill-opacity:0.8;\" x=\"156.726349\" xlink:href=\"#m8e8eda558b\" y=\"289.527934\"/>\r\n     <use style=\"fill:#1f77b4;fill-opacity:0.8;\" x=\"156.820289\" xlink:href=\"#m8e8eda558b\" y=\"271.181491\"/>\r\n     <use style=\"fill:#1f77b4;fill-opacity:0.8;\" x=\"156.914228\" xlink:href=\"#m8e8eda558b\" y=\"264.234147\"/>\r\n     <use style=\"fill:#1f77b4;fill-opacity:0.8;\" x=\"157.008168\" xlink:href=\"#m8e8eda558b\" y=\"247.412663\"/>\r\n     <use style=\"fill:#1f77b4;fill-opacity:0.8;\" x=\"157.102107\" xlink:href=\"#m8e8eda558b\" y=\"220.839058\"/>\r\n     <use style=\"fill:#1f77b4;fill-opacity:0.8;\" x=\"157.196046\" xlink:href=\"#m8e8eda558b\" y=\"230.034641\"/>\r\n     <use style=\"fill:#1f77b4;fill-opacity:0.8;\" x=\"157.289986\" xlink:href=\"#m8e8eda558b\" y=\"212.140937\"/>\r\n     <use style=\"fill:#1f77b4;fill-opacity:0.8;\" x=\"157.383925\" xlink:href=\"#m8e8eda558b\" y=\"220.43877\"/>\r\n     <use style=\"fill:#1f77b4;fill-opacity:0.8;\" x=\"157.477865\" xlink:href=\"#m8e8eda558b\" y=\"212.140385\"/>\r\n     <use style=\"fill:#1f77b4;fill-opacity:0.8;\" x=\"157.571804\" xlink:href=\"#m8e8eda558b\" y=\"203.840343\"/>\r\n     <use style=\"fill:#1f77b4;fill-opacity:0.8;\" x=\"157.665743\" xlink:href=\"#m8e8eda558b\" y=\"210.453654\"/>\r\n     <use style=\"fill:#1f77b4;fill-opacity:0.8;\" x=\"190.920289\" xlink:href=\"#m8e8eda558b\" y=\"207.680348\"/>\r\n     <use style=\"fill:#1f77b4;fill-opacity:0.8;\" x=\"191.014228\" xlink:href=\"#m8e8eda558b\" y=\"212.017814\"/>\r\n     <use style=\"fill:#1f77b4;fill-opacity:0.8;\" x=\"191.108168\" xlink:href=\"#m8e8eda558b\" y=\"204.030273\"/>\r\n     <use style=\"fill:#1f77b4;fill-opacity:0.8;\" x=\"191.202107\" xlink:href=\"#m8e8eda558b\" y=\"196.414862\"/>\r\n     <use style=\"fill:#1f77b4;fill-opacity:0.8;\" x=\"191.296046\" xlink:href=\"#m8e8eda558b\" y=\"212.13652\"/>\r\n     <use style=\"fill:#1f77b4;fill-opacity:0.8;\" x=\"191.389986\" xlink:href=\"#m8e8eda558b\" y=\"211.109574\"/>\r\n     <use style=\"fill:#1f77b4;fill-opacity:0.8;\" x=\"191.483925\" xlink:href=\"#m8e8eda558b\" y=\"210.22894\"/>\r\n     <use style=\"fill:#1f77b4;fill-opacity:0.8;\" x=\"191.577865\" xlink:href=\"#m8e8eda558b\" y=\"208.273326\"/>\r\n     <use style=\"fill:#1f77b4;fill-opacity:0.8;\" x=\"191.671804\" xlink:href=\"#m8e8eda558b\" y=\"209.754116\"/>\r\n     <use style=\"fill:#1f77b4;fill-opacity:0.8;\" x=\"191.765743\" xlink:href=\"#m8e8eda558b\" y=\"202.826096\"/>\r\n     <use style=\"fill:#1f77b4;fill-opacity:0.8;\" x=\"191.859683\" xlink:href=\"#m8e8eda558b\" y=\"193.790076\"/>\r\n     <use style=\"fill:#1f77b4;fill-opacity:0.8;\" x=\"191.953622\" xlink:href=\"#m8e8eda558b\" y=\"178.761331\"/>\r\n     <use style=\"fill:#1f77b4;fill-opacity:0.8;\" x=\"225.208168\" xlink:href=\"#m8e8eda558b\" y=\"170.976418\"/>\r\n     <use style=\"fill:#1f77b4;fill-opacity:0.8;\" x=\"225.302107\" xlink:href=\"#m8e8eda558b\" y=\"157.513489\"/>\r\n     <use style=\"fill:#1f77b4;fill-opacity:0.8;\" x=\"225.396046\" xlink:href=\"#m8e8eda558b\" y=\"133.352103\"/>\r\n     <use style=\"fill:#1f77b4;fill-opacity:0.8;\" x=\"225.489986\" xlink:href=\"#m8e8eda558b\" y=\"118.3736\"/>\r\n     <use style=\"fill:#1f77b4;fill-opacity:0.8;\" x=\"225.583925\" xlink:href=\"#m8e8eda558b\" y=\"135.356856\"/>\r\n     <use style=\"fill:#1f77b4;fill-opacity:0.8;\" x=\"225.677865\" xlink:href=\"#m8e8eda558b\" y=\"141.111617\"/>\r\n     <use style=\"fill:#1f77b4;fill-opacity:0.8;\" x=\"225.771804\" xlink:href=\"#m8e8eda558b\" y=\"138.586766\"/>\r\n     <use style=\"fill:#1f77b4;fill-opacity:0.8;\" x=\"225.865743\" xlink:href=\"#m8e8eda558b\" y=\"152.017672\"/>\r\n     <use style=\"fill:#1f77b4;fill-opacity:0.8;\" x=\"225.959683\" xlink:href=\"#m8e8eda558b\" y=\"137.558164\"/>\r\n     <use style=\"fill:#1f77b4;fill-opacity:0.8;\" x=\"226.053622\" xlink:href=\"#m8e8eda558b\" y=\"131.778557\"/>\r\n     <use style=\"fill:#1f77b4;fill-opacity:0.8;\" x=\"226.147562\" xlink:href=\"#m8e8eda558b\" y=\"108.220639\"/>\r\n     <use style=\"fill:#1f77b4;fill-opacity:0.8;\" x=\"226.241501\" xlink:href=\"#m8e8eda558b\" y=\"100.301561\"/>\r\n     <use style=\"fill:#1f77b4;fill-opacity:0.8;\" x=\"259.496046\" xlink:href=\"#m8e8eda558b\" y=\"100.400943\"/>\r\n     <use style=\"fill:#1f77b4;fill-opacity:0.8;\" x=\"259.589986\" xlink:href=\"#m8e8eda558b\" y=\"97.345503\"/>\r\n     <use style=\"fill:#1f77b4;fill-opacity:0.8;\" x=\"259.683925\" xlink:href=\"#m8e8eda558b\" y=\"75.962391\"/>\r\n     <use style=\"fill:#1f77b4;fill-opacity:0.8;\" x=\"259.777865\" xlink:href=\"#m8e8eda558b\" y=\"78.118978\"/>\r\n     <use style=\"fill:#1f77b4;fill-opacity:0.8;\" x=\"259.871804\" xlink:href=\"#m8e8eda558b\" y=\"90.958562\"/>\r\n     <use style=\"fill:#1f77b4;fill-opacity:0.8;\" x=\"259.965743\" xlink:href=\"#m8e8eda558b\" y=\"122.558681\"/>\r\n     <use style=\"fill:#1f77b4;fill-opacity:0.8;\" x=\"260.059683\" xlink:href=\"#m8e8eda558b\" y=\"106.625008\"/>\r\n     <use style=\"fill:#1f77b4;fill-opacity:0.8;\" x=\"260.153622\" xlink:href=\"#m8e8eda558b\" y=\"80.313108\"/>\r\n     <use style=\"fill:#1f77b4;fill-opacity:0.8;\" x=\"260.247562\" xlink:href=\"#m8e8eda558b\" y=\"83.088623\"/>\r\n     <use style=\"fill:#1f77b4;fill-opacity:0.8;\" x=\"260.341501\" xlink:href=\"#m8e8eda558b\" y=\"100.869694\"/>\r\n     <use style=\"fill:#1f77b4;fill-opacity:0.8;\" x=\"260.43544\" xlink:href=\"#m8e8eda558b\" y=\"97.580154\"/>\r\n     <use style=\"fill:#1f77b4;fill-opacity:0.8;\" x=\"260.52938\" xlink:href=\"#m8e8eda558b\" y=\"98.098596\"/>\r\n     <use style=\"fill:#1f77b4;fill-opacity:0.8;\" x=\"293.877865\" xlink:href=\"#m8e8eda558b\" y=\"88.06655\"/>\r\n     <use style=\"fill:#1f77b4;fill-opacity:0.8;\" x=\"293.971804\" xlink:href=\"#m8e8eda558b\" y=\"83.836195\"/>\r\n     <use style=\"fill:#1f77b4;fill-opacity:0.8;\" x=\"294.065743\" xlink:href=\"#m8e8eda558b\" y=\"95.381055\"/>\r\n     <use style=\"fill:#1f77b4;fill-opacity:0.8;\" x=\"294.159683\" xlink:href=\"#m8e8eda558b\" y=\"106.467653\"/>\r\n     <use style=\"fill:#1f77b4;fill-opacity:0.8;\" x=\"294.253622\" xlink:href=\"#m8e8eda558b\" y=\"101.298692\"/>\r\n     <use style=\"fill:#1f77b4;fill-opacity:0.8;\" x=\"294.347562\" xlink:href=\"#m8e8eda558b\" y=\"82.027998\"/>\r\n     <use style=\"fill:#1f77b4;fill-opacity:0.8;\" x=\"294.441501\" xlink:href=\"#m8e8eda558b\" y=\"55.819345\"/>\r\n     <use style=\"fill:#1f77b4;fill-opacity:0.8;\" x=\"294.53544\" xlink:href=\"#m8e8eda558b\" y=\"25.767927\"/>\r\n     <use style=\"fill:#1f77b4;fill-opacity:0.8;\" x=\"294.62938\" xlink:href=\"#m8e8eda558b\" y=\"20.79\"/>\r\n     <use style=\"fill:#1f77b4;fill-opacity:0.8;\" x=\"294.723319\" xlink:href=\"#m8e8eda558b\" y=\"44.479323\"/>\r\n     <use style=\"fill:#1f77b4;fill-opacity:0.8;\" x=\"294.817259\" xlink:href=\"#m8e8eda558b\" y=\"47.901923\"/>\r\n     <use style=\"fill:#1f77b4;fill-opacity:0.8;\" x=\"294.911198\" xlink:href=\"#m8e8eda558b\" y=\"42.463527\"/>\r\n     <use style=\"fill:#1f77b4;fill-opacity:0.8;\" x=\"328.165743\" xlink:href=\"#m8e8eda558b\" y=\"52.969294\"/>\r\n     <use style=\"fill:#1f77b4;fill-opacity:0.8;\" x=\"328.259683\" xlink:href=\"#m8e8eda558b\" y=\"42.739588\"/>\r\n     <use style=\"fill:#1f77b4;fill-opacity:0.8;\" x=\"328.353622\" xlink:href=\"#m8e8eda558b\" y=\"53.024506\"/>\r\n     <use style=\"fill:#1f77b4;fill-opacity:0.8;\" x=\"328.447562\" xlink:href=\"#m8e8eda558b\" y=\"53.764349\"/>\r\n     <use style=\"fill:#1f77b4;fill-opacity:0.8;\" x=\"328.541501\" xlink:href=\"#m8e8eda558b\" y=\"56.882179\"/>\r\n     <use style=\"fill:#1f77b4;fill-opacity:0.8;\" x=\"328.63544\" xlink:href=\"#m8e8eda558b\" y=\"45.954591\"/>\r\n     <use style=\"fill:#1f77b4;fill-opacity:0.8;\" x=\"328.72938\" xlink:href=\"#m8e8eda558b\" y=\"54.266227\"/>\r\n     <use style=\"fill:#1f77b4;fill-opacity:0.8;\" x=\"328.823319\" xlink:href=\"#m8e8eda558b\" y=\"66.851836\"/>\r\n     <use style=\"fill:#1f77b4;fill-opacity:0.8;\" x=\"328.917259\" xlink:href=\"#m8e8eda558b\" y=\"81.034179\"/>\r\n     <use style=\"fill:#1f77b4;fill-opacity:0.8;\" x=\"329.011198\" xlink:href=\"#m8e8eda558b\" y=\"111.668637\"/>\r\n     <use style=\"fill:#1f77b4;fill-opacity:0.8;\" x=\"329.105137\" xlink:href=\"#m8e8eda558b\" y=\"141.058614\"/>\r\n     <use style=\"fill:#1f77b4;fill-opacity:0.8;\" x=\"329.199077\" xlink:href=\"#m8e8eda558b\" y=\"193.067349\"/>\r\n     <use style=\"fill:#1f77b4;fill-opacity:0.8;\" x=\"362.453622\" xlink:href=\"#m8e8eda558b\" y=\"241.618148\"/>\r\n     <use style=\"fill:#1f77b4;fill-opacity:0.8;\" x=\"362.547562\" xlink:href=\"#m8e8eda558b\" y=\"215.596113\"/>\r\n     <use style=\"fill:#1f77b4;fill-opacity:0.8;\" x=\"362.641501\" xlink:href=\"#m8e8eda558b\" y=\"221.077574\"/>\r\n     <use style=\"fill:#1f77b4;fill-opacity:0.8;\" x=\"362.73544\" xlink:href=\"#m8e8eda558b\" y=\"203.862428\"/>\r\n     <use style=\"fill:#1f77b4;fill-opacity:0.8;\" x=\"362.82938\" xlink:href=\"#m8e8eda558b\" y=\"183.00604\"/>\r\n     <use style=\"fill:#1f77b4;fill-opacity:0.8;\" x=\"362.923319\" xlink:href=\"#m8e8eda558b\" y=\"187.063029\"/>\r\n     <use style=\"fill:#1f77b4;fill-opacity:0.8;\" x=\"363.017259\" xlink:href=\"#m8e8eda558b\" y=\"212.283384\"/>\r\n     <use style=\"fill:#1f77b4;fill-opacity:0.8;\" x=\"363.111198\" xlink:href=\"#m8e8eda558b\" y=\"239.080598\"/>\r\n     <use style=\"fill:#1f77b4;fill-opacity:0.8;\" x=\"363.205137\" xlink:href=\"#m8e8eda558b\" y=\"234.041386\"/>\r\n     <use style=\"fill:#1f77b4;fill-opacity:0.8;\" x=\"363.299077\" xlink:href=\"#m8e8eda558b\" y=\"234.509585\"/>\r\n     <use style=\"fill:#1f77b4;fill-opacity:0.8;\" x=\"363.393016\" xlink:href=\"#m8e8eda558b\" y=\"246.022421\"/>\r\n     <use style=\"fill:#1f77b4;fill-opacity:0.8;\" x=\"363.486955\" xlink:href=\"#m8e8eda558b\" y=\"268.771481\"/>\r\n     <use style=\"fill:#1f77b4;fill-opacity:0.8;\" x=\"396.741501\" xlink:href=\"#m8e8eda558b\" y=\"292.59\"/>\r\n     <use style=\"fill:#1f77b4;fill-opacity:0.8;\" x=\"396.83544\" xlink:href=\"#m8e8eda558b\" y=\"286.319005\"/>\r\n     <use style=\"fill:#1f77b4;fill-opacity:0.8;\" x=\"396.92938\" xlink:href=\"#m8e8eda558b\" y=\"264.986688\"/>\r\n     <use style=\"fill:#1f77b4;fill-opacity:0.8;\" x=\"397.023319\" xlink:href=\"#m8e8eda558b\" y=\"253.685867\"/>\r\n     <use style=\"fill:#1f77b4;fill-opacity:0.8;\" x=\"397.117259\" xlink:href=\"#m8e8eda558b\" y=\"233.582021\"/>\r\n     <use style=\"fill:#1f77b4;fill-opacity:0.8;\" x=\"397.211198\" xlink:href=\"#m8e8eda558b\" y=\"226.078138\"/>\r\n     <use style=\"fill:#1f77b4;fill-opacity:0.8;\" x=\"397.305137\" xlink:href=\"#m8e8eda558b\" y=\"239.460458\"/>\r\n     <use style=\"fill:#1f77b4;fill-opacity:0.8;\" x=\"397.399077\" xlink:href=\"#m8e8eda558b\" y=\"237.369022\"/>\r\n     <use style=\"fill:#1f77b4;fill-opacity:0.8;\" x=\"397.493016\" xlink:href=\"#m8e8eda558b\" y=\"237.264671\"/>\r\n     <use style=\"fill:#1f77b4;fill-opacity:0.8;\" x=\"397.586955\" xlink:href=\"#m8e8eda558b\" y=\"221.561785\"/>\r\n     <use style=\"fill:#1f77b4;fill-opacity:0.8;\" x=\"397.680895\" xlink:href=\"#m8e8eda558b\" y=\"234.490813\"/>\r\n     <use style=\"fill:#1f77b4;fill-opacity:0.8;\" x=\"397.774834\" xlink:href=\"#m8e8eda558b\" y=\"205.97098\"/>\r\n     <use style=\"fill:#1f77b4;fill-opacity:0.8;\" x=\"431.123319\" xlink:href=\"#m8e8eda558b\" y=\"201.716884\"/>\r\n     <use style=\"fill:#1f77b4;fill-opacity:0.8;\" x=\"431.217259\" xlink:href=\"#m8e8eda558b\" y=\"201.874791\"/>\r\n     <use style=\"fill:#1f77b4;fill-opacity:0.8;\" x=\"431.311198\" xlink:href=\"#m8e8eda558b\" y=\"217.993424\"/>\r\n     <use style=\"fill:#1f77b4;fill-opacity:0.8;\" x=\"431.405137\" xlink:href=\"#m8e8eda558b\" y=\"217.444063\"/>\r\n     <use style=\"fill:#1f77b4;fill-opacity:0.8;\" x=\"431.499077\" xlink:href=\"#m8e8eda558b\" y=\"225.792692\"/>\r\n     <use style=\"fill:#1f77b4;fill-opacity:0.8;\" x=\"431.593016\" xlink:href=\"#m8e8eda558b\" y=\"238.978456\"/>\r\n     <use style=\"fill:#1f77b4;fill-opacity:0.8;\" x=\"431.686955\" xlink:href=\"#m8e8eda558b\" y=\"233.665943\"/>\r\n     <use style=\"fill:#1f77b4;fill-opacity:0.8;\" x=\"431.780895\" xlink:href=\"#m8e8eda558b\" y=\"226.862151\"/>\r\n     <use style=\"fill:#1f77b4;fill-opacity:0.8;\" x=\"431.874834\" xlink:href=\"#m8e8eda558b\" y=\"214.785598\"/>\r\n     <use style=\"fill:#1f77b4;fill-opacity:0.8;\" x=\"431.968774\" xlink:href=\"#m8e8eda558b\" y=\"205.877671\"/>\r\n     <use style=\"fill:#1f77b4;fill-opacity:0.8;\" x=\"432.062713\" xlink:href=\"#m8e8eda558b\" y=\"188.580811\"/>\r\n     <use style=\"fill:#1f77b4;fill-opacity:0.8;\" x=\"432.156652\" xlink:href=\"#m8e8eda558b\" y=\"186.19675\"/>\r\n     <use style=\"fill:#1f77b4;fill-opacity:0.8;\" x=\"465.411198\" xlink:href=\"#m8e8eda558b\" y=\"170.507115\"/>\r\n     <use style=\"fill:#1f77b4;fill-opacity:0.8;\" x=\"465.505137\" xlink:href=\"#m8e8eda558b\" y=\"177.684694\"/>\r\n     <use style=\"fill:#1f77b4;fill-opacity:0.8;\" x=\"465.599077\" xlink:href=\"#m8e8eda558b\" y=\"172.905531\"/>\r\n     <use style=\"fill:#1f77b4;fill-opacity:0.8;\" x=\"465.693016\" xlink:href=\"#m8e8eda558b\" y=\"153.845746\"/>\r\n     <use style=\"fill:#1f77b4;fill-opacity:0.8;\" x=\"465.786955\" xlink:href=\"#m8e8eda558b\" y=\"129.396705\"/>\r\n     <use style=\"fill:#1f77b4;fill-opacity:0.8;\" x=\"465.880895\" xlink:href=\"#m8e8eda558b\" y=\"133.813676\"/>\r\n     <use style=\"fill:#1f77b4;fill-opacity:0.8;\" x=\"465.974834\" xlink:href=\"#m8e8eda558b\" y=\"127.587955\"/>\r\n     <use style=\"fill:#1f77b4;fill-opacity:0.8;\" x=\"466.068774\" xlink:href=\"#m8e8eda558b\" y=\"130.347458\"/>\r\n     <use style=\"fill:#1f77b4;fill-opacity:0.8;\" x=\"466.162713\" xlink:href=\"#m8e8eda558b\" y=\"102.409009\"/>\r\n     <use style=\"fill:#1f77b4;fill-opacity:0.8;\" x=\"466.256652\" xlink:href=\"#m8e8eda558b\" y=\"91.35885\"/>\r\n     <use style=\"fill:#1f77b4;fill-opacity:0.8;\" x=\"466.350592\" xlink:href=\"#m8e8eda558b\" y=\"156.10061\"/>\r\n     <use style=\"fill:#1f77b4;fill-opacity:0.8;\" x=\"466.444531\" xlink:href=\"#m8e8eda558b\" y=\"192.210457\"/>\r\n     <use style=\"fill:#1f77b4;fill-opacity:0.8;\" x=\"499.699077\" xlink:href=\"#m8e8eda558b\" y=\"182.216507\"/>\r\n     <use style=\"fill:#1f77b4;fill-opacity:0.8;\" x=\"499.793016\" xlink:href=\"#m8e8eda558b\" y=\"162.899986\"/>\r\n     <use style=\"fill:#1f77b4;fill-opacity:0.8;\" x=\"499.886955\" xlink:href=\"#m8e8eda558b\" y=\"158.532705\"/>\r\n     <use style=\"fill:#1f77b4;fill-opacity:0.8;\" x=\"499.980895\" xlink:href=\"#m8e8eda558b\" y=\"140.351898\"/>\r\n     <use style=\"fill:#1f77b4;fill-opacity:0.8;\" x=\"500.074834\" xlink:href=\"#m8e8eda558b\" y=\"145.724592\"/>\r\n     <use style=\"fill:#1f77b4;fill-opacity:0.8;\" x=\"500.168774\" xlink:href=\"#m8e8eda558b\" y=\"174.122958\"/>\r\n     <use style=\"fill:#1f77b4;fill-opacity:0.8;\" x=\"500.262713\" xlink:href=\"#m8e8eda558b\" y=\"169.67562\"/>\r\n     <use style=\"fill:#1f77b4;fill-opacity:0.8;\" x=\"500.356652\" xlink:href=\"#m8e8eda558b\" y=\"176.701366\"/>\r\n     <use style=\"fill:#1f77b4;fill-opacity:0.8;\" x=\"500.450592\" xlink:href=\"#m8e8eda558b\" y=\"166.768701\"/>\r\n     <use style=\"fill:#1f77b4;fill-opacity:0.8;\" x=\"500.544531\" xlink:href=\"#m8e8eda558b\" y=\"178.569192\"/>\r\n    </g>\r\n   </g>\r\n   <g id=\"PolyCollection_1\">\r\n    <defs>\r\n     <path d=\"M 54.144531 -166.731967 \r\nL 54.144531 -135.765658 \r\nL 58.653622 -136.419066 \r\nL 63.162713 -137.018291 \r\nL 67.671804 -137.745226 \r\nL 72.180895 -138.334341 \r\nL 76.689986 -139.014965 \r\nL 81.199077 -139.699872 \r\nL 85.708168 -140.38026 \r\nL 90.217259 -140.976807 \r\nL 94.726349 -141.509207 \r\nL 99.23544 -142.037186 \r\nL 103.744531 -142.565164 \r\nL 108.253622 -143.095335 \r\nL 112.762713 -143.625709 \r\nL 117.271804 -144.115259 \r\nL 121.780895 -144.677402 \r\nL 126.289986 -145.232904 \r\nL 130.799077 -145.74382 \r\nL 135.308168 -146.273668 \r\nL 139.817259 -146.771406 \r\nL 144.326349 -147.332924 \r\nL 148.83544 -147.864034 \r\nL 153.344531 -148.460685 \r\nL 157.853622 -148.985447 \r\nL 162.362713 -149.495586 \r\nL 166.871804 -150.035954 \r\nL 171.380895 -150.5838 \r\nL 175.889986 -151.041356 \r\nL 180.399077 -151.570261 \r\nL 184.908168 -152.222571 \r\nL 189.417259 -152.769797 \r\nL 193.926349 -153.221692 \r\nL 198.43544 -153.886831 \r\nL 202.944531 -154.554137 \r\nL 207.453622 -155.066435 \r\nL 211.962713 -155.604741 \r\nL 216.471804 -156.059243 \r\nL 220.980895 -156.643289 \r\nL 225.489986 -157.167949 \r\nL 229.999077 -157.625087 \r\nL 234.508168 -158.138045 \r\nL 239.017259 -158.716181 \r\nL 243.526349 -159.126696 \r\nL 248.03544 -159.572267 \r\nL 252.544531 -160.043661 \r\nL 257.053622 -160.572362 \r\nL 261.562713 -161.101062 \r\nL 266.071804 -161.553723 \r\nL 270.580895 -161.993025 \r\nL 275.089986 -162.488613 \r\nL 279.599077 -162.902613 \r\nL 284.108168 -163.255934 \r\nL 288.617259 -163.695354 \r\nL 293.126349 -164.089942 \r\nL 297.63544 -164.503821 \r\nL 302.144531 -164.928629 \r\nL 306.653622 -165.366555 \r\nL 311.162713 -165.728982 \r\nL 315.671804 -166.063523 \r\nL 320.180895 -166.453837 \r\nL 324.689986 -166.842172 \r\nL 329.199077 -167.30034 \r\nL 333.708168 -167.62829 \r\nL 338.217259 -168.018821 \r\nL 342.726349 -168.395274 \r\nL 347.23544 -168.791796 \r\nL 351.744531 -169.159924 \r\nL 356.253622 -169.5287 \r\nL 360.762713 -169.823605 \r\nL 365.271804 -170.146021 \r\nL 369.780895 -170.554118 \r\nL 374.289986 -170.969741 \r\nL 378.799077 -171.365584 \r\nL 383.308168 -171.701068 \r\nL 387.817259 -172.039983 \r\nL 392.326349 -172.441507 \r\nL 396.83544 -172.739048 \r\nL 401.344531 -173.172179 \r\nL 405.853622 -173.55897 \r\nL 410.362713 -173.833074 \r\nL 414.871804 -174.107635 \r\nL 419.380895 -174.409384 \r\nL 423.889986 -174.700687 \r\nL 428.399077 -175.025364 \r\nL 432.908168 -175.323027 \r\nL 437.417259 -175.620526 \r\nL 441.926349 -175.879221 \r\nL 446.43544 -176.08684 \r\nL 450.944531 -176.363089 \r\nL 455.453622 -176.608319 \r\nL 459.962713 -176.834669 \r\nL 464.471804 -177.105439 \r\nL 468.980895 -177.377204 \r\nL 473.489986 -177.613636 \r\nL 477.999077 -177.757881 \r\nL 482.508168 -178.008902 \r\nL 487.017259 -178.248125 \r\nL 491.526349 -178.391267 \r\nL 496.03544 -178.494677 \r\nL 500.544531 -178.8556 \r\nL 500.544531 -213.729114 \r\nL 500.544531 -213.729114 \r\nL 496.03544 -213.014306 \r\nL 491.526349 -212.30245 \r\nL 487.017259 -211.591027 \r\nL 482.508168 -210.879603 \r\nL 477.999077 -210.168179 \r\nL 473.489986 -209.456756 \r\nL 468.980895 -208.762574 \r\nL 464.471804 -208.099091 \r\nL 459.962713 -207.432896 \r\nL 455.453622 -206.829794 \r\nL 450.944531 -206.20459 \r\nL 446.43544 -205.440535 \r\nL 441.926349 -204.775682 \r\nL 437.417259 -204.110829 \r\nL 432.908168 -203.445977 \r\nL 428.399077 -202.781124 \r\nL 423.889986 -202.106225 \r\nL 419.380895 -201.369736 \r\nL 414.871804 -200.675528 \r\nL 410.362713 -200.094717 \r\nL 405.853622 -199.46324 \r\nL 401.344531 -198.801405 \r\nL 396.83544 -198.237562 \r\nL 392.326349 -197.719501 \r\nL 387.817259 -197.127804 \r\nL 383.308168 -196.590365 \r\nL 378.799077 -195.988731 \r\nL 374.289986 -195.283778 \r\nL 369.780895 -194.580981 \r\nL 365.271804 -193.875132 \r\nL 360.762713 -193.166698 \r\nL 356.253622 -192.558514 \r\nL 351.744531 -192.073601 \r\nL 347.23544 -191.582014 \r\nL 342.726349 -190.90124 \r\nL 338.217259 -190.218859 \r\nL 333.708168 -189.685986 \r\nL 329.199077 -188.945838 \r\nL 324.689986 -188.205557 \r\nL 320.180895 -187.596677 \r\nL 315.671804 -186.982346 \r\nL 311.162713 -186.379837 \r\nL 306.653622 -185.765969 \r\nL 302.144531 -185.251206 \r\nL 297.63544 -184.582056 \r\nL 293.126349 -184.119029 \r\nL 288.617259 -183.580934 \r\nL 284.108168 -183.254121 \r\nL 279.599077 -182.753923 \r\nL 275.089986 -182.208747 \r\nL 270.580895 -181.693761 \r\nL 266.071804 -181.347421 \r\nL 261.562713 -180.778257 \r\nL 257.053622 -180.392811 \r\nL 252.544531 -179.928785 \r\nL 248.03544 -179.552056 \r\nL 243.526349 -179.140035 \r\nL 239.017259 -178.708168 \r\nL 234.508168 -178.467042 \r\nL 229.999077 -178.084905 \r\nL 225.489986 -177.62724 \r\nL 220.980895 -177.315525 \r\nL 216.471804 -177.026295 \r\nL 211.962713 -176.702411 \r\nL 207.453622 -176.341459 \r\nL 202.944531 -176.011775 \r\nL 198.43544 -175.692482 \r\nL 193.926349 -175.286887 \r\nL 189.417259 -174.877125 \r\nL 184.908168 -174.551336 \r\nL 180.399077 -174.317856 \r\nL 175.889986 -174.116391 \r\nL 171.380895 -173.80696 \r\nL 166.871804 -173.535916 \r\nL 162.362713 -173.1266 \r\nL 157.853622 -172.76045 \r\nL 153.344531 -172.297144 \r\nL 148.83544 -171.97418 \r\nL 144.326349 -171.676045 \r\nL 139.817259 -171.377909 \r\nL 135.308168 -171.341734 \r\nL 130.799077 -171.100907 \r\nL 126.289986 -170.761539 \r\nL 121.780895 -170.494469 \r\nL 117.271804 -170.399828 \r\nL 112.762713 -170.09289 \r\nL 108.253622 -169.936698 \r\nL 103.744531 -169.791762 \r\nL 99.23544 -169.546075 \r\nL 94.726349 -169.298212 \r\nL 90.217259 -169.072693 \r\nL 85.708168 -168.80366 \r\nL 81.199077 -168.531165 \r\nL 76.689986 -168.277754 \r\nL 72.180895 -168.011326 \r\nL 67.671804 -167.688941 \r\nL 63.162713 -167.366555 \r\nL 58.653622 -167.04417 \r\nL 54.144531 -166.731967 \r\nz\r\n\" id=\"m098e515b6c\" style=\"stroke:#ffffff;stroke-opacity:0.15;stroke-width:0.3;\"/>\r\n    </defs>\r\n    <g clip-path=\"url(#pbc9755f0e3)\">\r\n     <use style=\"fill:#1f77b4;fill-opacity:0.15;stroke:#ffffff;stroke-opacity:0.15;stroke-width:0.3;\" x=\"0\" xlink:href=\"#m098e515b6c\" y=\"347.085156\"/>\r\n    </g>\r\n   </g>\r\n   <g id=\"line2d_1\">\r\n    <path clip-path=\"url(#pbc9755f0e3)\" d=\"M 54.144531 196.56363 \r\nL 58.653622 196.121617 \r\nL 63.162713 195.679603 \r\nL 67.671804 195.23759 \r\nL 72.180895 194.795577 \r\nL 76.689986 194.353564 \r\nL 81.199077 193.911551 \r\nL 85.708168 193.469538 \r\nL 90.217259 193.027525 \r\nL 94.726349 192.585512 \r\nL 99.23544 192.143498 \r\nL 103.744531 191.701485 \r\nL 108.253622 191.259472 \r\nL 112.762713 190.817459 \r\nL 117.271804 190.375446 \r\nL 121.780895 189.933433 \r\nL 126.289986 189.49142 \r\nL 130.799077 189.049406 \r\nL 135.308168 188.607393 \r\nL 139.817259 188.16538 \r\nL 144.326349 187.723367 \r\nL 148.83544 187.281354 \r\nL 153.344531 186.839341 \r\nL 157.853622 186.397328 \r\nL 162.362713 185.955314 \r\nL 166.871804 185.513301 \r\nL 171.380895 185.071288 \r\nL 175.889986 184.629275 \r\nL 180.399077 184.187262 \r\nL 184.908168 183.745249 \r\nL 189.417259 183.303236 \r\nL 193.926349 182.861222 \r\nL 198.43544 182.419209 \r\nL 202.944531 181.977196 \r\nL 207.453622 181.535183 \r\nL 211.962713 181.09317 \r\nL 216.471804 180.651157 \r\nL 220.980895 180.209144 \r\nL 225.489986 179.767131 \r\nL 229.999077 179.325117 \r\nL 234.508168 178.883104 \r\nL 239.017259 178.441091 \r\nL 243.526349 177.999078 \r\nL 248.03544 177.557065 \r\nL 252.544531 177.115052 \r\nL 257.053622 176.673039 \r\nL 261.562713 176.231025 \r\nL 266.071804 175.789012 \r\nL 270.580895 175.346999 \r\nL 275.089986 174.904986 \r\nL 279.599077 174.462973 \r\nL 284.108168 174.02096 \r\nL 288.617259 173.578947 \r\nL 293.126349 173.136933 \r\nL 297.63544 172.69492 \r\nL 302.144531 172.252907 \r\nL 306.653622 171.810894 \r\nL 311.162713 171.368881 \r\nL 315.671804 170.926868 \r\nL 320.180895 170.484855 \r\nL 324.689986 170.042842 \r\nL 329.199077 169.600828 \r\nL 333.708168 169.158815 \r\nL 338.217259 168.716802 \r\nL 342.726349 168.274789 \r\nL 347.23544 167.832776 \r\nL 351.744531 167.390763 \r\nL 356.253622 166.94875 \r\nL 360.762713 166.506736 \r\nL 365.271804 166.064723 \r\nL 369.780895 165.62271 \r\nL 374.289986 165.180697 \r\nL 378.799077 164.738684 \r\nL 383.308168 164.296671 \r\nL 387.817259 163.854658 \r\nL 392.326349 163.412644 \r\nL 396.83544 162.970631 \r\nL 401.344531 162.528618 \r\nL 405.853622 162.086605 \r\nL 410.362713 161.644592 \r\nL 414.871804 161.202579 \r\nL 419.380895 160.760566 \r\nL 423.889986 160.318553 \r\nL 428.399077 159.876539 \r\nL 432.908168 159.434526 \r\nL 437.417259 158.992513 \r\nL 441.926349 158.5505 \r\nL 446.43544 158.108487 \r\nL 450.944531 157.666474 \r\nL 455.453622 157.224461 \r\nL 459.962713 156.782447 \r\nL 464.471804 156.340434 \r\nL 468.980895 155.898421 \r\nL 473.489986 155.456408 \r\nL 477.999077 155.014395 \r\nL 482.508168 154.572382 \r\nL 487.017259 154.130369 \r\nL 491.526349 153.688355 \r\nL 496.03544 153.246342 \r\nL 500.544531 152.804329 \r\n\" style=\"fill:none;stroke:#1f77b4;stroke-linecap:round;stroke-width:2.625;\"/>\r\n   </g>\r\n   <g id=\"patch_3\">\r\n    <path d=\"M 54.144531 306.18 \r\nL 54.144531 7.2 \r\n\" style=\"fill:none;\"/>\r\n   </g>\r\n   <g id=\"patch_4\">\r\n    <path d=\"M 500.544531 306.18 \r\nL 500.544531 7.2 \r\n\" style=\"fill:none;\"/>\r\n   </g>\r\n   <g id=\"patch_5\">\r\n    <path d=\"M 54.144531 306.18 \r\nL 500.544531 306.18 \r\n\" style=\"fill:none;\"/>\r\n   </g>\r\n   <g id=\"patch_6\">\r\n    <path d=\"M 54.144531 7.2 \r\nL 500.544531 7.2 \r\n\" style=\"fill:none;\"/>\r\n   </g>\r\n  </g>\r\n </g>\r\n <defs>\r\n  <clipPath id=\"pbc9755f0e3\">\r\n   <rect height=\"298.98\" width=\"446.4\" x=\"54.144531\" y=\"7.2\"/>\r\n  </clipPath>\r\n </defs>\r\n</svg>\r\n",
      "image/png": "[encoded data removed]"
     },
     "metadata": {}
    }
   ],
   "source": [
    "sns.regplot(x='Month',y='Crude_Oil_Price',data=df)"
   ]
  },
  {
   "cell_type": "code",
   "execution_count": 8,
   "metadata": {},
   "outputs": [],
   "source": [
    "X = df[['Month','Crude_Oil_Price']]\n",
    "scaler = StandardScaler()\n",
    "X = scaler.fit_transform(X)\n",
    "y = df['Diesel_Price']\n",
    "trainX,testX,trainY,testY = train_test_split(X,y,test_size=.2)"
   ]
  },
  {
   "cell_type": "code",
   "execution_count": 9,
   "metadata": {},
   "outputs": [
    {
     "output_type": "execute_result",
     "data": {
      "text/plain": "97.94220891294407"
     },
     "metadata": {},
     "execution_count": 9
    }
   ],
   "source": [
    "model = RandomForestRegressor()\n",
    "model.fit(trainX, trainY)\n",
    "model.score(testX,testY) * 100"
   ]
  },
  {
   "cell_type": "code",
   "execution_count": 10,
   "metadata": {},
   "outputs": [],
   "source": [
    "prediction = {'scale':scaler,'model':model,'info':'pass month as ordinal and crude oil price and it will predict diesel price','accuracy':96.76}"
   ]
  },
  {
   "cell_type": "code",
   "execution_count": 11,
   "metadata": {},
   "outputs": [],
   "source": [
    "with open('models/crude_oil_vs_diesel_prediction_model.pk','wb') as  f:\n",
    "    pickle.dump(prediction, f)"
   ]
  },
  {
   "cell_type": "markdown",
   "metadata": {},
   "source": [
    "CrudeoilvsGasoline.csv"
   ]
  },
  {
   "cell_type": "code",
   "execution_count": 12,
   "metadata": {},
   "outputs": [],
   "source": [
    "df = pd.read_csv('datasets/CrudeoilvsGasoline.csv',parse_dates=['Month'],dayfirst=True)"
   ]
  },
  {
   "cell_type": "code",
   "execution_count": 13,
   "metadata": {},
   "outputs": [],
   "source": [
    "df.columns = ['Month','Crude_Oil_Price','Gasoline_Price']"
   ]
  },
  {
   "cell_type": "code",
   "execution_count": 14,
   "metadata": {},
   "outputs": [
    {
     "output_type": "execute_result",
     "data": {
      "text/plain": "    Month  Crude_Oil_Price  Gasoline_Price\n0  731952          2348.85           65.77\n1  731953          2454.20           69.27\n2  731954          2700.01           84.50\n3  731955          2709.21           93.67\n4  731956          2608.22           76.60",
      "text/html": "<div>\n<style scoped>\n    .dataframe tbody tr th:only-of-type {\n        vertical-align: middle;\n    }\n\n    .dataframe tbody tr th {\n        vertical-align: top;\n    }\n\n    .dataframe thead th {\n        text-align: right;\n    }\n</style>\n<table border=\"1\" class=\"dataframe\">\n  <thead>\n    <tr style=\"text-align: right;\">\n      <th></th>\n      <th>Month</th>\n      <th>Crude_Oil_Price</th>\n      <th>Gasoline_Price</th>\n    </tr>\n  </thead>\n  <tbody>\n    <tr>\n      <th>0</th>\n      <td>731952</td>\n      <td>2348.85</td>\n      <td>65.77</td>\n    </tr>\n    <tr>\n      <th>1</th>\n      <td>731953</td>\n      <td>2454.20</td>\n      <td>69.27</td>\n    </tr>\n    <tr>\n      <th>2</th>\n      <td>731954</td>\n      <td>2700.01</td>\n      <td>84.50</td>\n    </tr>\n    <tr>\n      <th>3</th>\n      <td>731955</td>\n      <td>2709.21</td>\n      <td>93.67</td>\n    </tr>\n    <tr>\n      <th>4</th>\n      <td>731956</td>\n      <td>2608.22</td>\n      <td>76.60</td>\n    </tr>\n  </tbody>\n</table>\n</div>"
     },
     "metadata": {},
     "execution_count": 14
    }
   ],
   "source": [
    "df.Month = df.Month.apply(lambda d:d.toordinal())\n",
    "df.Crude_Oil_Price = df.Crude_Oil_Price.apply(lambda val:float(val.replace(',','')))\n",
    "df.head()"
   ]
  },
  {
   "cell_type": "code",
   "execution_count": 15,
   "metadata": {},
   "outputs": [
    {
     "output_type": "execute_result",
     "data": {
      "text/plain": "92.25220477580862"
     },
     "metadata": {},
     "execution_count": 15
    }
   ],
   "source": [
    "X = df[['Month','Crude_Oil_Price']]\n",
    "scaler = StandardScaler()\n",
    "X = scaler.fit_transform(X)\n",
    "y = df['Gasoline_Price']\n",
    "trainX,testX,trainY,testY = train_test_split(X,y,test_size=.2)\n",
    "model = RandomForestRegressor()\n",
    "model.fit(trainX, trainY)\n",
    "model.score(testX,testY) * 100"
   ]
  },
  {
   "cell_type": "code",
   "execution_count": 16,
   "metadata": {},
   "outputs": [],
   "source": [
    "prediction = {'scale':scaler,'model':model,'info':'pass month as ordinal and crude oil price and it will predict gasoline price','accuracy':97.05}"
   ]
  },
  {
   "cell_type": "code",
   "execution_count": 17,
   "metadata": {},
   "outputs": [],
   "source": [
    "with open('models/crude_oil_vs_gasoline_prediction_model.pk','wb') as  f:\n",
    "    pickle.dump(prediction, f)"
   ]
  },
  {
   "cell_type": "markdown",
   "metadata": {},
   "source": [
    "datasets/Diesel(new).csv"
   ]
  },
  {
   "cell_type": "code",
   "execution_count": 18,
   "metadata": {},
   "outputs": [],
   "source": [
    "df = pd.read_csv('datasets/Diesel(new).csv',parse_dates=['Date'],dayfirst=True)"
   ]
  },
  {
   "cell_type": "code",
   "execution_count": 19,
   "metadata": {},
   "outputs": [
    {
     "output_type": "execute_result",
     "data": {
      "text/plain": "4"
     },
     "metadata": {},
     "execution_count": 19
    }
   ],
   "source": [
    "df.head()\n",
    "df.Cities.nunique()"
   ]
  },
  {
   "cell_type": "code",
   "execution_count": 20,
   "metadata": {},
   "outputs": [],
   "source": [
    "df.Date = df.Date.apply(lambda d:d.toordinal())"
   ]
  },
  {
   "cell_type": "code",
   "execution_count": 21,
   "metadata": {},
   "outputs": [],
   "source": [
    "cityEnc = OneHotEncoder()\n",
    "cityDummies = cityEnc.fit_transform(df[['Cities']]).toarray()"
   ]
  },
  {
   "cell_type": "code",
   "execution_count": 22,
   "metadata": {},
   "outputs": [
    {
     "output_type": "execute_result",
     "data": {
      "text/plain": "     Date  Diesel (Rs./Litre)\n0  737621               81.18\n1  737620               81.05\n2  737619               81.05\n3  737766               80.94\n4  737736               80.78",
      "text/html": "<div>\n<style scoped>\n    .dataframe tbody tr th:only-of-type {\n        vertical-align: middle;\n    }\n\n    .dataframe tbody tr th {\n        vertical-align: top;\n    }\n\n    .dataframe thead th {\n        text-align: right;\n    }\n</style>\n<table border=\"1\" class=\"dataframe\">\n  <thead>\n    <tr style=\"text-align: right;\">\n      <th></th>\n      <th>Date</th>\n      <th>Diesel (Rs./Litre)</th>\n    </tr>\n  </thead>\n  <tbody>\n    <tr>\n      <th>0</th>\n      <td>737621</td>\n      <td>81.18</td>\n    </tr>\n    <tr>\n      <th>1</th>\n      <td>737620</td>\n      <td>81.05</td>\n    </tr>\n    <tr>\n      <th>2</th>\n      <td>737619</td>\n      <td>81.05</td>\n    </tr>\n    <tr>\n      <th>3</th>\n      <td>737766</td>\n      <td>80.94</td>\n    </tr>\n    <tr>\n      <th>4</th>\n      <td>737736</td>\n      <td>80.78</td>\n    </tr>\n  </tbody>\n</table>\n</div>"
     },
     "metadata": {},
     "execution_count": 22
    }
   ],
   "source": [
    "df.drop(['Cities'],axis=1,inplace=True)\n",
    "df.head()"
   ]
  },
  {
   "cell_type": "code",
   "execution_count": 23,
   "metadata": {},
   "outputs": [],
   "source": [
    "data = np.append(cityDummies[:,:-1],df[['Date']],axis=1)"
   ]
  },
  {
   "cell_type": "code",
   "execution_count": 24,
   "metadata": {},
   "outputs": [],
   "source": [
    "y = df['Diesel (Rs./Litre)']"
   ]
  },
  {
   "cell_type": "code",
   "execution_count": 25,
   "metadata": {},
   "outputs": [
    {
     "output_type": "execute_result",
     "data": {
      "text/plain": "91.28967804960133"
     },
     "metadata": {},
     "execution_count": 25
    }
   ],
   "source": [
    "scaler = StandardScaler()\n",
    "X = scaler.fit_transform(data)\n",
    "trainX,testX,trainY,testY = train_test_split(X,y,test_size=.2)\n",
    "model = RandomForestRegressor()\n",
    "model.fit(trainX, trainY)\n",
    "model.score(testX,testY) * 100"
   ]
  },
  {
   "cell_type": "code",
   "execution_count": 26,
   "metadata": {},
   "outputs": [],
   "source": [
    "prediction = {'city_encoder':cityEnc,'scale':scaler,'model':model,'info':'pass date and city name and get price predictin of diesel ','accuracy':90.05}\n",
    "with open('models/diesel_price_prediction.pk','wb') as  f:\n",
    "    pickle.dump(prediction, f)"
   ]
  },
  {
   "cell_type": "markdown",
   "metadata": {},
   "source": [
    "datasets/Petrol(new).csv"
   ]
  },
  {
   "cell_type": "code",
   "execution_count": 27,
   "metadata": {},
   "outputs": [],
   "source": [
    "df = pd.read_csv('datasets/Petrol(new).csv',parse_dates=['Date'],dayfirst=True)"
   ]
  },
  {
   "cell_type": "code",
   "execution_count": 28,
   "metadata": {},
   "outputs": [
    {
     "output_type": "execute_result",
     "data": {
      "text/plain": "        Date Cities  Petrol\n0 2020-07-15  Delhi   80.43\n1 2020-07-14  Delhi   80.43\n2 2020-07-13  Delhi   80.43\n3 2020-12-07  Delhi   80.43\n4 2020-11-07  Delhi   80.43",
      "text/html": "<div>\n<style scoped>\n    .dataframe tbody tr th:only-of-type {\n        vertical-align: middle;\n    }\n\n    .dataframe tbody tr th {\n        vertical-align: top;\n    }\n\n    .dataframe thead th {\n        text-align: right;\n    }\n</style>\n<table border=\"1\" class=\"dataframe\">\n  <thead>\n    <tr style=\"text-align: right;\">\n      <th></th>\n      <th>Date</th>\n      <th>Cities</th>\n      <th>Petrol</th>\n    </tr>\n  </thead>\n  <tbody>\n    <tr>\n      <th>0</th>\n      <td>2020-07-15</td>\n      <td>Delhi</td>\n      <td>80.43</td>\n    </tr>\n    <tr>\n      <th>1</th>\n      <td>2020-07-14</td>\n      <td>Delhi</td>\n      <td>80.43</td>\n    </tr>\n    <tr>\n      <th>2</th>\n      <td>2020-07-13</td>\n      <td>Delhi</td>\n      <td>80.43</td>\n    </tr>\n    <tr>\n      <th>3</th>\n      <td>2020-12-07</td>\n      <td>Delhi</td>\n      <td>80.43</td>\n    </tr>\n    <tr>\n      <th>4</th>\n      <td>2020-11-07</td>\n      <td>Delhi</td>\n      <td>80.43</td>\n    </tr>\n  </tbody>\n</table>\n</div>"
     },
     "metadata": {},
     "execution_count": 28
    }
   ],
   "source": [
    "df.head()"
   ]
  },
  {
   "cell_type": "code",
   "execution_count": 29,
   "metadata": {},
   "outputs": [
    {
     "output_type": "execute_result",
     "data": {
      "text/plain": "4"
     },
     "metadata": {},
     "execution_count": 29
    }
   ],
   "source": [
    "df.Cities.nunique()"
   ]
  },
  {
   "cell_type": "code",
   "execution_count": 30,
   "metadata": {},
   "outputs": [],
   "source": [
    "df.Date = df.Date.apply(lambda d:d.toordinal())"
   ]
  },
  {
   "cell_type": "code",
   "execution_count": 31,
   "metadata": {},
   "outputs": [
    {
     "output_type": "execute_result",
     "data": {
      "text/plain": "     Date  Petrol\n0  737621   80.43\n1  737620   80.43\n2  737619   80.43\n3  737766   80.43\n4  737736   80.43",
      "text/html": "<div>\n<style scoped>\n    .dataframe tbody tr th:only-of-type {\n        vertical-align: middle;\n    }\n\n    .dataframe tbody tr th {\n        vertical-align: top;\n    }\n\n    .dataframe thead th {\n        text-align: right;\n    }\n</style>\n<table border=\"1\" class=\"dataframe\">\n  <thead>\n    <tr style=\"text-align: right;\">\n      <th></th>\n      <th>Date</th>\n      <th>Petrol</th>\n    </tr>\n  </thead>\n  <tbody>\n    <tr>\n      <th>0</th>\n      <td>737621</td>\n      <td>80.43</td>\n    </tr>\n    <tr>\n      <th>1</th>\n      <td>737620</td>\n      <td>80.43</td>\n    </tr>\n    <tr>\n      <th>2</th>\n      <td>737619</td>\n      <td>80.43</td>\n    </tr>\n    <tr>\n      <th>3</th>\n      <td>737766</td>\n      <td>80.43</td>\n    </tr>\n    <tr>\n      <th>4</th>\n      <td>737736</td>\n      <td>80.43</td>\n    </tr>\n  </tbody>\n</table>\n</div>"
     },
     "metadata": {},
     "execution_count": 31
    }
   ],
   "source": [
    "cityEnc = OneHotEncoder()\n",
    "cityDummies = cityEnc.fit_transform(df[['Cities']]).toarray()\n",
    "df.drop(['Cities'],axis=1,inplace=True)\n",
    "df.head()"
   ]
  },
  {
   "cell_type": "code",
   "execution_count": 32,
   "metadata": {},
   "outputs": [],
   "source": [
    "data = np.append(cityDummies[:,:-1],df[['Date']],axis=1)"
   ]
  },
  {
   "cell_type": "code",
   "execution_count": 33,
   "metadata": {},
   "outputs": [],
   "source": [
    "y=df['Petrol']"
   ]
  },
  {
   "cell_type": "code",
   "execution_count": 38,
   "metadata": {},
   "outputs": [
    {
     "output_type": "execute_result",
     "data": {
      "text/plain": "84.65334807375"
     },
     "metadata": {},
     "execution_count": 38
    }
   ],
   "source": [
    "scaler = StandardScaler()\n",
    "X = scaler.fit_transform(data)\n",
    "trainX,testX,trainY,testY = train_test_split(X,y,test_size=.2)\n",
    "model = RandomForestRegressor(n_estimators=500)\n",
    "model.fit(trainX, trainY)\n",
    "model.score(testX,testY) * 100"
   ]
  },
  {
   "cell_type": "code",
   "execution_count": 35,
   "metadata": {},
   "outputs": [],
   "source": [
    "prediction = {'city_encoder':cityEnc,'scale':scaler,'model':model,'info':'pass date and city name and get price predictin of petrol ','accuracy':90.05}\n",
    "with open('models/petrol_price_prediction.pk','wb') as  f:\n",
    "    pickle.dump(prediction, f)"
   ]
  },
  {
   "cell_type": "code",
   "execution_count": null,
   "metadata": {},
   "outputs": [],
   "source": []
  },
  {
   "cell_type": "code",
   "execution_count": null,
   "metadata": {},
   "outputs": [],
   "source": []
  },
  {
   "cell_type": "code",
   "execution_count": null,
   "metadata": {},
   "outputs": [],
   "source": []
  },
  {
   "cell_type": "code",
   "execution_count": null,
   "metadata": {},
   "outputs": [],
   "source": []
  }
 ],
 "metadata": {
  "language_info": {
   "codemirror_mode": {
    "name": "ipython",
    "version": 3
   },
   "file_extension": ".py",
   "mimetype": "text/x-python",
   "name": "python",
   "nbconvert_exporter": "python",
   "pygments_lexer": "ipython3",
   "version": "3.8.3-final"
  },
  "orig_nbformat": 2,
  "kernelspec": {
   "name": "python_defaultSpec_1595522553049",
   "display_name": "Python 3.8.3 64-bit"
  }
 },
 "nbformat": 4,
 "nbformat_minor": 2
}